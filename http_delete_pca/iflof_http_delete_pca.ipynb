{
 "cells": [
  {
   "cell_type": "code",
   "execution_count": 1,
   "id": "3c40925f",
   "metadata": {},
   "outputs": [],
   "source": [
    "from sklearn import datasets\n",
    "from sklearn import preprocessing\n",
    "from sklearn.model_selection import train_test_split\n",
    "from sklearn.decomposition import PCA\n",
    "from sklearn.ensemble import IsolationForest\n",
    "from sklearn.neighbors import LocalOutlierFactor\n",
    "from sklearn import svm\n",
    "from sklearn.neighbors import NearestNeighbors\n",
    "\n",
    "from sklearn.metrics import classification_report\n",
    "from sklearn.metrics import confusion_matrix\n",
    "from sklearn.metrics import recall_score\n",
    "from sklearn.metrics import roc_auc_score\n",
    "from sklearn.model_selection import GridSearchCV\n",
    "from sklearn.metrics import make_scorer\n",
    "from sklearn.metrics import accuracy_score\n",
    "\n",
    "import pandas as pd\n",
    "import numpy as np\n",
    "import itertools\n",
    "import matplotlib.pyplot as plt\n",
    "import time"
   ]
  },
  {
   "cell_type": "code",
   "execution_count": 2,
   "id": "95cfe860",
   "metadata": {},
   "outputs": [
    {
     "name": "stderr",
     "output_type": "stream",
     "text": [
      "C:\\Users\\Qin\\Anaconda3\\lib\\site-packages\\ipykernel_launcher.py:1: DeprecationWarning: time.clock has been deprecated in Python 3.3 and will be removed from Python 3.8: use time.perf_counter or time.process_time instead\n",
      "  \"\"\"Entry point for launching an IPython kernel.\n"
     ]
    }
   ],
   "source": [
    "first = time.clock()"
   ]
  },
  {
   "cell_type": "code",
   "execution_count": 3,
   "id": "7f4a029b",
   "metadata": {},
   "outputs": [],
   "source": [
    "def byte_decoder(val):\n",
    "    # decodes byte literals to strings\n",
    "    \n",
    "    return val.decode('utf-8')"
   ]
  },
  {
   "cell_type": "code",
   "execution_count": 4,
   "id": "f31e3fee",
   "metadata": {},
   "outputs": [],
   "source": [
    "def plot_confusion_matrix(cm, title, classes=['abnormal', 'normal'],\n",
    "                          cmap=plt.cm.Blues, save=False, saveas=\"MyFigure.png\"):\n",
    "    \n",
    "    # print Confusion matrix with blue gradient colours\n",
    "    \n",
    "    cm = cm.astype('float') / cm.sum(axis=1)[:, np.newaxis]\n",
    "    \n",
    "    plt.imshow(cm, interpolation='nearest', cmap=cmap)\n",
    "    plt.title(title)\n",
    "    plt.colorbar()\n",
    "    tick_marks = np.arange(len(classes))\n",
    "    plt.xticks(tick_marks, classes, rotation=90)\n",
    "    plt.yticks(tick_marks, classes)\n",
    "\n",
    "    fmt = '.1%'\n",
    "    thresh = cm.max() / 2.\n",
    "    for i, j in itertools.product(range(cm.shape[0]), range(cm.shape[1])):\n",
    "        plt.text(j, i, format(cm[i, j], fmt),\n",
    "                 horizontalalignment=\"center\",\n",
    "                 color=\"white\" if cm[i, j] > thresh else \"black\")\n",
    "\n",
    "    plt.tight_layout()\n",
    "    plt.ylabel('True label')\n",
    "    plt.xlabel('Predicted label')\n",
    "    \n",
    "    if save:\n",
    "        plt.savefig(saveas, dpi=100)"
   ]
  },
  {
   "cell_type": "code",
   "execution_count": 5,
   "id": "be1b80c8",
   "metadata": {},
   "outputs": [],
   "source": [
    "def plot_gridsearch_cv(results, estimator, x_min, x_max, y_min, y_max,save=False, saveas=\"MyFigure.png\"):\n",
    "    \n",
    "    # print GridSearch cross-validation for parameters\n",
    "    \n",
    "    plt.figure(figsize=(10,8))\n",
    "    plt.title(\"GridSearchCV for \"+estimator, fontsize=24)\n",
    "\n",
    "    plt.xlabel(estimator)\n",
    "    plt.ylabel(\"Score\")\n",
    "    plt.grid()\n",
    "\n",
    "    ax = plt.axes()\n",
    "    ax.set_xlim(x_min, x_max)\n",
    "    ax.set_ylim(y_min, y_max)\n",
    "\n",
    "    pad = 0.005\n",
    "    X_axis = np.array(results[\"param_\"+estimator].data, dtype=float)\n",
    "\n",
    "    for scorer, color in zip(sorted(scoring), ['b', 'k']):\n",
    "        for sample, style in (('train', '--'), ('test', '-')):\n",
    "            sample_score_mean = results['mean_%s_%s' % (sample, scorer)]\n",
    "            sample_score_std = results['std_%s_%s' % (sample, scorer)]\n",
    "            ax.fill_between(X_axis, sample_score_mean - sample_score_std,\n",
    "                        sample_score_mean + sample_score_std,\n",
    "                        alpha=0.1 if sample == 'test' else 0, color=color)\n",
    "            ax.plot(X_axis, sample_score_mean, style, color=color,\n",
    "                alpha=1 if sample == 'test' else 0.7,\n",
    "                label=\"%s (%s)\" % (scorer, sample))\n",
    "\n",
    "        best_index = np.nonzero(results['rank_test_%s' % scorer] == 1)[0][0]\n",
    "        best_score = results['mean_test_%s' % scorer][best_index]\n",
    "\n",
    "        # Plot a dotted vertical line at the best score for that scorer marked by x\n",
    "        ax.plot([X_axis[best_index], ] * 2, [0, best_score],\n",
    "            linestyle='-.', color=color, marker='x', markeredgewidth=3, ms=8)\n",
    "\n",
    "        # Annotate the best score for that scorer\n",
    "        ax.annotate(\"%0.5f\" % best_score,\n",
    "                (X_axis[best_index], best_score+pad))\n",
    "\n",
    "    plt.legend(loc=\"best\")\n",
    "    plt.grid('off')\n",
    "    plt.tight_layout()\n",
    "    if save:\n",
    "        plt.savefig(saveas, dpi=100)\n",
    "        \n",
    "    plt.show()"
   ]
  },
  {
   "cell_type": "code",
   "execution_count": 6,
   "id": "9fe940a3",
   "metadata": {},
   "outputs": [],
   "source": [
    "# target = 'target'\n",
    "# sf = datasets.fetch_kddcup99(subset='SF', percent10=False)\n",
    "# dfSF=pd.DataFrame(sf.data, \n",
    "#                   columns=[\"duration\", \"service\", \"src_bytes\", \"dst_bytes\"])\n",
    "# assert len(dfSF)>0, \"SF dataset no loaded.\"\n",
    "\n",
    "# dfSF[target]=sf.target\n",
    "# anomaly_rateSF = 1.0 - len(dfSF.loc[dfSF[target]==b'normal.'])/len(dfSF)\n",
    "\n",
    "# \"SF Anomaly Rate is:\"+\"{:.1%}\".format(anomaly_rateSF)"
   ]
  },
  {
   "cell_type": "code",
   "execution_count": 7,
   "id": "f73c2ca0",
   "metadata": {},
   "outputs": [],
   "source": [
    "# 手动添加特征，训练集42，测试集41\n",
    "\n",
    "feather = ['duration', 'protocol_type', 'service', 'flag', 'src_bytes', 'dst_bytes', 'land', 'wrong_fragment', 'urgent', 'hot', \n",
    "           'num_failed_logins', 'logged_in', 'lnum_compromised', 'lroot_shell', 'lsu_attempted', 'lnum_root', 'lnum_file_creations', \n",
    "           'lnum_shells', 'lnum_access_files', 'lnum_outbound_cmds', 'is_host_login', 'is_guest_login', 'count', 'srv_count', 'serror_rate', \n",
    "           'srv_serror_rate', 'rerror_rate', 'srv_rerror_rate', 'same_srv_rate', 'diff_srv_rate', 'srv_diff_host_rate', 'dst_host_count', \n",
    "           'dst_host_srv_count', 'dst_host_same_srv_rate', 'dst_host_diff_srv_rate', 'dst_host_same_src_port_rate', 'dst_host_srv_diff_host_rate', \n",
    "           'dst_host_serror_rate', 'dst_host_srv_serror_rate', 'dst_host_rerror_rate', 'dst_host_srv_rerror_rate', 'label']"
   ]
  },
  {
   "cell_type": "code",
   "execution_count": 8,
   "id": "eda981e9",
   "metadata": {},
   "outputs": [],
   "source": [
    "# TRAIN_DATA_PATH = 'C:\\\\Users\\\\Qin\\\\Desktop\\\\UNSW-NB 15\\\\UNSW_NB15_training-set.csv'\n",
    "TRAIN_DATA_PATH = 'C:\\\\Users\\\\Qin\\\\Desktop\\\\kddcup\\\\train_10_percent_kddcup.csv'\n",
    "TEST_DATA_PATH = 'C:\\\\Users\\\\Qin\\\\Desktop\\\\kddcup\\\\test_10_percent_kddcup.csv'"
   ]
  },
  {
   "cell_type": "code",
   "execution_count": 9,
   "id": "0d52a8c6",
   "metadata": {},
   "outputs": [
    {
     "name": "stderr",
     "output_type": "stream",
     "text": [
      "C:\\Users\\Qin\\Anaconda3\\lib\\site-packages\\IPython\\core\\interactiveshell.py:3166: DtypeWarning: Columns (2) have mixed types. Specify dtype option on import or set low_memory=False.\n",
      "  interactivity=interactivity, compiler=compiler, result=result)\n"
     ]
    }
   ],
   "source": [
    "train_df = pd.read_csv(TRAIN_DATA_PATH, header = None, names = feather)\n",
    "test_df = pd.read_csv(TEST_DATA_PATH, header = None, names = feather)"
   ]
  },
  {
   "cell_type": "code",
   "execution_count": 10,
   "id": "23939c51",
   "metadata": {},
   "outputs": [],
   "source": [
    "train_df = train_df[train_df['service'] == 21]"
   ]
  },
  {
   "cell_type": "code",
   "execution_count": 11,
   "id": "0a1fffae",
   "metadata": {},
   "outputs": [],
   "source": [
    "train_df = train_df[train_df['label'] == 0]\n",
    "y_label = test_df.iloc[ : , 41 : 42]"
   ]
  },
  {
   "cell_type": "code",
   "execution_count": 12,
   "id": "ded7b972",
   "metadata": {},
   "outputs": [],
   "source": [
    "# 删除所有分类列\n",
    "train_df.drop(['protocol_type', 'service', 'flag', 'land', 'logged_in', 'is_host_login', 'is_guest_login', 'label'], axis = 1, inplace = True)\n",
    "# 删除无标准偏差的列\n",
    "train_df.drop(['wrong_fragment', 'urgent', 'num_failed_logins', 'lsu_attempted', 'lnum_file_creations', 'lnum_outbound_cmds'], axis = 1, inplace = True)\n",
    "\n",
    "# 删除所有分类列\n",
    "test_df.drop(['protocol_type', 'service', 'flag', 'land', 'logged_in', 'is_host_login', 'is_guest_login', 'label'], axis = 1, inplace = True)\n",
    "# 删除无标准偏差的列\n",
    "test_df.drop(['wrong_fragment', 'urgent', 'num_failed_logins', 'lsu_attempted', 'lnum_file_creations', 'lnum_outbound_cmds'], axis = 1, inplace = True)"
   ]
  },
  {
   "cell_type": "code",
   "execution_count": 13,
   "id": "5c7973fa",
   "metadata": {},
   "outputs": [],
   "source": [
    "# train\n",
    "# 采用主成分分析法对数据进行降维，覆盖原始数据80%的方差\n",
    "# ｎ＿components：指定希望PCA降维后的特征维度数目\n",
    "# 最常用的做法是直接指定降维到的维度数目，此时n_components是一个大于等于1的整数。\n",
    "# 当然，我们也可以指定主成分的方差和所占的最小比例阈值，让PCA类自己去根据样本特征方差来决定降维到的维度数，\n",
    "# 此时n_components是一个（0，1]之间的数。\n",
    "pca = PCA(n_components = 0.8)\n",
    "pca.fit(train_df)\n",
    "\n",
    "pca_cols = ['PCA_' + str(i) for i in range(pca.n_components_)]\n",
    "train_df = pd.DataFrame(pca.transform(train_df), columns = pca_cols)\n",
    "test_df = pd.DataFrame(pca.transform(test_df), columns = pca_cols)"
   ]
  },
  {
   "cell_type": "code",
   "execution_count": 14,
   "id": "ff4038c6",
   "metadata": {},
   "outputs": [],
   "source": [
    "y_labels = pd.Series([0 if i == 0 else 1 for i in y_label['label']])"
   ]
  },
  {
   "cell_type": "code",
   "execution_count": 15,
   "id": "967a54d5",
   "metadata": {},
   "outputs": [],
   "source": [
    "from sklearn.metrics import precision_recall_fscore_support\n",
    "from sklearn.metrics import confusion_matrix, roc_auc_score, roc_curve, f1_score, precision_score, recall_score, accuracy_score"
   ]
  },
  {
   "cell_type": "code",
   "execution_count": 16,
   "id": "4180b00b",
   "metadata": {},
   "outputs": [],
   "source": [
    "clfIF = IsolationForest(max_samples=0.25, random_state=11, n_estimators=100, n_jobs=-1)"
   ]
  },
  {
   "cell_type": "code",
   "execution_count": 17,
   "id": "fd62c305",
   "metadata": {},
   "outputs": [
    {
     "name": "stderr",
     "output_type": "stream",
     "text": [
      "C:\\Users\\Qin\\Anaconda3\\lib\\site-packages\\ipykernel_launcher.py:1: DeprecationWarning: time.clock has been deprecated in Python 3.3 and will be removed from Python 3.8: use time.perf_counter or time.process_time instead\n",
      "  \"\"\"Entry point for launching an IPython kernel.\n"
     ]
    },
    {
     "name": "stdout",
     "output_type": "stream",
     "text": [
      "Time :  0.4580989999999998\n"
     ]
    },
    {
     "name": "stderr",
     "output_type": "stream",
     "text": [
      "C:\\Users\\Qin\\Anaconda3\\lib\\site-packages\\ipykernel_launcher.py:3: DeprecationWarning: time.clock has been deprecated in Python 3.3 and will be removed from Python 3.8: use time.perf_counter or time.process_time instead\n",
      "  This is separate from the ipykernel package so we can avoid doing imports until\n"
     ]
    }
   ],
   "source": [
    "start = time.clock()\n",
    "clfIF.fit(train_df)\n",
    "end = time.clock()\n",
    "print('Time : ', (end-start))"
   ]
  },
  {
   "cell_type": "code",
   "execution_count": 18,
   "id": "0aa23120",
   "metadata": {},
   "outputs": [
    {
     "name": "stderr",
     "output_type": "stream",
     "text": [
      "C:\\Users\\Qin\\Anaconda3\\lib\\site-packages\\ipykernel_launcher.py:1: DeprecationWarning: time.clock has been deprecated in Python 3.3 and will be removed from Python 3.8: use time.perf_counter or time.process_time instead\n",
      "  \"\"\"Entry point for launching an IPython kernel.\n"
     ]
    },
    {
     "name": "stdout",
     "output_type": "stream",
     "text": [
      "Time :  10.0730664\n"
     ]
    },
    {
     "name": "stderr",
     "output_type": "stream",
     "text": [
      "C:\\Users\\Qin\\Anaconda3\\lib\\site-packages\\ipykernel_launcher.py:3: DeprecationWarning: time.clock has been deprecated in Python 3.3 and will be removed from Python 3.8: use time.perf_counter or time.process_time instead\n",
      "  This is separate from the ipykernel package so we can avoid doing imports until\n"
     ]
    }
   ],
   "source": [
    "start = time.clock()\n",
    "y_pred_if = clfIF.predict(test_df)\n",
    "end = time.clock()\n",
    "print('Time : ', (end-start))"
   ]
  },
  {
   "cell_type": "code",
   "execution_count": 19,
   "id": "9704aa9f",
   "metadata": {},
   "outputs": [],
   "source": [
    "i = 0\n",
    "for i in range(0, len(y_pred_if)) :\n",
    "    if y_pred_if[i] == 1 :\n",
    "        y_pred_if[i] = 0"
   ]
  },
  {
   "cell_type": "code",
   "execution_count": 20,
   "id": "94b5b669",
   "metadata": {},
   "outputs": [],
   "source": [
    "i = 0\n",
    "for i in range(0, len(y_pred_if)) :\n",
    "    if y_pred_if[i] == -1 :\n",
    "        y_pred_if[i] = 1"
   ]
  },
  {
   "cell_type": "code",
   "execution_count": 21,
   "id": "742f8d10",
   "metadata": {},
   "outputs": [
    {
     "name": "stdout",
     "output_type": "stream",
     "text": [
      " Precision = 0.93400\n",
      " Recall    = 0.70002\n",
      " F1-Score  = 0.80026\n",
      " AUC  = 0.74778\n"
     ]
    }
   ],
   "source": [
    "prec, recall, fscore, _ = precision_recall_fscore_support(y_labels, y_pred_if, average=\"binary\")\n",
    "auc = roc_auc_score(y_labels, y_pred_if)\n",
    "print(f\" Precision = {prec:.5f}\")\n",
    "print(f\" Recall    = {recall:.5f}\")\n",
    "print(f\" F1-Score  = {fscore:.5f}\")\n",
    "print(f\" AUC  = {auc:.5f}\")"
   ]
  },
  {
   "cell_type": "code",
   "execution_count": null,
   "id": "a6b97c9c",
   "metadata": {},
   "outputs": [],
   "source": []
  },
  {
   "cell_type": "code",
   "execution_count": 22,
   "id": "0f1f8fe2",
   "metadata": {},
   "outputs": [
    {
     "data": {
      "text/plain": [
       "array([[ 48204,  12389],\n",
       "       [ 75126, 175310]], dtype=int64)"
      ]
     },
     "execution_count": 22,
     "metadata": {},
     "output_type": "execute_result"
    }
   ],
   "source": [
    "confusion_matrix(y_labels, y_pred_if)"
   ]
  },
  {
   "cell_type": "code",
   "execution_count": 23,
   "id": "453a2b2d",
   "metadata": {},
   "outputs": [
    {
     "data": {
      "text/plain": [
       "0.7186275234785181"
      ]
     },
     "execution_count": 23,
     "metadata": {},
     "output_type": "execute_result"
    }
   ],
   "source": [
    "(48204 + 175310) / len(y_labels)"
   ]
  },
  {
   "cell_type": "code",
   "execution_count": 24,
   "id": "44a0c112",
   "metadata": {},
   "outputs": [
    {
     "name": "stderr",
     "output_type": "stream",
     "text": [
      "C:\\Users\\Qin\\Anaconda3\\lib\\site-packages\\ipykernel_launcher.py:1: DeprecationWarning: time.clock has been deprecated in Python 3.3 and will be removed from Python 3.8: use time.perf_counter or time.process_time instead\n",
      "  \"\"\"Entry point for launching an IPython kernel.\n"
     ]
    }
   ],
   "source": [
    "second = time.clock()"
   ]
  },
  {
   "cell_type": "code",
   "execution_count": 25,
   "id": "5d470bce",
   "metadata": {},
   "outputs": [
    {
     "name": "stdout",
     "output_type": "stream",
     "text": [
      "time :  13.9961658\n"
     ]
    }
   ],
   "source": [
    "print('time : ', (second - first))"
   ]
  },
  {
   "cell_type": "code",
   "execution_count": 26,
   "id": "20542449",
   "metadata": {},
   "outputs": [
    {
     "name": "stderr",
     "output_type": "stream",
     "text": [
      "C:\\Users\\Qin\\Anaconda3\\lib\\site-packages\\ipykernel_launcher.py:1: DeprecationWarning: time.clock has been deprecated in Python 3.3 and will be removed from Python 3.8: use time.perf_counter or time.process_time instead\n",
      "  \"\"\"Entry point for launching an IPython kernel.\n"
     ]
    }
   ],
   "source": [
    "third = time.clock()"
   ]
  },
  {
   "cell_type": "code",
   "execution_count": 27,
   "id": "ab8f6def",
   "metadata": {},
   "outputs": [],
   "source": [
    "clfLOF = LocalOutlierFactor(n_neighbors=15, metric='euclidean', algorithm='auto', contamination=0.15, n_jobs=-1, novelty = True)"
   ]
  },
  {
   "cell_type": "code",
   "execution_count": 28,
   "id": "b7432bb9",
   "metadata": {},
   "outputs": [
    {
     "name": "stderr",
     "output_type": "stream",
     "text": [
      "C:\\Users\\Qin\\Anaconda3\\lib\\site-packages\\ipykernel_launcher.py:1: DeprecationWarning: time.clock has been deprecated in Python 3.3 and will be removed from Python 3.8: use time.perf_counter or time.process_time instead\n",
      "  \"\"\"Entry point for launching an IPython kernel.\n"
     ]
    },
    {
     "name": "stdout",
     "output_type": "stream",
     "text": [
      "Time :  0.2469494999999995\n"
     ]
    },
    {
     "name": "stderr",
     "output_type": "stream",
     "text": [
      "C:\\Users\\Qin\\Anaconda3\\lib\\site-packages\\ipykernel_launcher.py:3: DeprecationWarning: time.clock has been deprecated in Python 3.3 and will be removed from Python 3.8: use time.perf_counter or time.process_time instead\n",
      "  This is separate from the ipykernel package so we can avoid doing imports until\n"
     ]
    }
   ],
   "source": [
    "start = time.clock()\n",
    "y_pred_lof = clfLOF.fit(train_df)\n",
    "end = time.clock()\n",
    "print('Time : ', (end-start))"
   ]
  },
  {
   "cell_type": "code",
   "execution_count": 29,
   "id": "bcaf10fc",
   "metadata": {},
   "outputs": [
    {
     "name": "stderr",
     "output_type": "stream",
     "text": [
      "C:\\Users\\Qin\\Anaconda3\\lib\\site-packages\\ipykernel_launcher.py:1: DeprecationWarning: time.clock has been deprecated in Python 3.3 and will be removed from Python 3.8: use time.perf_counter or time.process_time instead\n",
      "  \"\"\"Entry point for launching an IPython kernel.\n"
     ]
    },
    {
     "name": "stdout",
     "output_type": "stream",
     "text": [
      "Time :  0.6450817999999998\n"
     ]
    },
    {
     "name": "stderr",
     "output_type": "stream",
     "text": [
      "C:\\Users\\Qin\\Anaconda3\\lib\\site-packages\\ipykernel_launcher.py:3: DeprecationWarning: time.clock has been deprecated in Python 3.3 and will be removed from Python 3.8: use time.perf_counter or time.process_time instead\n",
      "  This is separate from the ipykernel package so we can avoid doing imports until\n"
     ]
    }
   ],
   "source": [
    "start = time.clock()\n",
    "y_pred_lof = clfLOF.predict(test_df)\n",
    "end = time.clock()\n",
    "print('Time : ', (end-start))"
   ]
  },
  {
   "cell_type": "code",
   "execution_count": 30,
   "id": "806bb925",
   "metadata": {},
   "outputs": [],
   "source": [
    "temp = y_pred_lof"
   ]
  },
  {
   "cell_type": "code",
   "execution_count": 31,
   "id": "d6af1b6b",
   "metadata": {},
   "outputs": [],
   "source": [
    "i = 0\n",
    "for i in range(0, len(y_pred_lof)) :\n",
    "    if y_pred_lof[i] == 1 :\n",
    "        y_pred_lof[i] = 0"
   ]
  },
  {
   "cell_type": "code",
   "execution_count": 32,
   "id": "e900bdef",
   "metadata": {},
   "outputs": [],
   "source": [
    "i = 0\n",
    "for i in range(0, len(y_pred_lof)) :\n",
    "    if y_pred_lof[i] == -1 :\n",
    "        y_pred_lof[i] = 1"
   ]
  },
  {
   "cell_type": "code",
   "execution_count": 33,
   "id": "8675131c",
   "metadata": {
    "scrolled": true
   },
   "outputs": [
    {
     "name": "stdout",
     "output_type": "stream",
     "text": [
      " Precision = 0.93101\n",
      " Recall    = 0.92797\n",
      " F1-Score  = 0.92949\n",
      " AUC  = 0.82189\n"
     ]
    }
   ],
   "source": [
    "prec, recall, fscore, _ = precision_recall_fscore_support(y_labels, y_pred_lof, average=\"binary\")\n",
    "auc = roc_auc_score(y_labels, y_pred_lof)\n",
    "print(f\" Precision = {prec:.5f}\")\n",
    "print(f\" Recall    = {recall:.5f}\")\n",
    "print(f\" F1-Score  = {fscore:.5f}\")\n",
    "print(f\" AUC  = {auc:.5f}\")"
   ]
  },
  {
   "cell_type": "code",
   "execution_count": 34,
   "id": "c2712d0f",
   "metadata": {},
   "outputs": [
    {
     "data": {
      "text/plain": [
       "array([[ 43373,  17220],\n",
       "       [ 18038, 232398]], dtype=int64)"
      ]
     },
     "execution_count": 34,
     "metadata": {},
     "output_type": "execute_result"
    }
   ],
   "source": [
    "confusion_matrix(y_labels, y_pred_lof)"
   ]
  },
  {
   "cell_type": "code",
   "execution_count": 35,
   "id": "c01b9cdc",
   "metadata": {},
   "outputs": [
    {
     "data": {
      "text/plain": [
       "0.8866407955528263"
      ]
     },
     "execution_count": 35,
     "metadata": {},
     "output_type": "execute_result"
    }
   ],
   "source": [
    "(43373 + 232398) / len(y_labels)"
   ]
  },
  {
   "cell_type": "code",
   "execution_count": 36,
   "id": "7c06a7ab",
   "metadata": {},
   "outputs": [
    {
     "name": "stderr",
     "output_type": "stream",
     "text": [
      "C:\\Users\\Qin\\Anaconda3\\lib\\site-packages\\ipykernel_launcher.py:1: DeprecationWarning: time.clock has been deprecated in Python 3.3 and will be removed from Python 3.8: use time.perf_counter or time.process_time instead\n",
      "  \"\"\"Entry point for launching an IPython kernel.\n"
     ]
    }
   ],
   "source": [
    "second = time.clock()"
   ]
  },
  {
   "cell_type": "code",
   "execution_count": 37,
   "id": "76be6054",
   "metadata": {},
   "outputs": [
    {
     "name": "stdout",
     "output_type": "stream",
     "text": [
      "time :  1.7829572999999996\n"
     ]
    }
   ],
   "source": [
    "print('time : ', (second - third))"
   ]
  },
  {
   "cell_type": "code",
   "execution_count": null,
   "id": "e8bcb94d",
   "metadata": {},
   "outputs": [],
   "source": []
  },
  {
   "cell_type": "code",
   "execution_count": null,
   "id": "aa5ad04b",
   "metadata": {},
   "outputs": [],
   "source": []
  },
  {
   "cell_type": "code",
   "execution_count": 38,
   "id": "63429700",
   "metadata": {},
   "outputs": [
    {
     "data": {
      "image/png": "[encoded data removed]",
      "text/plain": [
       "<Figure size 432x288 with 2 Axes>"
      ]
     },
     "metadata": {
      "needs_background": "light"
     },
     "output_type": "display_data"
    }
   ],
   "source": [
    "# print(classification_report(y_label, y_pred_if, target_names=['anomaly', 'normal']))\n",
    "# print (\"AUC: \", \"{:.5%}\".format(roc_auc_score(y_label, y_pred_if)))\n",
    "cm = confusion_matrix(y_label, y_pred_if)\n",
    "plot_confusion_matrix(cm, title=\"IF Confusion Matrix - SA\", save=True, saveas=\"IF_SA.png\")"
   ]
  },
  {
   "cell_type": "code",
   "execution_count": 39,
   "id": "809701ac",
   "metadata": {},
   "outputs": [
    {
     "ename": "NameError",
     "evalue": "name 'y_train_nd' is not defined",
     "output_type": "error",
     "traceback": [
      "\u001b[1;31m---------------------------------------------------------------------------\u001b[0m",
      "\u001b[1;31mNameError\u001b[0m                                 Traceback (most recent call last)",
      "\u001b[1;32m<ipython-input-39-0c4b2a3d6b1e>\u001b[0m in \u001b[0;36m<module>\u001b[1;34m\u001b[0m\n\u001b[1;32m----> 1\u001b[1;33m \u001b[0mprint\u001b[0m\u001b[1;33m(\u001b[0m\u001b[0mclassification_report\u001b[0m\u001b[1;33m(\u001b[0m\u001b[0my_train_nd\u001b[0m\u001b[1;33m,\u001b[0m \u001b[0my_pred_train_lof\u001b[0m\u001b[1;33m,\u001b[0m \u001b[0mtarget_names\u001b[0m\u001b[1;33m=\u001b[0m\u001b[1;33m[\u001b[0m\u001b[1;34m'anomaly'\u001b[0m\u001b[1;33m,\u001b[0m \u001b[1;34m'normal'\u001b[0m\u001b[1;33m]\u001b[0m\u001b[1;33m)\u001b[0m\u001b[1;33m)\u001b[0m\u001b[1;33m\u001b[0m\u001b[1;33m\u001b[0m\u001b[0m\n\u001b[0m\u001b[0;32m      2\u001b[0m \u001b[0mprint\u001b[0m \u001b[1;33m(\u001b[0m\u001b[1;34m\"AUC: \"\u001b[0m\u001b[1;33m,\u001b[0m \u001b[1;34m\"{:.1%}\"\u001b[0m\u001b[1;33m.\u001b[0m\u001b[0mformat\u001b[0m\u001b[1;33m(\u001b[0m\u001b[0mroc_auc_score\u001b[0m\u001b[1;33m(\u001b[0m\u001b[0my_train_nd\u001b[0m\u001b[1;33m,\u001b[0m \u001b[0my_pred_train_lof\u001b[0m\u001b[1;33m)\u001b[0m\u001b[1;33m)\u001b[0m\u001b[1;33m)\u001b[0m\u001b[1;33m\u001b[0m\u001b[1;33m\u001b[0m\u001b[0m\n\u001b[0;32m      3\u001b[0m \u001b[0mcm\u001b[0m \u001b[1;33m=\u001b[0m \u001b[0mconfusion_matrix\u001b[0m\u001b[1;33m(\u001b[0m\u001b[0my_train_nd\u001b[0m\u001b[1;33m,\u001b[0m \u001b[0my_pred_train_lof\u001b[0m\u001b[1;33m)\u001b[0m\u001b[1;33m\u001b[0m\u001b[1;33m\u001b[0m\u001b[0m\n\u001b[0;32m      4\u001b[0m \u001b[0mplot_confusion_matrix\u001b[0m\u001b[1;33m(\u001b[0m\u001b[0mcm\u001b[0m\u001b[1;33m,\u001b[0m \u001b[0mtitle\u001b[0m\u001b[1;33m=\u001b[0m\u001b[1;34m\"LOF Confusion Matrix - SA\"\u001b[0m\u001b[1;33m)\u001b[0m\u001b[1;33m\u001b[0m\u001b[1;33m\u001b[0m\u001b[0m\n",
      "\u001b[1;31mNameError\u001b[0m: name 'y_train_nd' is not defined"
     ]
    }
   ],
   "source": [
    "print(classification_report(y_train_nd, y_pred_train_lof, target_names=['anomaly', 'normal']))\n",
    "print (\"AUC: \", \"{:.1%}\".format(roc_auc_score(y_train_nd, y_pred_train_lof)))\n",
    "cm = confusion_matrix(y_train_nd, y_pred_train_lof)\n",
    "plot_confusion_matrix(cm, title=\"LOF Confusion Matrix - SA\")"
   ]
  },
  {
   "cell_type": "code",
   "execution_count": null,
   "id": "8e6cc88b",
   "metadata": {},
   "outputs": [],
   "source": [
    "# X_train_sf, X_test_sf, y_train_sf, y_test_sf = train_test_split(dfSF.drop([target, 'binary_target'], axis=1), \n",
    "#                                                                 dfSF['binary_target'], test_size=0.33, random_state=11)\n",
    "# X_train_nd, X_test_nd, y_train_nd, y_test_nd = train_test_split(dfSF_normed, dfSF['binary_target'], \n",
    "#                                                     test_size=0.33, random_state=11)"
   ]
  },
  {
   "cell_type": "code",
   "execution_count": null,
   "id": "7f7e21a0",
   "metadata": {},
   "outputs": [],
   "source": [
    "# clfIF = IsolationForest(max_samples=0.25, random_state=11, contamination = 0.15, n_estimators=100, n_jobs=-1)\n",
    "# clfLOF = LocalOutlierFactor(n_neighbors=15, metric='euclidean', algorithm = 'auto', contamination=0.15, n_jobs=-1)"
   ]
  },
  {
   "cell_type": "code",
   "execution_count": null,
   "id": "87186ab9",
   "metadata": {},
   "outputs": [],
   "source": [
    "# start = datetime.datetime.now()\n",
    "# clfIF.fit(X_train_sf,y_train_sf)\n",
    "# y_pred_train = clfIF.predict(X_train_sf)\n",
    "# end = datetime.datetime.now()\n",
    "# print (end-start)"
   ]
  },
  {
   "cell_type": "code",
   "execution_count": null,
   "id": "7d0fc645",
   "metadata": {},
   "outputs": [],
   "source": [
    "# start = datetime.datetime.now()\n",
    "# y_pred_train_lof = clfLOF.fit_predict(X_train_nd,y_train_nd)\n",
    "# end = datetime.datetime.now()\n",
    "# print (end-start)"
   ]
  },
  {
   "cell_type": "code",
   "execution_count": null,
   "id": "9c5d2144",
   "metadata": {},
   "outputs": [],
   "source": [
    "# print(classification_report(y_train_sf, y_pred_train, target_names=['anomaly', 'normal']))\n",
    "# print (\"AUC: \", \"{:.1%}\".format(roc_auc_score(y_train_sf, y_pred_train)))\n",
    "# cm = confusion_matrix(y_train_sf, y_pred_train)\n",
    "# plot_confusion_matrix(cm, title=\"IF Confusion Matrix - SF\", save=True, saveas=\"IF_SF.png\")"
   ]
  },
  {
   "cell_type": "code",
   "execution_count": null,
   "id": "8ab9ef0f",
   "metadata": {},
   "outputs": [],
   "source": [
    "# print(classification_report(y_train_nd, y_pred_train_lof, target_names=['anomaly', 'normal']))\n",
    "# print (\"AUC: \", \"{:.1%}\".format(roc_auc_score(y_train_nd, y_pred_train_lof)))\n",
    "# cm = confusion_matrix(y_train_nd, y_pred_train_lof)\n",
    "# plot_confusion_matrix(cm, title=\"LOF Confusion Matrix - SF\")"
   ]
  },
  {
   "cell_type": "code",
   "execution_count": null,
   "id": "b3578436",
   "metadata": {},
   "outputs": [],
   "source": []
  },
  {
   "cell_type": "code",
   "execution_count": null,
   "id": "ea7b78ff",
   "metadata": {},
   "outputs": [],
   "source": [
    "clfIF = IsolationForest(max_samples=0.25, random_state=11, contamination = 0.15, n_estimators=100, n_jobs=-1)\n",
    "\n",
    "clfIF.fit(X_train_sa,y_train_sa)\n",
    "y_pred_test = clfIF.predict(X_test_sa)\n",
    "\n",
    "print(classification_report(y_test_sa, y_pred_test, target_names=['anomaly', 'normal']))\n",
    "print (\"AUC: \", \"{:.1%}\".format(roc_auc_score(y_test_sa, y_pred_test)))\n",
    "cm = confusion_matrix(y_test_sa, y_pred_test)\n",
    "plot_confusion_matrix(cm, title=\"IF Confusion Matrix - SA\", save=True, saveas=\"IF_SA_Test.png\")"
   ]
  },
  {
   "cell_type": "code",
   "execution_count": null,
   "id": "e2337929",
   "metadata": {},
   "outputs": [],
   "source": [
    "# clfIF = IsolationForest(max_samples=0.25, random_state=11, contamination = 0.15, n_estimators=100, n_jobs=-1)\n",
    "\n",
    "# clfIF.fit(X_train_sf,y_train_sf)\n",
    "# y_pred_test = clfIF.predict(X_test_sf)\n",
    "\n",
    "# print(classification_report(y_test_sf, y_pred_test, target_names=['anomaly', 'normal']))\n",
    "# print (\"AUC: \", \"{:.1%}\".format(roc_auc_score(y_test_sf, y_pred_test)))\n",
    "# cm = confusion_matrix(y_test_sf, y_pred_test)\n",
    "# plot_confusion_matrix(cm, title=\"IF Confusion Matrix - SF\", save=True, saveas=\"IF_SF_Test.png\")"
   ]
  },
  {
   "cell_type": "code",
   "execution_count": null,
   "id": "3168cc32",
   "metadata": {},
   "outputs": [],
   "source": []
  },
  {
   "cell_type": "code",
   "execution_count": null,
   "id": "5a479710",
   "metadata": {},
   "outputs": [],
   "source": [
    "scoring = {'AUC': 'roc_auc', 'Recall': make_scorer(recall_score, pos_label=-1)}"
   ]
  },
  {
   "cell_type": "code",
   "execution_count": null,
   "id": "ac10d7ed",
   "metadata": {},
   "outputs": [],
   "source": [
    "gs = GridSearchCV(IsolationForest(max_samples=0.25, random_state=11, contamination = 0.15, n_jobs=-1),\n",
    "                  param_grid={'n_estimators': range(20, 230, 30)},\n",
    "                  scoring=scoring, refit='Recall')\n",
    "gs.fit(X_train_sa, y_train_sa)\n",
    "results = gs.cv_results_"
   ]
  },
  {
   "cell_type": "code",
   "execution_count": null,
   "id": "3081da7c",
   "metadata": {},
   "outputs": [],
   "source": [
    "plot_gridsearch_cv(results, \"n_estimators\", 0, 230, 0.73, 1.05, save=True, saveas=\"GS_n_est.png\")"
   ]
  },
  {
   "cell_type": "code",
   "execution_count": null,
   "id": "d7f60a46",
   "metadata": {},
   "outputs": [],
   "source": []
  },
  {
   "cell_type": "code",
   "execution_count": null,
   "id": "c82f3a9a",
   "metadata": {},
   "outputs": [],
   "source": [
    "gs_ms = GridSearchCV(IsolationForest(random_state=11, contamination = 0.15, n_estimators=150, n_jobs=-1),\n",
    "                  param_grid={'max_samples': np.arange(0.1, 1.0, 0.1)},\n",
    "                  scoring=scoring, refit='Recall')\n",
    "gs_ms.fit(X_train_sa, y_train_sa)\n",
    "results = gs_ms.cv_results_"
   ]
  },
  {
   "cell_type": "code",
   "execution_count": null,
   "id": "5ebe3b81",
   "metadata": {},
   "outputs": [],
   "source": [
    "plot_gridsearch_cv(results, \"max_samples\", 0, 1, 0.73, 1.05, save=True, saveas=\"GS_max_samples.png\")"
   ]
  },
  {
   "cell_type": "code",
   "execution_count": null,
   "id": "b7022139",
   "metadata": {},
   "outputs": [],
   "source": []
  },
  {
   "cell_type": "code",
   "execution_count": null,
   "id": "ff6c84c6",
   "metadata": {},
   "outputs": [],
   "source": [
    "gs_cont = GridSearchCV(IsolationForest(random_state=11, max_samples=0.10, n_estimators=150, n_jobs=-1),\n",
    "                  param_grid={'contamination': np.arange(0.01, 0.25, 0.05)},\n",
    "                  scoring=scoring, refit='Recall')\n",
    "gs_cont.fit(X_train_sf, y_train_sf)\n",
    "results = gs_cont.cv_results_"
   ]
  },
  {
   "cell_type": "code",
   "execution_count": null,
   "id": "3ede0a39",
   "metadata": {},
   "outputs": [],
   "source": [
    "plot_gridsearch_cv(results, \"contamination\", 0, 0.20, 0.80, 1.08, save=True, saveas=\"GS_cont.png\")"
   ]
  },
  {
   "cell_type": "code",
   "execution_count": null,
   "id": "9b5d2d68",
   "metadata": {},
   "outputs": [],
   "source": []
  }
 ],
 "metadata": {
  "kernelspec": {
   "display_name": "Python 3",
   "language": "python",
   "name": "python3"
  },
  "language_info": {
   "codemirror_mode": {
    "name": "ipython",
    "version": 3
   },
   "file_extension": ".py",
   "mimetype": "text/x-python",
   "name": "python",
   "nbconvert_exporter": "python",
   "pygments_lexer": "ipython3",
   "version": "3.7.4"
  }
 },
 "nbformat": 4,
 "nbformat_minor": 5
}
