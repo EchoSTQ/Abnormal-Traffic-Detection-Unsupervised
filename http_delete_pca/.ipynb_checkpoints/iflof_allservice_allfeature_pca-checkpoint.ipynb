{
 "cells": [
  {
   "cell_type": "code",
   "execution_count": 1,
   "id": "1b69614c",
   "metadata": {},
   "outputs": [],
   "source": [
    "from sklearn import datasets\n",
    "from sklearn import preprocessing\n",
    "from sklearn.model_selection import train_test_split\n",
    "from sklearn.decomposition import PCA\n",
    "from sklearn.ensemble import IsolationForest\n",
    "from sklearn.neighbors import LocalOutlierFactor\n",
    "from sklearn import svm\n",
    "from sklearn.neighbors import NearestNeighbors\n",
    "\n",
    "from sklearn.metrics import classification_report\n",
    "from sklearn.metrics import confusion_matrix\n",
    "from sklearn.metrics import recall_score\n",
    "from sklearn.metrics import roc_auc_score\n",
    "from sklearn.model_selection import GridSearchCV\n",
    "from sklearn.metrics import make_scorer\n",
    "from sklearn.metrics import accuracy_score\n",
    "\n",
    "import pandas as pd\n",
    "import numpy as np\n",
    "import itertools\n",
    "import matplotlib.pyplot as plt\n",
    "import time"
   ]
  },
  {
   "cell_type": "code",
   "execution_count": 2,
   "id": "45f93cae",
   "metadata": {},
   "outputs": [
    {
     "name": "stderr",
     "output_type": "stream",
     "text": [
      "C:\\Users\\Qin\\Anaconda3\\lib\\site-packages\\ipykernel_launcher.py:1: DeprecationWarning: time.clock has been deprecated in Python 3.3 and will be removed from Python 3.8: use time.perf_counter or time.process_time instead\n",
      "  \"\"\"Entry point for launching an IPython kernel.\n"
     ]
    }
   ],
   "source": [
    "first = time.clock()"
   ]
  },
  {
   "cell_type": "code",
   "execution_count": 3,
   "id": "e0114c69",
   "metadata": {},
   "outputs": [],
   "source": [
    "def byte_decoder(val):\n",
    "    # decodes byte literals to strings\n",
    "    \n",
    "    return val.decode('utf-8')"
   ]
  },
  {
   "cell_type": "code",
   "execution_count": 4,
   "id": "9acf71c2",
   "metadata": {},
   "outputs": [],
   "source": [
    "def plot_confusion_matrix(cm, title, classes=['abnormal', 'normal'],\n",
    "                          cmap=plt.cm.Blues, save=False, saveas=\"MyFigure.png\"):\n",
    "    \n",
    "    # print Confusion matrix with blue gradient colours\n",
    "    \n",
    "    cm = cm.astype('float') / cm.sum(axis=1)[:, np.newaxis]\n",
    "    \n",
    "    plt.imshow(cm, interpolation='nearest', cmap=cmap)\n",
    "    plt.title(title)\n",
    "    plt.colorbar()\n",
    "    tick_marks = np.arange(len(classes))\n",
    "    plt.xticks(tick_marks, classes, rotation=90)\n",
    "    plt.yticks(tick_marks, classes)\n",
    "\n",
    "    fmt = '.1%'\n",
    "    thresh = cm.max() / 2.\n",
    "    for i, j in itertools.product(range(cm.shape[0]), range(cm.shape[1])):\n",
    "        plt.text(j, i, format(cm[i, j], fmt),\n",
    "                 horizontalalignment=\"center\",\n",
    "                 color=\"white\" if cm[i, j] > thresh else \"black\")\n",
    "\n",
    "    plt.tight_layout()\n",
    "    plt.ylabel('True label')\n",
    "    plt.xlabel('Predicted label')\n",
    "    \n",
    "    if save:\n",
    "        plt.savefig(saveas, dpi=100)"
   ]
  },
  {
   "cell_type": "code",
   "execution_count": 5,
   "id": "7b8eba3b",
   "metadata": {},
   "outputs": [],
   "source": [
    "def plot_gridsearch_cv(results, estimator, x_min, x_max, y_min, y_max,save=False, saveas=\"MyFigure.png\"):\n",
    "    \n",
    "    # print GridSearch cross-validation for parameters\n",
    "    \n",
    "    plt.figure(figsize=(10,8))\n",
    "    plt.title(\"GridSearchCV for \"+estimator, fontsize=24)\n",
    "\n",
    "    plt.xlabel(estimator)\n",
    "    plt.ylabel(\"Score\")\n",
    "    plt.grid()\n",
    "\n",
    "    ax = plt.axes()\n",
    "    ax.set_xlim(x_min, x_max)\n",
    "    ax.set_ylim(y_min, y_max)\n",
    "\n",
    "    pad = 0.005\n",
    "    X_axis = np.array(results[\"param_\"+estimator].data, dtype=float)\n",
    "\n",
    "    for scorer, color in zip(sorted(scoring), ['b', 'k']):\n",
    "        for sample, style in (('train', '--'), ('test', '-')):\n",
    "            sample_score_mean = results['mean_%s_%s' % (sample, scorer)]\n",
    "            sample_score_std = results['std_%s_%s' % (sample, scorer)]\n",
    "            ax.fill_between(X_axis, sample_score_mean - sample_score_std,\n",
    "                        sample_score_mean + sample_score_std,\n",
    "                        alpha=0.1 if sample == 'test' else 0, color=color)\n",
    "            ax.plot(X_axis, sample_score_mean, style, color=color,\n",
    "                alpha=1 if sample == 'test' else 0.7,\n",
    "                label=\"%s (%s)\" % (scorer, sample))\n",
    "\n",
    "        best_index = np.nonzero(results['rank_test_%s' % scorer] == 1)[0][0]\n",
    "        best_score = results['mean_test_%s' % scorer][best_index]\n",
    "\n",
    "        # Plot a dotted vertical line at the best score for that scorer marked by x\n",
    "        ax.plot([X_axis[best_index], ] * 2, [0, best_score],\n",
    "            linestyle='-.', color=color, marker='x', markeredgewidth=3, ms=8)\n",
    "\n",
    "        # Annotate the best score for that scorer\n",
    "        ax.annotate(\"%0.5f\" % best_score,\n",
    "                (X_axis[best_index], best_score+pad))\n",
    "\n",
    "    plt.legend(loc=\"best\")\n",
    "    plt.grid('off')\n",
    "    plt.tight_layout()\n",
    "    if save:\n",
    "        plt.savefig(saveas, dpi=100)\n",
    "        \n",
    "    plt.show()"
   ]
  },
  {
   "cell_type": "code",
   "execution_count": 6,
   "id": "18a55584",
   "metadata": {},
   "outputs": [],
   "source": [
    "# target = 'target'\n",
    "# sf = datasets.fetch_kddcup99(subset='SF', percent10=False)\n",
    "# dfSF=pd.DataFrame(sf.data, \n",
    "#                   columns=[\"duration\", \"service\", \"src_bytes\", \"dst_bytes\"])\n",
    "# assert len(dfSF)>0, \"SF dataset no loaded.\"\n",
    "\n",
    "# dfSF[target]=sf.target\n",
    "# anomaly_rateSF = 1.0 - len(dfSF.loc[dfSF[target]==b'normal.'])/len(dfSF)\n",
    "\n",
    "# \"SF Anomaly Rate is:\"+\"{:.1%}\".format(anomaly_rateSF)"
   ]
  },
  {
   "cell_type": "code",
   "execution_count": 7,
   "id": "270fe278",
   "metadata": {},
   "outputs": [],
   "source": [
    "# 手动添加特征，训练集42，测试集41\n",
    "\n",
    "feather = ['duration', 'protocol_type', 'service', 'flag', 'src_bytes', 'dst_bytes', 'land', 'wrong_fragment', 'urgent', 'hot', \n",
    "           'num_failed_logins', 'logged_in', 'lnum_compromised', 'lroot_shell', 'lsu_attempted', 'lnum_root', 'lnum_file_creations', \n",
    "           'lnum_shells', 'lnum_access_files', 'lnum_outbound_cmds', 'is_host_login', 'is_guest_login', 'count', 'srv_count', 'serror_rate', \n",
    "           'srv_serror_rate', 'rerror_rate', 'srv_rerror_rate', 'same_srv_rate', 'diff_srv_rate', 'srv_diff_host_rate', 'dst_host_count', \n",
    "           'dst_host_srv_count', 'dst_host_same_srv_rate', 'dst_host_diff_srv_rate', 'dst_host_same_src_port_rate', 'dst_host_srv_diff_host_rate', \n",
    "           'dst_host_serror_rate', 'dst_host_srv_serror_rate', 'dst_host_rerror_rate', 'dst_host_srv_rerror_rate', 'label']"
   ]
  },
  {
   "cell_type": "code",
   "execution_count": 8,
   "id": "2abd2770",
   "metadata": {},
   "outputs": [],
   "source": [
    "# TRAIN_DATA_PATH = 'C:\\\\Users\\\\Qin\\\\Desktop\\\\UNSW-NB 15\\\\UNSW_NB15_training-set.csv'\n",
    "TRAIN_DATA_PATH = 'C:\\\\Users\\\\Qin\\\\Desktop\\\\kddcup\\\\train_10_percent_kddcup.csv'\n",
    "TEST_DATA_PATH = 'C:\\\\Users\\\\Qin\\\\Desktop\\\\kddcup\\\\test_10_percent_kddcup.csv'"
   ]
  },
  {
   "cell_type": "code",
   "execution_count": 9,
   "id": "c7c49258",
   "metadata": {},
   "outputs": [
    {
     "name": "stderr",
     "output_type": "stream",
     "text": [
      "C:\\Users\\Qin\\Anaconda3\\lib\\site-packages\\IPython\\core\\interactiveshell.py:3166: DtypeWarning: Columns (2) have mixed types. Specify dtype option on import or set low_memory=False.\n",
      "  interactivity=interactivity, compiler=compiler, result=result)\n"
     ]
    }
   ],
   "source": [
    "train_df = pd.read_csv(TRAIN_DATA_PATH, header = None, names = feather)\n",
    "test_df = pd.read_csv(TEST_DATA_PATH, header = None, names = feather)"
   ]
  },
  {
   "cell_type": "code",
   "execution_count": 10,
   "id": "2fcf3038",
   "metadata": {},
   "outputs": [],
   "source": [
    "train_df = train_df[train_df['label'] == 0]\n",
    "y_label = test_df.iloc[ : , 41 : 42]"
   ]
  },
  {
   "cell_type": "code",
   "execution_count": 11,
   "id": "4762e82f",
   "metadata": {},
   "outputs": [],
   "source": [
    "# 删除所有分类列\n",
    "train_df.drop(['protocol_type', 'service', 'flag', 'land', 'logged_in', 'is_host_login', 'is_guest_login', 'label'], axis = 1, inplace = True)\n",
    "# 删除无标准偏差的列\n",
    "# train_df.drop(['wrong_fragment', 'urgent', 'num_failed_logins', 'lsu_attempted', 'lnum_file_creations', 'lnum_outbound_cmds'], axis = 1, inplace = True)\n",
    "\n",
    "# 删除所有分类列\n",
    "test_df.drop(['protocol_type', 'service', 'flag', 'land', 'logged_in', 'is_host_login', 'is_guest_login', 'label'], axis = 1, inplace = True)\n",
    "# 删除无标准偏差的列\n",
    "# test_df.drop(['wrong_fragment', 'urgent', 'num_failed_logins', 'lsu_attempted', 'lnum_file_creations', 'lnum_outbound_cmds'], axis = 1, inplace = True)"
   ]
  },
  {
   "cell_type": "code",
   "execution_count": 12,
   "id": "cadbdc3e",
   "metadata": {},
   "outputs": [],
   "source": [
    "# train\n",
    "# 采用主成分分析法对数据进行降维，覆盖原始数据80%的方差\n",
    "# ｎ＿components：指定希望PCA降维后的特征维度数目\n",
    "# 最常用的做法是直接指定降维到的维度数目，此时n_components是一个大于等于1的整数。\n",
    "# 当然，我们也可以指定主成分的方差和所占的最小比例阈值，让PCA类自己去根据样本特征方差来决定降维到的维度数，\n",
    "# 此时n_components是一个（0，1]之间的数。\n",
    "pca = PCA(n_components = 0.8)\n",
    "pca.fit(train_df)\n",
    "\n",
    "pca_cols = ['PCA_' + str(i) for i in range(pca.n_components_)]\n",
    "train_df = pd.DataFrame(pca.transform(train_df), columns = pca_cols)\n",
    "test_df = pd.DataFrame(pca.transform(test_df), columns = pca_cols)"
   ]
  },
  {
   "cell_type": "code",
   "execution_count": 13,
   "id": "b831b918",
   "metadata": {},
   "outputs": [],
   "source": [
    "y_labels = pd.Series([0 if i == 0 else 1 for i in y_label['label']])"
   ]
  },
  {
   "cell_type": "code",
   "execution_count": 14,
   "id": "58d2e783",
   "metadata": {},
   "outputs": [],
   "source": [
    "from sklearn.metrics import precision_recall_fscore_support\n",
    "from sklearn.metrics import confusion_matrix, roc_auc_score, roc_curve, f1_score, precision_score, recall_score, accuracy_score"
   ]
  },
  {
   "cell_type": "code",
   "execution_count": 15,
   "id": "0fa3fff3",
   "metadata": {},
   "outputs": [],
   "source": [
    "clfIF = IsolationForest(max_samples=0.25, random_state=11, n_estimators=100, n_jobs=-1)"
   ]
  },
  {
   "cell_type": "code",
   "execution_count": 16,
   "id": "cfdd72d3",
   "metadata": {},
   "outputs": [
    {
     "name": "stderr",
     "output_type": "stream",
     "text": [
      "C:\\Users\\Qin\\Anaconda3\\lib\\site-packages\\ipykernel_launcher.py:1: DeprecationWarning: time.clock has been deprecated in Python 3.3 and will be removed from Python 3.8: use time.perf_counter or time.process_time instead\n",
      "  \"\"\"Entry point for launching an IPython kernel.\n"
     ]
    },
    {
     "name": "stdout",
     "output_type": "stream",
     "text": [
      "Time :  0.7808229000000004\n"
     ]
    },
    {
     "name": "stderr",
     "output_type": "stream",
     "text": [
      "C:\\Users\\Qin\\Anaconda3\\lib\\site-packages\\ipykernel_launcher.py:3: DeprecationWarning: time.clock has been deprecated in Python 3.3 and will be removed from Python 3.8: use time.perf_counter or time.process_time instead\n",
      "  This is separate from the ipykernel package so we can avoid doing imports until\n"
     ]
    }
   ],
   "source": [
    "start = time.clock()\n",
    "clfIF.fit(train_df)\n",
    "end = time.clock()\n",
    "print('Time : ', (end-start))"
   ]
  },
  {
   "cell_type": "code",
   "execution_count": 17,
   "id": "6942e876",
   "metadata": {},
   "outputs": [
    {
     "name": "stderr",
     "output_type": "stream",
     "text": [
      "C:\\Users\\Qin\\Anaconda3\\lib\\site-packages\\ipykernel_launcher.py:1: DeprecationWarning: time.clock has been deprecated in Python 3.3 and will be removed from Python 3.8: use time.perf_counter or time.process_time instead\n",
      "  \"\"\"Entry point for launching an IPython kernel.\n"
     ]
    },
    {
     "name": "stdout",
     "output_type": "stream",
     "text": [
      "Time :  11.015166400000002\n"
     ]
    },
    {
     "name": "stderr",
     "output_type": "stream",
     "text": [
      "C:\\Users\\Qin\\Anaconda3\\lib\\site-packages\\ipykernel_launcher.py:3: DeprecationWarning: time.clock has been deprecated in Python 3.3 and will be removed from Python 3.8: use time.perf_counter or time.process_time instead\n",
      "  This is separate from the ipykernel package so we can avoid doing imports until\n"
     ]
    }
   ],
   "source": [
    "start = time.clock()\n",
    "y_pred_if = clfIF.predict(test_df)\n",
    "end = time.clock()\n",
    "print('Time : ', (end-start))"
   ]
  },
  {
   "cell_type": "code",
   "execution_count": 18,
   "id": "e727a890",
   "metadata": {},
   "outputs": [],
   "source": [
    "i = 0\n",
    "for i in range(0, len(y_pred_if)) :\n",
    "    if y_pred_if[i] == 1 :\n",
    "        y_pred_if[i] = 0"
   ]
  },
  {
   "cell_type": "code",
   "execution_count": 19,
   "id": "56eaea46",
   "metadata": {},
   "outputs": [],
   "source": [
    "i = 0\n",
    "for i in range(0, len(y_pred_if)) :\n",
    "    if y_pred_if[i] == -1 :\n",
    "        y_pred_if[i] = 1"
   ]
  },
  {
   "cell_type": "code",
   "execution_count": 20,
   "id": "33e56e23",
   "metadata": {},
   "outputs": [
    {
     "name": "stdout",
     "output_type": "stream",
     "text": [
      " Precision = 0.86347\n",
      " Recall    = 0.00856\n",
      " F1-Score  = 0.01695\n",
      " AUC  = 0.50148\n"
     ]
    }
   ],
   "source": [
    "prec, recall, fscore, _ = precision_recall_fscore_support(y_labels, y_pred_if, average=\"binary\")\n",
    "auc = roc_auc_score(y_labels, y_pred_if)\n",
    "print(f\" Precision = {prec:.5f}\")\n",
    "print(f\" Recall    = {recall:.5f}\")\n",
    "print(f\" F1-Score  = {fscore:.5f}\")\n",
    "print(f\" AUC  = {auc:.5f}\")"
   ]
  },
  {
   "cell_type": "code",
   "execution_count": null,
   "id": "6e46e6ed",
   "metadata": {},
   "outputs": [],
   "source": []
  },
  {
   "cell_type": "code",
   "execution_count": 21,
   "id": "afe38f21",
   "metadata": {},
   "outputs": [
    {
     "data": {
      "text/plain": [
       "array([[ 60254,    339],\n",
       "       [248292,   2144]], dtype=int64)"
      ]
     },
     "execution_count": 21,
     "metadata": {},
     "output_type": "execute_result"
    }
   ],
   "source": [
    "confusion_matrix(y_labels, y_pred_if)"
   ]
  },
  {
   "cell_type": "code",
   "execution_count": 41,
   "id": "1abb2f10",
   "metadata": {},
   "outputs": [
    {
     "data": {
      "text/plain": [
       "0.20061794880863199"
      ]
     },
     "execution_count": 41,
     "metadata": {},
     "output_type": "execute_result"
    }
   ],
   "source": [
    "(60254 + 2144) / len(y_labels)"
   ]
  },
  {
   "cell_type": "code",
   "execution_count": 23,
   "id": "aec750c0",
   "metadata": {},
   "outputs": [
    {
     "name": "stderr",
     "output_type": "stream",
     "text": [
      "C:\\Users\\Qin\\Anaconda3\\lib\\site-packages\\ipykernel_launcher.py:1: DeprecationWarning: time.clock has been deprecated in Python 3.3 and will be removed from Python 3.8: use time.perf_counter or time.process_time instead\n",
      "  \"\"\"Entry point for launching an IPython kernel.\n"
     ]
    }
   ],
   "source": [
    "second = time.clock()"
   ]
  },
  {
   "cell_type": "code",
   "execution_count": 24,
   "id": "d0a15725",
   "metadata": {},
   "outputs": [
    {
     "name": "stdout",
     "output_type": "stream",
     "text": [
      "time :  15.307217699999999\n"
     ]
    }
   ],
   "source": [
    "print('time : ', (second - first))"
   ]
  },
  {
   "cell_type": "code",
   "execution_count": 25,
   "id": "bf1f28da",
   "metadata": {},
   "outputs": [
    {
     "name": "stderr",
     "output_type": "stream",
     "text": [
      "C:\\Users\\Qin\\Anaconda3\\lib\\site-packages\\ipykernel_launcher.py:1: DeprecationWarning: time.clock has been deprecated in Python 3.3 and will be removed from Python 3.8: use time.perf_counter or time.process_time instead\n",
      "  \"\"\"Entry point for launching an IPython kernel.\n"
     ]
    }
   ],
   "source": [
    "third = time.clock()"
   ]
  },
  {
   "cell_type": "code",
   "execution_count": 26,
   "id": "7840f110",
   "metadata": {},
   "outputs": [],
   "source": [
    "clfLOF = LocalOutlierFactor(n_neighbors=15, metric='euclidean', algorithm='auto', contamination=0.15, n_jobs=-1, novelty = True)"
   ]
  },
  {
   "cell_type": "code",
   "execution_count": 27,
   "id": "db9e21c6",
   "metadata": {},
   "outputs": [
    {
     "name": "stderr",
     "output_type": "stream",
     "text": [
      "C:\\Users\\Qin\\Anaconda3\\lib\\site-packages\\ipykernel_launcher.py:1: DeprecationWarning: time.clock has been deprecated in Python 3.3 and will be removed from Python 3.8: use time.perf_counter or time.process_time instead\n",
      "  \"\"\"Entry point for launching an IPython kernel.\n"
     ]
    },
    {
     "name": "stdout",
     "output_type": "stream",
     "text": [
      "Time :  0.5533421000000018\n"
     ]
    },
    {
     "name": "stderr",
     "output_type": "stream",
     "text": [
      "C:\\Users\\Qin\\Anaconda3\\lib\\site-packages\\ipykernel_launcher.py:3: DeprecationWarning: time.clock has been deprecated in Python 3.3 and will be removed from Python 3.8: use time.perf_counter or time.process_time instead\n",
      "  This is separate from the ipykernel package so we can avoid doing imports until\n"
     ]
    }
   ],
   "source": [
    "start = time.clock()\n",
    "y_pred_lof = clfLOF.fit(train_df)\n",
    "end = time.clock()\n",
    "print('Time : ', (end-start))"
   ]
  },
  {
   "cell_type": "code",
   "execution_count": 28,
   "id": "2c16186a",
   "metadata": {},
   "outputs": [
    {
     "name": "stderr",
     "output_type": "stream",
     "text": [
      "C:\\Users\\Qin\\Anaconda3\\lib\\site-packages\\ipykernel_launcher.py:1: DeprecationWarning: time.clock has been deprecated in Python 3.3 and will be removed from Python 3.8: use time.perf_counter or time.process_time instead\n",
      "  \"\"\"Entry point for launching an IPython kernel.\n"
     ]
    },
    {
     "name": "stdout",
     "output_type": "stream",
     "text": [
      "Time :  1.0422852999999996\n"
     ]
    },
    {
     "name": "stderr",
     "output_type": "stream",
     "text": [
      "C:\\Users\\Qin\\Anaconda3\\lib\\site-packages\\ipykernel_launcher.py:3: DeprecationWarning: time.clock has been deprecated in Python 3.3 and will be removed from Python 3.8: use time.perf_counter or time.process_time instead\n",
      "  This is separate from the ipykernel package so we can avoid doing imports until\n"
     ]
    }
   ],
   "source": [
    "start = time.clock()\n",
    "y_pred_lof = clfLOF.predict(test_df)\n",
    "end = time.clock()\n",
    "print('Time : ', (end-start))"
   ]
  },
  {
   "cell_type": "code",
   "execution_count": 29,
   "id": "7c4301c1",
   "metadata": {},
   "outputs": [],
   "source": [
    "temp = y_pred_lof"
   ]
  },
  {
   "cell_type": "code",
   "execution_count": 30,
   "id": "620e0aaa",
   "metadata": {},
   "outputs": [],
   "source": [
    "i = 0\n",
    "for i in range(0, len(y_pred_lof)) :\n",
    "    if y_pred_lof[i] == 1 :\n",
    "        y_pred_lof[i] = 0"
   ]
  },
  {
   "cell_type": "code",
   "execution_count": 31,
   "id": "b176f56b",
   "metadata": {},
   "outputs": [],
   "source": [
    "i = 0\n",
    "for i in range(0, len(y_pred_lof)) :\n",
    "    if y_pred_lof[i] == -1 :\n",
    "        y_pred_lof[i] = 1"
   ]
  },
  {
   "cell_type": "code",
   "execution_count": 32,
   "id": "5f4acd83",
   "metadata": {
    "scrolled": true
   },
   "outputs": [
    {
     "name": "stdout",
     "output_type": "stream",
     "text": [
      " Precision = 0.94851\n",
      " Recall    = 0.97453\n",
      " F1-Score  = 0.96135\n",
      " AUC  = 0.87795\n"
     ]
    }
   ],
   "source": [
    "prec, recall, fscore, _ = precision_recall_fscore_support(y_labels, y_pred_lof, average=\"binary\")\n",
    "auc = roc_auc_score(y_labels, y_pred_lof)\n",
    "print(f\" Precision = {prec:.5f}\")\n",
    "print(f\" Recall    = {recall:.5f}\")\n",
    "print(f\" F1-Score  = {fscore:.5f}\")\n",
    "print(f\" AUC  = {auc:.5f}\")"
   ]
  },
  {
   "cell_type": "code",
   "execution_count": 33,
   "id": "fc38349a",
   "metadata": {},
   "outputs": [
    {
     "data": {
      "text/plain": [
       "array([[ 47345,  13248],\n",
       "       [  6378, 244058]], dtype=int64)"
      ]
     },
     "execution_count": 33,
     "metadata": {},
     "output_type": "execute_result"
    }
   ],
   "source": [
    "confusion_matrix(y_labels, y_pred_lof)"
   ]
  },
  {
   "cell_type": "code",
   "execution_count": 42,
   "id": "c3fc736a",
   "metadata": {},
   "outputs": [
    {
     "data": {
      "text/plain": [
       "0.9368997746190869"
      ]
     },
     "execution_count": 42,
     "metadata": {},
     "output_type": "execute_result"
    }
   ],
   "source": [
    "(47345 + 244058) / len(y_labels)"
   ]
  },
  {
   "cell_type": "code",
   "execution_count": 35,
   "id": "e296eb4b",
   "metadata": {},
   "outputs": [
    {
     "name": "stderr",
     "output_type": "stream",
     "text": [
      "C:\\Users\\Qin\\Anaconda3\\lib\\site-packages\\ipykernel_launcher.py:1: DeprecationWarning: time.clock has been deprecated in Python 3.3 and will be removed from Python 3.8: use time.perf_counter or time.process_time instead\n",
      "  \"\"\"Entry point for launching an IPython kernel.\n"
     ]
    }
   ],
   "source": [
    "second = time.clock()"
   ]
  },
  {
   "cell_type": "code",
   "execution_count": 40,
   "id": "9259c9bc",
   "metadata": {},
   "outputs": [
    {
     "name": "stdout",
     "output_type": "stream",
     "text": [
      "time :  2.4657835000000006\n"
     ]
    }
   ],
   "source": [
    "print('time : ', (second - third))"
   ]
  },
  {
   "cell_type": "code",
   "execution_count": null,
   "id": "38711f3b",
   "metadata": {},
   "outputs": [],
   "source": []
  },
  {
   "cell_type": "code",
   "execution_count": null,
   "id": "f30dfa27",
   "metadata": {},
   "outputs": [],
   "source": []
  },
  {
   "cell_type": "code",
   "execution_count": 38,
   "id": "f28bdc84",
   "metadata": {},
   "outputs": [
    {
     "data": {
      "image/png": "[encoded data removed]",
      "text/plain": [
       "<Figure size 432x288 with 2 Axes>"
      ]
     },
     "metadata": {
      "needs_background": "light"
     },
     "output_type": "display_data"
    }
   ],
   "source": [
    "# print(classification_report(y_label, y_pred_if, target_names=['anomaly', 'normal']))\n",
    "# print (\"AUC: \", \"{:.5%}\".format(roc_auc_score(y_label, y_pred_if)))\n",
    "cm = confusion_matrix(y_label, y_pred_if)\n",
    "plot_confusion_matrix(cm, title=\"IF Confusion Matrix - SA\", save=True, saveas=\"IF_SA.png\")"
   ]
  },
  {
   "cell_type": "code",
   "execution_count": 39,
   "id": "602a65f6",
   "metadata": {},
   "outputs": [
    {
     "ename": "NameError",
     "evalue": "name 'y_train_nd' is not defined",
     "output_type": "error",
     "traceback": [
      "\u001b[1;31m---------------------------------------------------------------------------\u001b[0m",
      "\u001b[1;31mNameError\u001b[0m                                 Traceback (most recent call last)",
      "\u001b[1;32m<ipython-input-39-0c4b2a3d6b1e>\u001b[0m in \u001b[0;36m<module>\u001b[1;34m\u001b[0m\n\u001b[1;32m----> 1\u001b[1;33m \u001b[0mprint\u001b[0m\u001b[1;33m(\u001b[0m\u001b[0mclassification_report\u001b[0m\u001b[1;33m(\u001b[0m\u001b[0my_train_nd\u001b[0m\u001b[1;33m,\u001b[0m \u001b[0my_pred_train_lof\u001b[0m\u001b[1;33m,\u001b[0m \u001b[0mtarget_names\u001b[0m\u001b[1;33m=\u001b[0m\u001b[1;33m[\u001b[0m\u001b[1;34m'anomaly'\u001b[0m\u001b[1;33m,\u001b[0m \u001b[1;34m'normal'\u001b[0m\u001b[1;33m]\u001b[0m\u001b[1;33m)\u001b[0m\u001b[1;33m)\u001b[0m\u001b[1;33m\u001b[0m\u001b[1;33m\u001b[0m\u001b[0m\n\u001b[0m\u001b[0;32m      2\u001b[0m \u001b[0mprint\u001b[0m \u001b[1;33m(\u001b[0m\u001b[1;34m\"AUC: \"\u001b[0m\u001b[1;33m,\u001b[0m \u001b[1;34m\"{:.1%}\"\u001b[0m\u001b[1;33m.\u001b[0m\u001b[0mformat\u001b[0m\u001b[1;33m(\u001b[0m\u001b[0mroc_auc_score\u001b[0m\u001b[1;33m(\u001b[0m\u001b[0my_train_nd\u001b[0m\u001b[1;33m,\u001b[0m \u001b[0my_pred_train_lof\u001b[0m\u001b[1;33m)\u001b[0m\u001b[1;33m)\u001b[0m\u001b[1;33m)\u001b[0m\u001b[1;33m\u001b[0m\u001b[1;33m\u001b[0m\u001b[0m\n\u001b[0;32m      3\u001b[0m \u001b[0mcm\u001b[0m \u001b[1;33m=\u001b[0m \u001b[0mconfusion_matrix\u001b[0m\u001b[1;33m(\u001b[0m\u001b[0my_train_nd\u001b[0m\u001b[1;33m,\u001b[0m \u001b[0my_pred_train_lof\u001b[0m\u001b[1;33m)\u001b[0m\u001b[1;33m\u001b[0m\u001b[1;33m\u001b[0m\u001b[0m\n\u001b[0;32m      4\u001b[0m \u001b[0mplot_confusion_matrix\u001b[0m\u001b[1;33m(\u001b[0m\u001b[0mcm\u001b[0m\u001b[1;33m,\u001b[0m \u001b[0mtitle\u001b[0m\u001b[1;33m=\u001b[0m\u001b[1;34m\"LOF Confusion Matrix - SA\"\u001b[0m\u001b[1;33m)\u001b[0m\u001b[1;33m\u001b[0m\u001b[1;33m\u001b[0m\u001b[0m\n",
      "\u001b[1;31mNameError\u001b[0m: name 'y_train_nd' is not defined"
     ]
    }
   ],
   "source": [
    "print(classification_report(y_train_nd, y_pred_train_lof, target_names=['anomaly', 'normal']))\n",
    "print (\"AUC: \", \"{:.1%}\".format(roc_auc_score(y_train_nd, y_pred_train_lof)))\n",
    "cm = confusion_matrix(y_train_nd, y_pred_train_lof)\n",
    "plot_confusion_matrix(cm, title=\"LOF Confusion Matrix - SA\")"
   ]
  },
  {
   "cell_type": "code",
   "execution_count": null,
   "id": "8c962c71",
   "metadata": {},
   "outputs": [],
   "source": [
    "# X_train_sf, X_test_sf, y_train_sf, y_test_sf = train_test_split(dfSF.drop([target, 'binary_target'], axis=1), \n",
    "#                                                                 dfSF['binary_target'], test_size=0.33, random_state=11)\n",
    "# X_train_nd, X_test_nd, y_train_nd, y_test_nd = train_test_split(dfSF_normed, dfSF['binary_target'], \n",
    "#                                                     test_size=0.33, random_state=11)"
   ]
  },
  {
   "cell_type": "code",
   "execution_count": null,
   "id": "346f7db9",
   "metadata": {},
   "outputs": [],
   "source": [
    "# clfIF = IsolationForest(max_samples=0.25, random_state=11, contamination = 0.15, n_estimators=100, n_jobs=-1)\n",
    "# clfLOF = LocalOutlierFactor(n_neighbors=15, metric='euclidean', algorithm = 'auto', contamination=0.15, n_jobs=-1)"
   ]
  },
  {
   "cell_type": "code",
   "execution_count": null,
   "id": "38c70f41",
   "metadata": {},
   "outputs": [],
   "source": [
    "# start = datetime.datetime.now()\n",
    "# clfIF.fit(X_train_sf,y_train_sf)\n",
    "# y_pred_train = clfIF.predict(X_train_sf)\n",
    "# end = datetime.datetime.now()\n",
    "# print (end-start)"
   ]
  },
  {
   "cell_type": "code",
   "execution_count": null,
   "id": "bbdf8c25",
   "metadata": {},
   "outputs": [],
   "source": [
    "# start = datetime.datetime.now()\n",
    "# y_pred_train_lof = clfLOF.fit_predict(X_train_nd,y_train_nd)\n",
    "# end = datetime.datetime.now()\n",
    "# print (end-start)"
   ]
  },
  {
   "cell_type": "code",
   "execution_count": null,
   "id": "ecda927e",
   "metadata": {},
   "outputs": [],
   "source": [
    "# print(classification_report(y_train_sf, y_pred_train, target_names=['anomaly', 'normal']))\n",
    "# print (\"AUC: \", \"{:.1%}\".format(roc_auc_score(y_train_sf, y_pred_train)))\n",
    "# cm = confusion_matrix(y_train_sf, y_pred_train)\n",
    "# plot_confusion_matrix(cm, title=\"IF Confusion Matrix - SF\", save=True, saveas=\"IF_SF.png\")"
   ]
  },
  {
   "cell_type": "code",
   "execution_count": null,
   "id": "b565e459",
   "metadata": {},
   "outputs": [],
   "source": [
    "# print(classification_report(y_train_nd, y_pred_train_lof, target_names=['anomaly', 'normal']))\n",
    "# print (\"AUC: \", \"{:.1%}\".format(roc_auc_score(y_train_nd, y_pred_train_lof)))\n",
    "# cm = confusion_matrix(y_train_nd, y_pred_train_lof)\n",
    "# plot_confusion_matrix(cm, title=\"LOF Confusion Matrix - SF\")"
   ]
  },
  {
   "cell_type": "code",
   "execution_count": null,
   "id": "eeebd8db",
   "metadata": {},
   "outputs": [],
   "source": []
  },
  {
   "cell_type": "code",
   "execution_count": null,
   "id": "668be2d7",
   "metadata": {},
   "outputs": [],
   "source": [
    "clfIF = IsolationForest(max_samples=0.25, random_state=11, contamination = 0.15, n_estimators=100, n_jobs=-1)\n",
    "\n",
    "clfIF.fit(X_train_sa,y_train_sa)\n",
    "y_pred_test = clfIF.predict(X_test_sa)\n",
    "\n",
    "print(classification_report(y_test_sa, y_pred_test, target_names=['anomaly', 'normal']))\n",
    "print (\"AUC: \", \"{:.1%}\".format(roc_auc_score(y_test_sa, y_pred_test)))\n",
    "cm = confusion_matrix(y_test_sa, y_pred_test)\n",
    "plot_confusion_matrix(cm, title=\"IF Confusion Matrix - SA\", save=True, saveas=\"IF_SA_Test.png\")"
   ]
  },
  {
   "cell_type": "code",
   "execution_count": null,
   "id": "0a7e6913",
   "metadata": {},
   "outputs": [],
   "source": [
    "# clfIF = IsolationForest(max_samples=0.25, random_state=11, contamination = 0.15, n_estimators=100, n_jobs=-1)\n",
    "\n",
    "# clfIF.fit(X_train_sf,y_train_sf)\n",
    "# y_pred_test = clfIF.predict(X_test_sf)\n",
    "\n",
    "# print(classification_report(y_test_sf, y_pred_test, target_names=['anomaly', 'normal']))\n",
    "# print (\"AUC: \", \"{:.1%}\".format(roc_auc_score(y_test_sf, y_pred_test)))\n",
    "# cm = confusion_matrix(y_test_sf, y_pred_test)\n",
    "# plot_confusion_matrix(cm, title=\"IF Confusion Matrix - SF\", save=True, saveas=\"IF_SF_Test.png\")"
   ]
  },
  {
   "cell_type": "code",
   "execution_count": null,
   "id": "6e1c5443",
   "metadata": {},
   "outputs": [],
   "source": []
  },
  {
   "cell_type": "code",
   "execution_count": null,
   "id": "7b8b2adc",
   "metadata": {},
   "outputs": [],
   "source": [
    "scoring = {'AUC': 'roc_auc', 'Recall': make_scorer(recall_score, pos_label=-1)}"
   ]
  },
  {
   "cell_type": "code",
   "execution_count": null,
   "id": "ab506f00",
   "metadata": {},
   "outputs": [],
   "source": [
    "gs = GridSearchCV(IsolationForest(max_samples=0.25, random_state=11, contamination = 0.15, n_jobs=-1),\n",
    "                  param_grid={'n_estimators': range(20, 230, 30)},\n",
    "                  scoring=scoring, refit='Recall')\n",
    "gs.fit(X_train_sa, y_train_sa)\n",
    "results = gs.cv_results_"
   ]
  },
  {
   "cell_type": "code",
   "execution_count": null,
   "id": "860e03c6",
   "metadata": {},
   "outputs": [],
   "source": [
    "plot_gridsearch_cv(results, \"n_estimators\", 0, 230, 0.73, 1.05, save=True, saveas=\"GS_n_est.png\")"
   ]
  },
  {
   "cell_type": "code",
   "execution_count": null,
   "id": "c87d5463",
   "metadata": {},
   "outputs": [],
   "source": []
  },
  {
   "cell_type": "code",
   "execution_count": null,
   "id": "bc0cb40b",
   "metadata": {},
   "outputs": [],
   "source": [
    "gs_ms = GridSearchCV(IsolationForest(random_state=11, contamination = 0.15, n_estimators=150, n_jobs=-1),\n",
    "                  param_grid={'max_samples': np.arange(0.1, 1.0, 0.1)},\n",
    "                  scoring=scoring, refit='Recall')\n",
    "gs_ms.fit(X_train_sa, y_train_sa)\n",
    "results = gs_ms.cv_results_"
   ]
  },
  {
   "cell_type": "code",
   "execution_count": null,
   "id": "1530e6d1",
   "metadata": {},
   "outputs": [],
   "source": [
    "plot_gridsearch_cv(results, \"max_samples\", 0, 1, 0.73, 1.05, save=True, saveas=\"GS_max_samples.png\")"
   ]
  },
  {
   "cell_type": "code",
   "execution_count": null,
   "id": "94477a41",
   "metadata": {},
   "outputs": [],
   "source": []
  },
  {
   "cell_type": "code",
   "execution_count": null,
   "id": "6aaa330f",
   "metadata": {},
   "outputs": [],
   "source": [
    "gs_cont = GridSearchCV(IsolationForest(random_state=11, max_samples=0.10, n_estimators=150, n_jobs=-1),\n",
    "                  param_grid={'contamination': np.arange(0.01, 0.25, 0.05)},\n",
    "                  scoring=scoring, refit='Recall')\n",
    "gs_cont.fit(X_train_sf, y_train_sf)\n",
    "results = gs_cont.cv_results_"
   ]
  },
  {
   "cell_type": "code",
   "execution_count": null,
   "id": "9693c371",
   "metadata": {},
   "outputs": [],
   "source": [
    "plot_gridsearch_cv(results, \"contamination\", 0, 0.20, 0.80, 1.08, save=True, saveas=\"GS_cont.png\")"
   ]
  },
  {
   "cell_type": "code",
   "execution_count": null,
   "id": "895f795f",
   "metadata": {},
   "outputs": [],
   "source": []
  }
 ],
 "metadata": {
  "kernelspec": {
   "display_name": "Python 3",
   "language": "python",
   "name": "python3"
  },
  "language_info": {
   "codemirror_mode": {
    "name": "ipython",
    "version": 3
   },
   "file_extension": ".py",
   "mimetype": "text/x-python",
   "name": "python",
   "nbconvert_exporter": "python",
   "pygments_lexer": "ipython3",
   "version": "3.7.4"
  }
 },
 "nbformat": 4,
 "nbformat_minor": 5
}
