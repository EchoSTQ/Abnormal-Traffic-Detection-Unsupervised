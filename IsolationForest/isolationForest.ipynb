{
 "cells": [
  {
   "cell_type": "code",
   "execution_count": 1,
   "id": "f3440f6c",
   "metadata": {},
   "outputs": [],
   "source": [
    "from sklearn import datasets\n",
    "from sklearn import preprocessing\n",
    "from sklearn.model_selection import train_test_split\n",
    "\n",
    "from sklearn.ensemble import IsolationForest\n",
    "from sklearn.neighbors import LocalOutlierFactor\n",
    "from sklearn import svm\n",
    "from sklearn.neighbors import NearestNeighbors\n",
    "\n",
    "from sklearn.metrics import classification_report\n",
    "from sklearn.metrics import confusion_matrix\n",
    "from sklearn.metrics import recall_score\n",
    "from sklearn.metrics import roc_auc_score\n",
    "from sklearn.model_selection import GridSearchCV\n",
    "from sklearn.metrics import make_scorer\n",
    "from sklearn.metrics import accuracy_score\n",
    "\n",
    "import pandas as pd\n",
    "import numpy as np\n",
    "import itertools\n",
    "import matplotlib.pyplot as plt\n",
    "import time"
   ]
  },
  {
   "cell_type": "code",
   "execution_count": 2,
   "id": "12d75123",
   "metadata": {},
   "outputs": [],
   "source": [
    "def byte_decoder(val):\n",
    "    # decodes byte literals to strings\n",
    "    \n",
    "    return val.decode('utf-8')"
   ]
  },
  {
   "cell_type": "code",
   "execution_count": 3,
   "id": "49703846",
   "metadata": {},
   "outputs": [],
   "source": [
    "def plot_confusion_matrix(cm, title, classes=['abnormal', 'normal'],\n",
    "                          cmap=plt.cm.Blues, save=False, saveas=\"MyFigure.png\"):\n",
    "    \n",
    "    # print Confusion matrix with blue gradient colours\n",
    "    \n",
    "    cm = cm.astype('float') / cm.sum(axis=1)[:, np.newaxis]\n",
    "    \n",
    "    plt.imshow(cm, interpolation='nearest', cmap=cmap)\n",
    "    plt.title(title)\n",
    "    plt.colorbar()\n",
    "    tick_marks = np.arange(len(classes))\n",
    "    plt.xticks(tick_marks, classes, rotation=90)\n",
    "    plt.yticks(tick_marks, classes)\n",
    "\n",
    "    fmt = '.1%'\n",
    "    thresh = cm.max() / 2.\n",
    "    for i, j in itertools.product(range(cm.shape[0]), range(cm.shape[1])):\n",
    "        plt.text(j, i, format(cm[i, j], fmt),\n",
    "                 horizontalalignment=\"center\",\n",
    "                 color=\"white\" if cm[i, j] > thresh else \"black\")\n",
    "\n",
    "    plt.tight_layout()\n",
    "    plt.ylabel('True label')\n",
    "    plt.xlabel('Predicted label')\n",
    "    \n",
    "    if save:\n",
    "        plt.savefig(saveas, dpi=100)"
   ]
  },
  {
   "cell_type": "code",
   "execution_count": 4,
   "id": "e34bbcd2",
   "metadata": {},
   "outputs": [],
   "source": [
    "def plot_gridsearch_cv(results, estimator, x_min, x_max, y_min, y_max,save=False, saveas=\"MyFigure.png\"):\n",
    "    \n",
    "    # print GridSearch cross-validation for parameters\n",
    "    \n",
    "    plt.figure(figsize=(10,8))\n",
    "    plt.title(\"GridSearchCV for \"+estimator, fontsize=24)\n",
    "\n",
    "    plt.xlabel(estimator)\n",
    "    plt.ylabel(\"Score\")\n",
    "    plt.grid()\n",
    "\n",
    "    ax = plt.axes()\n",
    "    ax.set_xlim(x_min, x_max)\n",
    "    ax.set_ylim(y_min, y_max)\n",
    "\n",
    "    pad = 0.005\n",
    "    X_axis = np.array(results[\"param_\"+estimator].data, dtype=float)\n",
    "\n",
    "    for scorer, color in zip(sorted(scoring), ['b', 'k']):\n",
    "        for sample, style in (('train', '--'), ('test', '-')):\n",
    "            sample_score_mean = results['mean_%s_%s' % (sample, scorer)]\n",
    "            sample_score_std = results['std_%s_%s' % (sample, scorer)]\n",
    "            ax.fill_between(X_axis, sample_score_mean - sample_score_std,\n",
    "                        sample_score_mean + sample_score_std,\n",
    "                        alpha=0.1 if sample == 'test' else 0, color=color)\n",
    "            ax.plot(X_axis, sample_score_mean, style, color=color,\n",
    "                alpha=1 if sample == 'test' else 0.7,\n",
    "                label=\"%s (%s)\" % (scorer, sample))\n",
    "\n",
    "        best_index = np.nonzero(results['rank_test_%s' % scorer] == 1)[0][0]\n",
    "        best_score = results['mean_test_%s' % scorer][best_index]\n",
    "\n",
    "        # Plot a dotted vertical line at the best score for that scorer marked by x\n",
    "        ax.plot([X_axis[best_index], ] * 2, [0, best_score],\n",
    "            linestyle='-.', color=color, marker='x', markeredgewidth=3, ms=8)\n",
    "\n",
    "        # Annotate the best score for that scorer\n",
    "        ax.annotate(\"%0.5f\" % best_score,\n",
    "                (X_axis[best_index], best_score+pad))\n",
    "\n",
    "    plt.legend(loc=\"best\")\n",
    "    plt.grid('off')\n",
    "    plt.tight_layout()\n",
    "    if save:\n",
    "        plt.savefig(saveas, dpi=100)\n",
    "        \n",
    "    plt.show()"
   ]
  },
  {
   "cell_type": "code",
   "execution_count": 5,
   "id": "0d5370aa",
   "metadata": {},
   "outputs": [],
   "source": [
    "# target = 'target'\n",
    "# sf = datasets.fetch_kddcup99(subset='SF', percent10=False)\n",
    "# dfSF=pd.DataFrame(sf.data, \n",
    "#                   columns=[\"duration\", \"service\", \"src_bytes\", \"dst_bytes\"])\n",
    "# assert len(dfSF)>0, \"SF dataset no loaded.\"\n",
    "\n",
    "# dfSF[target]=sf.target\n",
    "# anomaly_rateSF = 1.0 - len(dfSF.loc[dfSF[target]==b'normal.'])/len(dfSF)\n",
    "\n",
    "# \"SF Anomaly Rate is:\"+\"{:.1%}\".format(anomaly_rateSF)"
   ]
  },
  {
   "cell_type": "code",
   "execution_count": 6,
   "id": "491d1201",
   "metadata": {},
   "outputs": [],
   "source": [
    "# 手动添加特征，训练集42，测试集41\n",
    "\n",
    "feather = ['duration', 'protocol_type', 'service', 'flag', 'src_bytes', 'dst_bytes', 'land', 'wrong_fragment', 'urgent', 'hot', \n",
    "           'num_failed_logins', 'logged_in', 'lnum_compromised', 'lroot_shell', 'lsu_attempted', 'lnum_root', 'lnum_file_creations', \n",
    "           'lnum_shells', 'lnum_access_files', 'lnum_outbound_cmds', 'is_host_login', 'is_guest_login', 'count', 'srv_count', 'serror_rate', \n",
    "           'srv_serror_rate', 'rerror_rate', 'srv_rerror_rate', 'same_srv_rate', 'diff_srv_rate', 'srv_diff_host_rate', 'dst_host_count', \n",
    "           'dst_host_srv_count', 'dst_host_same_srv_rate', 'dst_host_diff_srv_rate', 'dst_host_same_src_port_rate', 'dst_host_srv_diff_host_rate', \n",
    "           'dst_host_serror_rate', 'dst_host_srv_serror_rate', 'dst_host_rerror_rate', 'dst_host_srv_rerror_rate', 'label']"
   ]
  },
  {
   "cell_type": "code",
   "execution_count": 7,
   "id": "97c2b03f",
   "metadata": {},
   "outputs": [],
   "source": [
    "# TRAIN_DATA_PATH = 'C:\\\\Users\\\\Qin\\\\Desktop\\\\UNSW-NB 15\\\\UNSW_NB15_training-set.csv'\n",
    "TRAIN_DATA_PATH = 'C:\\\\Users\\\\Qin\\\\Desktop\\\\kddcup\\\\train_10_percent_kddcup.csv'\n",
    "TEST_DATA_PATH = 'C:\\\\Users\\\\Qin\\\\Desktop\\\\kddcup\\\\test_10_percent_kddcup.csv'"
   ]
  },
  {
   "cell_type": "code",
   "execution_count": 8,
   "id": "325cc0e2",
   "metadata": {},
   "outputs": [
    {
     "name": "stderr",
     "output_type": "stream",
     "text": [
      "C:\\Users\\Qin\\Anaconda3\\lib\\site-packages\\IPython\\core\\interactiveshell.py:3166: DtypeWarning: Columns (2) have mixed types. Specify dtype option on import or set low_memory=False.\n",
      "  interactivity=interactivity, compiler=compiler, result=result)\n"
     ]
    }
   ],
   "source": [
    "train_df = pd.read_csv(TRAIN_DATA_PATH, header = None, names = feather)\n",
    "test_df = pd.read_csv(TEST_DATA_PATH, header = None, names = feather)"
   ]
  },
  {
   "cell_type": "code",
   "execution_count": 9,
   "id": "18ddb684",
   "metadata": {},
   "outputs": [],
   "source": [
    "train_df = train_df[train_df['label'] == 0]\n",
    "y_label = test_df.iloc[ : , 41 : 42]"
   ]
  },
  {
   "cell_type": "code",
   "execution_count": 10,
   "id": "799ebded",
   "metadata": {},
   "outputs": [],
   "source": [
    "# 删除所有分类列\n",
    "train_df.drop(['protocol_type', 'service', 'flag', 'land', 'logged_in', 'is_host_login', 'is_guest_login', 'label'], axis = 1, inplace = True)\n",
    "# 删除无标准偏差的列\n",
    "train_df.drop(['wrong_fragment', 'urgent', 'num_failed_logins', 'lsu_attempted', 'lnum_file_creations', 'lnum_outbound_cmds'], axis = 1, inplace = True)\n",
    "\n",
    "# 删除所有分类列\n",
    "test_df.drop(['protocol_type', 'service', 'flag', 'land', 'logged_in', 'is_host_login', 'is_guest_login', 'label'], axis = 1, inplace = True)\n",
    "# 删除无标准偏差的列\n",
    "test_df.drop(['wrong_fragment', 'urgent', 'num_failed_logins', 'lsu_attempted', 'lnum_file_creations', 'lnum_outbound_cmds'], axis = 1, inplace = True)"
   ]
  },
  {
   "cell_type": "code",
   "execution_count": 11,
   "id": "8cd8ec73",
   "metadata": {},
   "outputs": [],
   "source": [
    "y_labels = pd.Series([0 if i == 0 else 1 for i in y_label['label']])"
   ]
  },
  {
   "cell_type": "code",
   "execution_count": 12,
   "id": "a8f1c43b",
   "metadata": {},
   "outputs": [],
   "source": [
    "from sklearn.metrics import precision_recall_fscore_support\n",
    "from sklearn.metrics import confusion_matrix, roc_auc_score, roc_curve, f1_score, precision_score, recall_score, accuracy_score"
   ]
  },
  {
   "cell_type": "code",
   "execution_count": 13,
   "id": "61e04085",
   "metadata": {},
   "outputs": [],
   "source": [
    "clfIF = IsolationForest(max_samples=0.25, random_state=11, n_estimators=100, n_jobs=-1)"
   ]
  },
  {
   "cell_type": "code",
   "execution_count": 14,
   "id": "8492429c",
   "metadata": {},
   "outputs": [
    {
     "name": "stderr",
     "output_type": "stream",
     "text": [
      "C:\\Users\\Qin\\Anaconda3\\lib\\site-packages\\ipykernel_launcher.py:1: DeprecationWarning: time.clock has been deprecated in Python 3.3 and will be removed from Python 3.8: use time.perf_counter or time.process_time instead\n",
      "  \"\"\"Entry point for launching an IPython kernel.\n"
     ]
    },
    {
     "name": "stdout",
     "output_type": "stream",
     "text": [
      "Time :  1.719082499999999\n"
     ]
    },
    {
     "name": "stderr",
     "output_type": "stream",
     "text": [
      "C:\\Users\\Qin\\Anaconda3\\lib\\site-packages\\ipykernel_launcher.py:3: DeprecationWarning: time.clock has been deprecated in Python 3.3 and will be removed from Python 3.8: use time.perf_counter or time.process_time instead\n",
      "  This is separate from the ipykernel package so we can avoid doing imports until\n"
     ]
    }
   ],
   "source": [
    "start = time.clock()\n",
    "clfIF.fit(train_df)\n",
    "end = time.clock()\n",
    "print('Time : ', (end-start))"
   ]
  },
  {
   "cell_type": "code",
   "execution_count": 15,
   "id": "f461190f",
   "metadata": {},
   "outputs": [
    {
     "name": "stderr",
     "output_type": "stream",
     "text": [
      "C:\\Users\\Qin\\Anaconda3\\lib\\site-packages\\ipykernel_launcher.py:1: DeprecationWarning: time.clock has been deprecated in Python 3.3 and will be removed from Python 3.8: use time.perf_counter or time.process_time instead\n",
      "  \"\"\"Entry point for launching an IPython kernel.\n"
     ]
    },
    {
     "name": "stdout",
     "output_type": "stream",
     "text": [
      "Time :  13.882102499999998\n"
     ]
    },
    {
     "name": "stderr",
     "output_type": "stream",
     "text": [
      "C:\\Users\\Qin\\Anaconda3\\lib\\site-packages\\ipykernel_launcher.py:3: DeprecationWarning: time.clock has been deprecated in Python 3.3 and will be removed from Python 3.8: use time.perf_counter or time.process_time instead\n",
      "  This is separate from the ipykernel package so we can avoid doing imports until\n"
     ]
    }
   ],
   "source": [
    "start = time.clock()\n",
    "y_pred_if = clfIF.predict(test_df)\n",
    "end = time.clock()\n",
    "print('Time : ', (end-start))"
   ]
  },
  {
   "cell_type": "code",
   "execution_count": 16,
   "id": "f67e6b7f",
   "metadata": {},
   "outputs": [],
   "source": [
    "i = 0\n",
    "for i in range(0, len(y_pred_if)) :\n",
    "    if y_pred_if[i] == 1 :\n",
    "        y_pred_if[i] = 0"
   ]
  },
  {
   "cell_type": "code",
   "execution_count": 17,
   "id": "c731c602",
   "metadata": {},
   "outputs": [],
   "source": [
    "i = 0\n",
    "for i in range(0, len(y_pred_if)) :\n",
    "    if y_pred_if[i] == -1 :\n",
    "        y_pred_if[i] = 1"
   ]
  },
  {
   "cell_type": "code",
   "execution_count": 18,
   "id": "2ef79135",
   "metadata": {},
   "outputs": [
    {
     "name": "stdout",
     "output_type": "stream",
     "text": [
      " Precision = 0.99542\n",
      " Recall    = 0.77737\n",
      " F1-Score  = 0.87298\n",
      " AUC  = 0.88129\n"
     ]
    }
   ],
   "source": [
    "prec, recall, fscore, _ = precision_recall_fscore_support(y_labels, y_pred_if, average=\"binary\")\n",
    "auc = roc_auc_score(y_labels, y_pred_if)\n",
    "print(f\" Precision = {prec:.5f}\")\n",
    "print(f\" Recall    = {recall:.5f}\")\n",
    "print(f\" F1-Score  = {fscore:.5f}\")\n",
    "print(f\" AUC  = {auc:.5f}\")"
   ]
  },
  {
   "cell_type": "code",
   "execution_count": 19,
   "id": "bfca2a2b",
   "metadata": {},
   "outputs": [
    {
     "data": {
      "text/plain": [
       "array([[ 59697,    896],\n",
       "       [ 55755, 194681]], dtype=int64)"
      ]
     },
     "execution_count": 19,
     "metadata": {},
     "output_type": "execute_result"
    }
   ],
   "source": [
    "confusion_matrix(y_labels, y_pred_if)"
   ]
  },
  {
   "cell_type": "code",
   "execution_count": 21,
   "id": "fb47a0be",
   "metadata": {},
   "outputs": [
    {
     "data": {
      "text/plain": [
       "0.8178272765562054"
      ]
     },
     "execution_count": 21,
     "metadata": {},
     "output_type": "execute_result"
    }
   ],
   "source": [
    "(59687 + 194681) / len(y_labels)"
   ]
  },
  {
   "cell_type": "code",
   "execution_count": null,
   "id": "0a9d06c1",
   "metadata": {},
   "outputs": [],
   "source": []
  },
  {
   "cell_type": "code",
   "execution_count": 22,
   "id": "d6845814",
   "metadata": {},
   "outputs": [],
   "source": [
    "clfLOF = LocalOutlierFactor(n_neighbors=15, metric='euclidean', algorithm='auto', contamination=0.15, n_jobs=-1, novelty = True)"
   ]
  },
  {
   "cell_type": "code",
   "execution_count": 23,
   "id": "4f3c65a5",
   "metadata": {},
   "outputs": [
    {
     "name": "stderr",
     "output_type": "stream",
     "text": [
      "C:\\Users\\Qin\\Anaconda3\\lib\\site-packages\\ipykernel_launcher.py:1: DeprecationWarning: time.clock has been deprecated in Python 3.3 and will be removed from Python 3.8: use time.perf_counter or time.process_time instead\n",
      "  \"\"\"Entry point for launching an IPython kernel.\n"
     ]
    },
    {
     "name": "stdout",
     "output_type": "stream",
     "text": [
      "Time :  339.0281774\n"
     ]
    },
    {
     "name": "stderr",
     "output_type": "stream",
     "text": [
      "C:\\Users\\Qin\\Anaconda3\\lib\\site-packages\\ipykernel_launcher.py:3: DeprecationWarning: time.clock has been deprecated in Python 3.3 and will be removed from Python 3.8: use time.perf_counter or time.process_time instead\n",
      "  This is separate from the ipykernel package so we can avoid doing imports until\n"
     ]
    }
   ],
   "source": [
    "start = time.clock()\n",
    "y_pred_lof = clfLOF.fit(train_df)\n",
    "end = time.clock()\n",
    "print('Time : ', (end-start))"
   ]
  },
  {
   "cell_type": "code",
   "execution_count": 24,
   "id": "03b54d3d",
   "metadata": {},
   "outputs": [
    {
     "name": "stderr",
     "output_type": "stream",
     "text": [
      "C:\\Users\\Qin\\Anaconda3\\lib\\site-packages\\ipykernel_launcher.py:1: DeprecationWarning: time.clock has been deprecated in Python 3.3 and will be removed from Python 3.8: use time.perf_counter or time.process_time instead\n",
      "  \"\"\"Entry point for launching an IPython kernel.\n"
     ]
    },
    {
     "name": "stdout",
     "output_type": "stream",
     "text": [
      "Time :  1084.7249013\n"
     ]
    },
    {
     "name": "stderr",
     "output_type": "stream",
     "text": [
      "C:\\Users\\Qin\\Anaconda3\\lib\\site-packages\\ipykernel_launcher.py:3: DeprecationWarning: time.clock has been deprecated in Python 3.3 and will be removed from Python 3.8: use time.perf_counter or time.process_time instead\n",
      "  This is separate from the ipykernel package so we can avoid doing imports until\n"
     ]
    }
   ],
   "source": [
    "start = time.clock()\n",
    "y_pred_lof = clfLOF.predict(test_df)\n",
    "end = time.clock()\n",
    "print('Time : ', (end-start))"
   ]
  },
  {
   "cell_type": "code",
   "execution_count": 25,
   "id": "c3e5d160",
   "metadata": {},
   "outputs": [],
   "source": [
    "temp = y_pred_lof"
   ]
  },
  {
   "cell_type": "code",
   "execution_count": 26,
   "id": "1c162fd3",
   "metadata": {},
   "outputs": [],
   "source": [
    "i = 0\n",
    "for i in range(0, len(y_pred_lof)) :\n",
    "    if y_pred_lof[i] == 1 :\n",
    "        y_pred_lof[i] = 0"
   ]
  },
  {
   "cell_type": "code",
   "execution_count": 27,
   "id": "66a30cbd",
   "metadata": {},
   "outputs": [],
   "source": [
    "i = 0\n",
    "for i in range(0, len(y_pred_lof)) :\n",
    "    if y_pred_lof[i] == -1 :\n",
    "        y_pred_lof[i] = 1"
   ]
  },
  {
   "cell_type": "code",
   "execution_count": 28,
   "id": "b6832688",
   "metadata": {
    "scrolled": true
   },
   "outputs": [
    {
     "name": "stdout",
     "output_type": "stream",
     "text": [
      " Precision = 0.93901\n",
      " Recall    = 0.94609\n",
      " F1-Score  = 0.94254\n",
      " AUC  = 0.84605\n"
     ]
    }
   ],
   "source": [
    "prec, recall, fscore, _ = precision_recall_fscore_support(y_labels, y_pred_lof, average=\"binary\")\n",
    "auc = roc_auc_score(y_labels, y_pred_lof)\n",
    "print(f\" Precision = {prec:.5f}\")\n",
    "print(f\" Recall    = {recall:.5f}\")\n",
    "print(f\" F1-Score  = {fscore:.5f}\")\n",
    "print(f\" AUC  = {auc:.5f}\")"
   ]
  },
  {
   "cell_type": "code",
   "execution_count": 29,
   "id": "2cb5d0c6",
   "metadata": {},
   "outputs": [
    {
     "data": {
      "text/plain": [
       "array([[ 45203,  15390],\n",
       "       [ 13500, 236936]], dtype=int64)"
      ]
     },
     "execution_count": 29,
     "metadata": {},
     "output_type": "execute_result"
    }
   ],
   "source": [
    "confusion_matrix(y_labels, y_pred_lof)"
   ]
  },
  {
   "cell_type": "code",
   "execution_count": 30,
   "id": "4d86047b",
   "metadata": {},
   "outputs": [
    {
     "data": {
      "text/plain": [
       "0.9071147706483962"
      ]
     },
     "execution_count": 30,
     "metadata": {},
     "output_type": "execute_result"
    }
   ],
   "source": [
    "(45203 + 236936) / len(y_labels)"
   ]
  },
  {
   "cell_type": "code",
   "execution_count": null,
   "id": "1cc3992e",
   "metadata": {},
   "outputs": [],
   "source": []
  },
  {
   "cell_type": "code",
   "execution_count": null,
   "id": "6d0dfa11",
   "metadata": {},
   "outputs": [],
   "source": [
    "# print(classification_report(y_label, y_pred_if, target_names=['anomaly', 'normal']))\n",
    "# print (\"AUC: \", \"{:.5%}\".format(roc_auc_score(y_label, y_pred_if)))\n",
    "cm = confusion_matrix(y_label, y_pred_if)\n",
    "plot_confusion_matrix(cm, title=\"IF Confusion Matrix - SA\", save=True, saveas=\"IF_SA.png\")"
   ]
  },
  {
   "cell_type": "code",
   "execution_count": null,
   "id": "2887cf39",
   "metadata": {},
   "outputs": [],
   "source": [
    "print(classification_report(y_train_nd, y_pred_train_lof, target_names=['anomaly', 'normal']))\n",
    "print (\"AUC: \", \"{:.1%}\".format(roc_auc_score(y_train_nd, y_pred_train_lof)))\n",
    "cm = confusion_matrix(y_train_nd, y_pred_train_lof)\n",
    "plot_confusion_matrix(cm, title=\"LOF Confusion Matrix - SA\")"
   ]
  },
  {
   "cell_type": "code",
   "execution_count": null,
   "id": "2e2455fc",
   "metadata": {},
   "outputs": [],
   "source": [
    "# X_train_sf, X_test_sf, y_train_sf, y_test_sf = train_test_split(dfSF.drop([target, 'binary_target'], axis=1), \n",
    "#                                                                 dfSF['binary_target'], test_size=0.33, random_state=11)\n",
    "# X_train_nd, X_test_nd, y_train_nd, y_test_nd = train_test_split(dfSF_normed, dfSF['binary_target'], \n",
    "#                                                     test_size=0.33, random_state=11)"
   ]
  },
  {
   "cell_type": "code",
   "execution_count": null,
   "id": "9ddd202d",
   "metadata": {},
   "outputs": [],
   "source": [
    "# clfIF = IsolationForest(max_samples=0.25, random_state=11, contamination = 0.15, n_estimators=100, n_jobs=-1)\n",
    "# clfLOF = LocalOutlierFactor(n_neighbors=15, metric='euclidean', algorithm = 'auto', contamination=0.15, n_jobs=-1)"
   ]
  },
  {
   "cell_type": "code",
   "execution_count": null,
   "id": "4f49b579",
   "metadata": {},
   "outputs": [],
   "source": [
    "# start = datetime.datetime.now()\n",
    "# clfIF.fit(X_train_sf,y_train_sf)\n",
    "# y_pred_train = clfIF.predict(X_train_sf)\n",
    "# end = datetime.datetime.now()\n",
    "# print (end-start)"
   ]
  },
  {
   "cell_type": "code",
   "execution_count": null,
   "id": "7c047ca9",
   "metadata": {},
   "outputs": [],
   "source": [
    "# start = datetime.datetime.now()\n",
    "# y_pred_train_lof = clfLOF.fit_predict(X_train_nd,y_train_nd)\n",
    "# end = datetime.datetime.now()\n",
    "# print (end-start)"
   ]
  },
  {
   "cell_type": "code",
   "execution_count": null,
   "id": "06252465",
   "metadata": {},
   "outputs": [],
   "source": [
    "# print(classification_report(y_train_sf, y_pred_train, target_names=['anomaly', 'normal']))\n",
    "# print (\"AUC: \", \"{:.1%}\".format(roc_auc_score(y_train_sf, y_pred_train)))\n",
    "# cm = confusion_matrix(y_train_sf, y_pred_train)\n",
    "# plot_confusion_matrix(cm, title=\"IF Confusion Matrix - SF\", save=True, saveas=\"IF_SF.png\")"
   ]
  },
  {
   "cell_type": "code",
   "execution_count": null,
   "id": "666a7052",
   "metadata": {},
   "outputs": [],
   "source": [
    "# print(classification_report(y_train_nd, y_pred_train_lof, target_names=['anomaly', 'normal']))\n",
    "# print (\"AUC: \", \"{:.1%}\".format(roc_auc_score(y_train_nd, y_pred_train_lof)))\n",
    "# cm = confusion_matrix(y_train_nd, y_pred_train_lof)\n",
    "# plot_confusion_matrix(cm, title=\"LOF Confusion Matrix - SF\")"
   ]
  },
  {
   "cell_type": "code",
   "execution_count": null,
   "id": "b476618a",
   "metadata": {},
   "outputs": [],
   "source": []
  },
  {
   "cell_type": "code",
   "execution_count": null,
   "id": "eb8c7705",
   "metadata": {},
   "outputs": [],
   "source": [
    "clfIF = IsolationForest(max_samples=0.25, random_state=11, contamination = 0.15, n_estimators=100, n_jobs=-1)\n",
    "\n",
    "clfIF.fit(X_train_sa,y_train_sa)\n",
    "y_pred_test = clfIF.predict(X_test_sa)\n",
    "\n",
    "print(classification_report(y_test_sa, y_pred_test, target_names=['anomaly', 'normal']))\n",
    "print (\"AUC: \", \"{:.1%}\".format(roc_auc_score(y_test_sa, y_pred_test)))\n",
    "cm = confusion_matrix(y_test_sa, y_pred_test)\n",
    "plot_confusion_matrix(cm, title=\"IF Confusion Matrix - SA\", save=True, saveas=\"IF_SA_Test.png\")"
   ]
  },
  {
   "cell_type": "code",
   "execution_count": null,
   "id": "30d7f20a",
   "metadata": {},
   "outputs": [],
   "source": [
    "# clfIF = IsolationForest(max_samples=0.25, random_state=11, contamination = 0.15, n_estimators=100, n_jobs=-1)\n",
    "\n",
    "# clfIF.fit(X_train_sf,y_train_sf)\n",
    "# y_pred_test = clfIF.predict(X_test_sf)\n",
    "\n",
    "# print(classification_report(y_test_sf, y_pred_test, target_names=['anomaly', 'normal']))\n",
    "# print (\"AUC: \", \"{:.1%}\".format(roc_auc_score(y_test_sf, y_pred_test)))\n",
    "# cm = confusion_matrix(y_test_sf, y_pred_test)\n",
    "# plot_confusion_matrix(cm, title=\"IF Confusion Matrix - SF\", save=True, saveas=\"IF_SF_Test.png\")"
   ]
  },
  {
   "cell_type": "code",
   "execution_count": null,
   "id": "995f4749",
   "metadata": {},
   "outputs": [],
   "source": []
  },
  {
   "cell_type": "code",
   "execution_count": null,
   "id": "c4853894",
   "metadata": {},
   "outputs": [],
   "source": [
    "scoring = {'AUC': 'roc_auc', 'Recall': make_scorer(recall_score, pos_label=-1)}"
   ]
  },
  {
   "cell_type": "code",
   "execution_count": null,
   "id": "96047db0",
   "metadata": {},
   "outputs": [],
   "source": [
    "gs = GridSearchCV(IsolationForest(max_samples=0.25, random_state=11, contamination = 0.15, n_jobs=-1),\n",
    "                  param_grid={'n_estimators': range(20, 230, 30)},\n",
    "                  scoring=scoring, refit='Recall')\n",
    "gs.fit(X_train_sa, y_train_sa)\n",
    "results = gs.cv_results_"
   ]
  },
  {
   "cell_type": "code",
   "execution_count": null,
   "id": "fc0f8c6b",
   "metadata": {},
   "outputs": [],
   "source": [
    "plot_gridsearch_cv(results, \"n_estimators\", 0, 230, 0.73, 1.05, save=True, saveas=\"GS_n_est.png\")"
   ]
  },
  {
   "cell_type": "code",
   "execution_count": null,
   "id": "7072966c",
   "metadata": {},
   "outputs": [],
   "source": []
  },
  {
   "cell_type": "code",
   "execution_count": null,
   "id": "18457092",
   "metadata": {},
   "outputs": [],
   "source": [
    "gs_ms = GridSearchCV(IsolationForest(random_state=11, contamination = 0.15, n_estimators=150, n_jobs=-1),\n",
    "                  param_grid={'max_samples': np.arange(0.1, 1.0, 0.1)},\n",
    "                  scoring=scoring, refit='Recall')\n",
    "gs_ms.fit(X_train_sa, y_train_sa)\n",
    "results = gs_ms.cv_results_"
   ]
  },
  {
   "cell_type": "code",
   "execution_count": null,
   "id": "aa74cf09",
   "metadata": {},
   "outputs": [],
   "source": [
    "plot_gridsearch_cv(results, \"max_samples\", 0, 1, 0.73, 1.05, save=True, saveas=\"GS_max_samples.png\")"
   ]
  },
  {
   "cell_type": "code",
   "execution_count": null,
   "id": "31f0698b",
   "metadata": {},
   "outputs": [],
   "source": []
  },
  {
   "cell_type": "code",
   "execution_count": null,
   "id": "1ff854b2",
   "metadata": {},
   "outputs": [],
   "source": [
    "gs_cont = GridSearchCV(IsolationForest(random_state=11, max_samples=0.10, n_estimators=150, n_jobs=-1),\n",
    "                  param_grid={'contamination': np.arange(0.01, 0.25, 0.05)},\n",
    "                  scoring=scoring, refit='Recall')\n",
    "gs_cont.fit(X_train_sf, y_train_sf)\n",
    "results = gs_cont.cv_results_"
   ]
  },
  {
   "cell_type": "code",
   "execution_count": null,
   "id": "5e8f15b7",
   "metadata": {},
   "outputs": [],
   "source": [
    "plot_gridsearch_cv(results, \"contamination\", 0, 0.20, 0.80, 1.08, save=True, saveas=\"GS_cont.png\")"
   ]
  },
  {
   "cell_type": "code",
   "execution_count": null,
   "id": "a5c2a5ef",
   "metadata": {},
   "outputs": [],
   "source": []
  }
 ],
 "metadata": {
  "kernelspec": {
   "display_name": "Python 3",
   "language": "python",
   "name": "python3"
  },
  "language_info": {
   "codemirror_mode": {
    "name": "ipython",
    "version": 3
   },
   "file_extension": ".py",
   "mimetype": "text/x-python",
   "name": "python",
   "nbconvert_exporter": "python",
   "pygments_lexer": "ipython3",
   "version": "3.7.4"
  }
 },
 "nbformat": 4,
 "nbformat_minor": 5
}
