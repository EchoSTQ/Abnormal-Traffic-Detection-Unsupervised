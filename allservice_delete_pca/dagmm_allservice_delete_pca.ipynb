{
 "cells": [
  {
   "cell_type": "code",
   "execution_count": 1,
   "id": "911c1768",
   "metadata": {},
   "outputs": [],
   "source": [
    "import tensorflow.compat.v1 as tf\n",
    "import numpy as np\n",
    "import pandas as pd\n",
    "import time\n",
    "from sklearn.decomposition import PCA\n",
    "\n",
    "from sklearn.model_selection import train_test_split\n",
    "from sklearn.metrics import precision_recall_fscore_support\n",
    "\n",
    "from dagmm.dagmm import DAGMM\n",
    "from sklearn.metrics import confusion_matrix, roc_auc_score, roc_curve, f1_score, precision_score, recall_score, accuracy_score"
   ]
  },
  {
   "cell_type": "code",
   "execution_count": 2,
   "id": "4f327b2f",
   "metadata": {},
   "outputs": [
    {
     "name": "stderr",
     "output_type": "stream",
     "text": [
      "C:\\Users\\Qin\\Anaconda3\\lib\\site-packages\\ipykernel_launcher.py:1: DeprecationWarning: time.clock has been deprecated in Python 3.3 and will be removed from Python 3.8: use time.perf_counter or time.process_time instead\n",
      "  \"\"\"Entry point for launching an IPython kernel.\n"
     ]
    }
   ],
   "source": [
    "first = time.clock()"
   ]
  },
  {
   "cell_type": "code",
   "execution_count": 3,
   "id": "650ca753",
   "metadata": {},
   "outputs": [],
   "source": [
    "# 手动添加特征，训练集42，测试集41\n",
    "\n",
    "feather = ['duration', 'protocol_type', 'service', 'flag', 'src_bytes', 'dst_bytes', 'land', 'wrong_fragment', 'urgent', 'hot', \n",
    "           'num_failed_logins', 'logged_in', 'lnum_compromised', 'lroot_shell', 'lsu_attempted', 'lnum_root', 'lnum_file_creations', \n",
    "           'lnum_shells', 'lnum_access_files', 'lnum_outbound_cmds', 'is_host_login', 'is_guest_login', 'count', 'srv_count', 'serror_rate', \n",
    "           'srv_serror_rate', 'rerror_rate', 'srv_rerror_rate', 'same_srv_rate', 'diff_srv_rate', 'srv_diff_host_rate', 'dst_host_count', \n",
    "           'dst_host_srv_count', 'dst_host_same_srv_rate', 'dst_host_diff_srv_rate', 'dst_host_same_src_port_rate', 'dst_host_srv_diff_host_rate', \n",
    "           'dst_host_serror_rate', 'dst_host_srv_serror_rate', 'dst_host_rerror_rate', 'dst_host_srv_rerror_rate', 'label']"
   ]
  },
  {
   "cell_type": "code",
   "execution_count": 4,
   "id": "70684d97",
   "metadata": {},
   "outputs": [],
   "source": [
    "# TRAIN_DATA_PATH = 'C:\\\\Users\\\\Qin\\\\Desktop\\\\UNSW-NB 15\\\\UNSW_NB15_training-set.csv'\n",
    "TRAIN_DATA_PATH = 'C:\\\\Users\\\\Qin\\\\Desktop\\\\kddcup\\\\train_10_percent_kddcup.csv'\n",
    "TEST_DATA_PATH = 'C:\\\\Users\\\\Qin\\\\Desktop\\\\kddcup\\\\test_10_percent_kddcup.csv'"
   ]
  },
  {
   "cell_type": "code",
   "execution_count": 5,
   "id": "7b8bdb5b",
   "metadata": {},
   "outputs": [
    {
     "name": "stderr",
     "output_type": "stream",
     "text": [
      "C:\\Users\\Qin\\Anaconda3\\lib\\site-packages\\IPython\\core\\interactiveshell.py:3166: DtypeWarning: Columns (2) have mixed types. Specify dtype option on import or set low_memory=False.\n",
      "  interactivity=interactivity, compiler=compiler, result=result)\n"
     ]
    }
   ],
   "source": [
    "train_df = pd.read_csv(TRAIN_DATA_PATH, header = None, names = feather)\n",
    "test_df = pd.read_csv(TEST_DATA_PATH, header = None, names = feather)"
   ]
  },
  {
   "cell_type": "code",
   "execution_count": 6,
   "id": "9b463a93",
   "metadata": {},
   "outputs": [],
   "source": [
    "train_df = train_df[train_df['label'] == 0]"
   ]
  },
  {
   "cell_type": "code",
   "execution_count": 7,
   "id": "a7bbc849",
   "metadata": {},
   "outputs": [],
   "source": [
    "y_label = test_df.iloc[ : , 41 : 42]"
   ]
  },
  {
   "cell_type": "code",
   "execution_count": 8,
   "id": "34432861",
   "metadata": {},
   "outputs": [],
   "source": [
    "# 删除所有分类列\n",
    "train_df.drop(['protocol_type', 'service', 'flag', 'land', 'logged_in', 'is_host_login', 'is_guest_login', 'label'], axis = 1, inplace = True)\n",
    "# 删除无标准偏差的列\n",
    "train_df.drop(['wrong_fragment', 'urgent', 'num_failed_logins', 'lsu_attempted', 'lnum_file_creations', 'lnum_outbound_cmds'], axis = 1, inplace = True)\n",
    "\n",
    "# 删除所有分类列\n",
    "test_df.drop(['protocol_type', 'service', 'flag', 'land', 'logged_in', 'is_host_login', 'is_guest_login', 'label'], axis = 1, inplace = True)\n",
    "# 删除无标准偏差的列\n",
    "test_df.drop(['wrong_fragment', 'urgent', 'num_failed_logins', 'lsu_attempted', 'lnum_file_creations', 'lnum_outbound_cmds'], axis = 1, inplace = True)"
   ]
  },
  {
   "cell_type": "code",
   "execution_count": 9,
   "id": "4d824352",
   "metadata": {},
   "outputs": [],
   "source": [
    "# train\n",
    "# 采用主成分分析法对数据进行降维，覆盖原始数据80%的方差\n",
    "# ｎ＿components：指定希望PCA降维后的特征维度数目\n",
    "# 最常用的做法是直接指定降维到的维度数目，此时n_components是一个大于等于1的整数。\n",
    "# 当然，我们也可以指定主成分的方差和所占的最小比例阈值，让PCA类自己去根据样本特征方差来决定降维到的维度数，\n",
    "# 此时n_components是一个（0，1]之间的数。\n",
    "pca = PCA(n_components = 0.8)\n",
    "pca.fit(train_df)\n",
    "\n",
    "pca_cols = ['PCA_' + str(i) for i in range(pca.n_components_)]\n",
    "train_df = pd.DataFrame(pca.transform(train_df), columns = pca_cols)\n",
    "test_df = pd.DataFrame(pca.transform(test_df), columns = pca_cols)"
   ]
  },
  {
   "cell_type": "code",
   "execution_count": 10,
   "id": "1ef3cc15",
   "metadata": {},
   "outputs": [],
   "source": [
    "model = DAGMM(\n",
    "    comp_hiddens=[60, 30, 10, 1], comp_activation=tf.nn.tanh,\n",
    "    est_hiddens=[10, 4], est_dropout_ratio=0.5, est_activation=tf.nn.tanh,\n",
    "    learning_rate=0.001, epoch_size=50, minibatch_size=64, random_seed=1111\n",
    ")"
   ]
  },
  {
   "cell_type": "code",
   "execution_count": 11,
   "id": "e28461f3",
   "metadata": {},
   "outputs": [],
   "source": [
    "model = DAGMM(\n",
    "    comp_hiddens=[60, 30, 10, 1], comp_activation=tf.nn.tanh,\n",
    "    est_hiddens=[10, 4], est_dropout_ratio=0.5, est_activation=tf.nn.tanh,\n",
    "    learning_rate=0.0001, epoch_size=200, minibatch_size=1024, random_seed=1111\n",
    ")"
   ]
  },
  {
   "cell_type": "code",
   "execution_count": 12,
   "id": "86ab68bc",
   "metadata": {},
   "outputs": [
    {
     "name": "stdout",
     "output_type": "stream",
     "text": [
      "WARNING:tensorflow:From C:\\Users\\Qin\\PycharmProjects\\0 allservice_delete_pca\\dagmm\\compression_net.py:43: dense (from tensorflow.python.layers.core) is deprecated and will be removed in a future version.\n",
      "Instructions for updating:\n",
      "Use keras.layers.Dense instead.\n",
      "WARNING:tensorflow:From C:\\Users\\Qin\\Anaconda3\\lib\\site-packages\\tensorflow_core\\python\\layers\\core.py:187: Layer.apply (from tensorflow.python.keras.engine.base_layer) is deprecated and will be removed in a future version.\n",
      "Instructions for updating:\n",
      "Please use `layer.__call__` method instead.\n",
      "WARNING:tensorflow:From C:\\Users\\Qin\\Anaconda3\\lib\\site-packages\\tensorflow_core\\python\\ops\\resource_variable_ops.py:1635: calling BaseResourceVariable.__init__ (from tensorflow.python.ops.resource_variable_ops) with constraint is deprecated and will be removed in a future version.\n",
      "Instructions for updating:\n",
      "If using Keras pass *_constraint arguments to layers.\n",
      "WARNING:tensorflow:From C:\\Users\\Qin\\PycharmProjects\\0 allservice_delete_pca\\dagmm\\estimation_net.py:55: dropout (from tensorflow.python.layers.core) is deprecated and will be removed in a future version.\n",
      "Instructions for updating:\n",
      "Use keras.layers.dropout instead.\n"
     ]
    },
    {
     "name": "stderr",
     "output_type": "stream",
     "text": [
      "C:\\Users\\Qin\\Anaconda3\\lib\\site-packages\\ipykernel_launcher.py:1: DeprecationWarning: time.clock has been deprecated in Python 3.3 and will be removed from Python 3.8: use time.perf_counter or time.process_time instead\n",
      "  \"\"\"Entry point for launching an IPython kernel.\n"
     ]
    },
    {
     "name": "stdout",
     "output_type": "stream",
     "text": [
      " epoch 100/200 : loss = 0.895\n",
      " epoch 200/200 : loss = 0.713\n",
      "Time :  215.9270139\n"
     ]
    },
    {
     "name": "stderr",
     "output_type": "stream",
     "text": [
      "C:\\Users\\Qin\\Anaconda3\\lib\\site-packages\\ipykernel_launcher.py:3: DeprecationWarning: time.clock has been deprecated in Python 3.3 and will be removed from Python 3.8: use time.perf_counter or time.process_time instead\n",
      "  This is separate from the ipykernel package so we can avoid doing imports until\n"
     ]
    }
   ],
   "source": [
    "start = time.clock()\n",
    "model.fit(train_df)\n",
    "end = time.clock()\n",
    "print('Time : ', (end - start))"
   ]
  },
  {
   "cell_type": "code",
   "execution_count": null,
   "id": "0a9f27ba",
   "metadata": {},
   "outputs": [],
   "source": []
  },
  {
   "cell_type": "code",
   "execution_count": 13,
   "id": "f7ed1d5e",
   "metadata": {},
   "outputs": [
    {
     "name": "stderr",
     "output_type": "stream",
     "text": [
      "C:\\Users\\Qin\\Anaconda3\\lib\\site-packages\\ipykernel_launcher.py:1: DeprecationWarning: time.clock has been deprecated in Python 3.3 and will be removed from Python 3.8: use time.perf_counter or time.process_time instead\n",
      "  \"\"\"Entry point for launching an IPython kernel.\n"
     ]
    },
    {
     "name": "stdout",
     "output_type": "stream",
     "text": [
      "Time :  0.6798515000000123\n"
     ]
    },
    {
     "name": "stderr",
     "output_type": "stream",
     "text": [
      "C:\\Users\\Qin\\Anaconda3\\lib\\site-packages\\ipykernel_launcher.py:3: DeprecationWarning: time.clock has been deprecated in Python 3.3 and will be removed from Python 3.8: use time.perf_counter or time.process_time instead\n",
      "  This is separate from the ipykernel package so we can avoid doing imports until\n"
     ]
    }
   ],
   "source": [
    "start = time.clock()\n",
    "y_pred = model.predict(test_df)\n",
    "end = time.clock()\n",
    "print('Time : ', (end - start))"
   ]
  },
  {
   "cell_type": "code",
   "execution_count": 14,
   "id": "44258219",
   "metadata": {},
   "outputs": [
    {
     "name": "stdout",
     "output_type": "stream",
     "text": [
      "Energy thleshold to detect anomaly : -5.188\n"
     ]
    }
   ],
   "source": [
    "# Energy thleshold to detect anomaly = 80% percentile of energies\n",
    "anomaly_energy_threshold = np.percentile(y_pred, 60)\n",
    "print(f\"Energy thleshold to detect anomaly : {anomaly_energy_threshold:.3f}\")"
   ]
  },
  {
   "cell_type": "code",
   "execution_count": 15,
   "id": "b65b4f7c",
   "metadata": {},
   "outputs": [],
   "source": [
    "# Detect anomalies from test data\n",
    "y_pred_flag = np.where(y_pred >= anomaly_energy_threshold, 1, 0)"
   ]
  },
  {
   "cell_type": "code",
   "execution_count": 16,
   "id": "aa60aa36",
   "metadata": {},
   "outputs": [],
   "source": [
    "y_labels = pd.Series([0 if i == 0 else 1 for i in y_label['label']])"
   ]
  },
  {
   "cell_type": "code",
   "execution_count": 17,
   "id": "4c18dc9d",
   "metadata": {},
   "outputs": [
    {
     "data": {
      "text/plain": [
       "0         0\n",
       "1         0\n",
       "2         0\n",
       "3         1\n",
       "4         1\n",
       "         ..\n",
       "311024    0\n",
       "311025    0\n",
       "311026    0\n",
       "311027    0\n",
       "311028    0\n",
       "Length: 311029, dtype: int64"
      ]
     },
     "execution_count": 17,
     "metadata": {},
     "output_type": "execute_result"
    }
   ],
   "source": [
    "y_labels"
   ]
  },
  {
   "cell_type": "code",
   "execution_count": 18,
   "id": "e8bb6da8",
   "metadata": {},
   "outputs": [
    {
     "data": {
      "text/plain": [
       "array([0, 0, 0, ..., 0, 0, 0])"
      ]
     },
     "execution_count": 18,
     "metadata": {},
     "output_type": "execute_result"
    }
   ],
   "source": [
    "y_pred_flag"
   ]
  },
  {
   "cell_type": "code",
   "execution_count": 19,
   "id": "af3ca842",
   "metadata": {},
   "outputs": [
    {
     "name": "stdout",
     "output_type": "stream",
     "text": [
      " Precision = 0.92776\n",
      " Recall    = 0.46457\n",
      " F1-Score  = 0.61912\n",
      " AUC  = 0.65753\n"
     ]
    }
   ],
   "source": [
    "prec, recall, fscore, _ = precision_recall_fscore_support(y_labels, y_pred_flag, average=\"binary\")\n",
    "auc = roc_auc_score(y_labels, y_pred_flag)\n",
    "print(f\" Precision = {prec:.5f}\")\n",
    "print(f\" Recall    = {recall:.5f}\")\n",
    "print(f\" F1-Score  = {fscore:.5f}\")\n",
    "print(f\" AUC  = {auc:.5f}\")"
   ]
  },
  {
   "cell_type": "code",
   "execution_count": 20,
   "id": "4cf0625b",
   "metadata": {},
   "outputs": [
    {
     "data": {
      "text/plain": [
       "array([[ 51534,   9059],\n",
       "       [134091, 116345]], dtype=int64)"
      ]
     },
     "execution_count": 20,
     "metadata": {},
     "output_type": "execute_result"
    }
   ],
   "source": [
    "confusion_matrix(y_labels, y_pred_flag)"
   ]
  },
  {
   "cell_type": "code",
   "execution_count": 21,
   "id": "5cca5687",
   "metadata": {},
   "outputs": [
    {
     "data": {
      "text/plain": [
       "0.5397535278060889"
      ]
     },
     "execution_count": 21,
     "metadata": {},
     "output_type": "execute_result"
    }
   ],
   "source": [
    "(51534 + 116345) / len(y_labels)"
   ]
  },
  {
   "cell_type": "code",
   "execution_count": 22,
   "id": "f30b5d18",
   "metadata": {},
   "outputs": [
    {
     "name": "stderr",
     "output_type": "stream",
     "text": [
      "C:\\Users\\Qin\\Anaconda3\\lib\\site-packages\\ipykernel_launcher.py:1: DeprecationWarning: time.clock has been deprecated in Python 3.3 and will be removed from Python 3.8: use time.perf_counter or time.process_time instead\n",
      "  \"\"\"Entry point for launching an IPython kernel.\n"
     ]
    }
   ],
   "source": [
    "second = time.clock()"
   ]
  },
  {
   "cell_type": "code",
   "execution_count": 23,
   "id": "71de7343",
   "metadata": {},
   "outputs": [
    {
     "name": "stdout",
     "output_type": "stream",
     "text": [
      "time :  220.1142396\n"
     ]
    }
   ],
   "source": [
    "print('time : ', (second - first))"
   ]
  },
  {
   "cell_type": "code",
   "execution_count": null,
   "id": "903b7f9e",
   "metadata": {},
   "outputs": [],
   "source": []
  },
  {
   "cell_type": "code",
   "execution_count": null,
   "id": "f072debf",
   "metadata": {},
   "outputs": [],
   "source": []
  }
 ],
 "metadata": {
  "kernelspec": {
   "display_name": "Python 3",
   "language": "python",
   "name": "python3"
  },
  "language_info": {
   "codemirror_mode": {
    "name": "ipython",
    "version": 3
   },
   "file_extension": ".py",
   "mimetype": "text/x-python",
   "name": "python",
   "nbconvert_exporter": "python",
   "pygments_lexer": "ipython3",
   "version": "3.7.4"
  }
 },
 "nbformat": 4,
 "nbformat_minor": 5
}
