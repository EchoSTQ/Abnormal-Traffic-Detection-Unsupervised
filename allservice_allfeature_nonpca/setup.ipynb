{
 "cells": [
  {
   "cell_type": "code",
   "execution_count": null,
   "id": "operational-vault",
   "metadata": {},
   "outputs": [],
   "source": [
    "from distutils.core import setup\n",
    "\n",
    "setup(\n",
    "    name='DAGMM',\n",
    "    packages=['dagmm',],\n",
    "    license='MIT License',\n",
    "    author='Toshihiro NAKAE',\n",
    "    description='UNOFFICIAL implementation of the paper Deep Autoencoding Gaussian Mixture Model for Unsupervised Anomaly Detection [Bo Zong et al (2018)]',\n",
    "    long_description=open('README.md').read(),\n",
    ")"
   ]
  }
 ],
 "metadata": {
  "kernelspec": {
   "display_name": "Python 3",
   "language": "python",
   "name": "python3"
  },
  "language_info": {
   "codemirror_mode": {
    "name": "ipython",
    "version": 3
   },
   "file_extension": ".py",
   "mimetype": "text/x-python",
   "name": "python",
   "nbconvert_exporter": "python",
   "pygments_lexer": "ipython3",
   "version": "3.7.4"
  }
 },
 "nbformat": 4,
 "nbformat_minor": 5
}
