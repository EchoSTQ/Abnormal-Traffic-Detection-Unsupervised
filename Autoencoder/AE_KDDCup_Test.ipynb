{
 "cells": [
  {
   "cell_type": "code",
   "execution_count": 1,
   "id": "6ace4943",
   "metadata": {},
   "outputs": [],
   "source": [
    "# 建模与训练\n",
    "def getModel():\n",
    "    input_layer = Input(shape=(x.shape[1],))\n",
    "    encoded = Dense(8, activation='relu', activity_regularizer=regularizers.l2(10e-5))(input_layer)  # l2正则化约束\n",
    "    decoded = Dense(x.shape[1], activation='relu')(encoded)\n",
    "    autoencoder = Model(input_layer, decoded)\n",
    "    autoencoder.compile(optimizer='adam', loss='mean_squared_error')\n",
    "    return autoencoder"
   ]
  },
  {
   "cell_type": "code",
   "execution_count": 2,
   "id": "feb0fe79",
   "metadata": {},
   "outputs": [],
   "source": [
    "# calculate_losses是一个辅助函数，计算每个数据样本的重建损失\n",
    "def calculate_losses(x, preds):\n",
    "    losses = np.zeros(len(x))\n",
    "    for i in range(len(x)):\n",
    "        losses[i] = ((preds[i] - x[i]) ** 2).mean(axis=None)\n",
    "    return losses"
   ]
  },
  {
   "cell_type": "code",
   "execution_count": 3,
   "id": "73ac6126",
   "metadata": {},
   "outputs": [
    {
     "name": "stderr",
     "output_type": "stream",
     "text": [
      "Using TensorFlow backend.\n"
     ]
    }
   ],
   "source": [
    "import time\n",
    "import pandas as pd\n",
    "import numpy as np\n",
    "import pickle\n",
    "import matplotlib.pyplot as plt\n",
    "plt.style.use('seaborn')\n",
    "import tensorflow as tf\n",
    "import seaborn as sns\n",
    "from sklearn.model_selection import train_test_split\n",
    "from keras.models import Model, load_model\n",
    "from keras.layers import Input, Dense\n",
    "from keras.callbacks import ModelCheckpoint\n",
    "from keras import regularizers\n",
    "from sklearn.preprocessing import StandardScaler\n",
    "from sklearn.metrics import roc_curve, auc, precision_recall_curve"
   ]
  },
  {
   "cell_type": "code",
   "execution_count": 4,
   "id": "4807acb7",
   "metadata": {},
   "outputs": [],
   "source": [
    "# 手动添加特征，训练集42，测试集41\n",
    "\n",
    "feather = ['duration', 'protocol_type', 'service', 'flag', 'src_bytes', 'dst_bytes', 'land', 'wrong_fragment', 'urgent', 'hot', \n",
    "           'num_failed_logins', 'logged_in', 'lnum_compromised', 'lroot_shell', 'lsu_attempted', 'lnum_root', 'lnum_file_creations', \n",
    "           'lnum_shells', 'lnum_access_files', 'lnum_outbound_cmds', 'is_host_login', 'is_guest_login', 'count', 'srv_count', 'serror_rate', \n",
    "           'srv_serror_rate', 'rerror_rate', 'srv_rerror_rate', 'same_srv_rate', 'diff_srv_rate', 'srv_diff_host_rate', 'dst_host_count', \n",
    "           'dst_host_srv_count', 'dst_host_same_srv_rate', 'dst_host_diff_srv_rate', 'dst_host_same_src_port_rate', 'dst_host_srv_diff_host_rate', \n",
    "           'dst_host_serror_rate', 'dst_host_srv_serror_rate', 'dst_host_rerror_rate', 'dst_host_srv_rerror_rate', 'label']"
   ]
  },
  {
   "cell_type": "code",
   "execution_count": 5,
   "id": "aaefce95",
   "metadata": {},
   "outputs": [],
   "source": [
    "# TRAIN_DATA_PATH = 'C:\\\\Users\\\\Qin\\\\Desktop\\\\UNSW-NB 15\\\\UNSW_NB15_training-set.csv'\n",
    "TRAIN_DATA_PATH = 'C:\\\\Users\\\\Qin\\\\Desktop\\\\kddcup\\\\train_10_percent_kddcup.csv'\n",
    "TEST_DATA_PATH = 'C:\\\\Users\\\\Qin\\\\Desktop\\\\kddcup\\\\test_10_percent_kddcup.csv'"
   ]
  },
  {
   "cell_type": "code",
   "execution_count": 6,
   "id": "8ab7684f",
   "metadata": {},
   "outputs": [
    {
     "name": "stderr",
     "output_type": "stream",
     "text": [
      "C:\\Users\\Qin\\Anaconda3\\lib\\site-packages\\IPython\\core\\interactiveshell.py:3166: DtypeWarning: Columns (2) have mixed types. Specify dtype option on import or set low_memory=False.\n",
      "  interactivity=interactivity, compiler=compiler, result=result)\n"
     ]
    }
   ],
   "source": [
    "train_df = pd.read_csv(TRAIN_DATA_PATH, header = None, names = feather)\n",
    "test_df = pd.read_csv(TEST_DATA_PATH, header = None, names = feather)"
   ]
  },
  {
   "cell_type": "code",
   "execution_count": 7,
   "id": "3fe5d143",
   "metadata": {},
   "outputs": [
    {
     "data": {
      "image/png": "[encoded data removed]",
      "text/plain": [
       "<Figure size 576x396 with 1 Axes>"
      ]
     },
     "metadata": {},
     "output_type": "display_data"
    }
   ],
   "source": [
    "# 读取数据\n",
    "# 查看样本比例\n",
    "normal = np.sum(train_df['label'] == 0)\n",
    "anomaly = np.sum(train_df['label'] != 0)\n",
    "plt.bar(['normal', 'anomaly'], [normal, anomaly], color='dodgerblue')\n",
    "plt.show()"
   ]
  },
  {
   "cell_type": "code",
   "execution_count": 8,
   "id": "6cd4aa5e",
   "metadata": {},
   "outputs": [],
   "source": [
    "train_df = train_df[train_df['label'] == 0]"
   ]
  },
  {
   "cell_type": "code",
   "execution_count": 9,
   "id": "fd14191b",
   "metadata": {},
   "outputs": [],
   "source": [
    "testLabel = test_df['label']"
   ]
  },
  {
   "cell_type": "code",
   "execution_count": 10,
   "id": "9bba7e6d",
   "metadata": {},
   "outputs": [],
   "source": [
    "test_normal = test_df[test_df['label'] == 0]\n",
    "test_anomaly = test_df[test_df['label'] != 0]"
   ]
  },
  {
   "cell_type": "code",
   "execution_count": 11,
   "id": "c7c83c25",
   "metadata": {},
   "outputs": [
    {
     "name": "stderr",
     "output_type": "stream",
     "text": [
      "C:\\Users\\Qin\\Anaconda3\\lib\\site-packages\\pandas\\core\\frame.py:4102: SettingWithCopyWarning: \n",
      "A value is trying to be set on a copy of a slice from a DataFrame\n",
      "\n",
      "See the caveats in the documentation: http://pandas.pydata.org/pandas-docs/stable/user_guide/indexing.html#returning-a-view-versus-a-copy\n",
      "  errors=errors,\n"
     ]
    }
   ],
   "source": [
    "# 删除所有分类列\n",
    "train_df.drop(['protocol_type', 'service', 'flag', 'land', 'logged_in', 'is_host_login', 'is_guest_login', 'label'], axis = 1, inplace = True)\n",
    "# 删除无标准偏差的列\n",
    "# train_df.drop(['wrong_fragment', 'urgent', 'num_failed_logins', 'lsu_attempted', 'lnum_file_creations', 'lnum_outbound_cmds'], axis = 1, inplace = True)\n",
    "\n",
    "# 删除所有分类列\n",
    "test_normal.drop(['protocol_type', 'service', 'flag', 'land', 'logged_in', 'is_host_login', 'is_guest_login', 'label'], axis = 1, inplace = True)\n",
    "# 删除无标准偏差的列\n",
    "# test_normal.drop(['wrong_fragment', 'urgent', 'num_failed_logins', 'lsu_attempted', 'lnum_file_creations', 'lnum_outbound_cmds'], axis = 1, inplace = True)\n",
    "\n",
    "# 删除所有分类列\n",
    "test_anomaly.drop(['protocol_type', 'service', 'flag', 'land', 'logged_in', 'is_host_login', 'is_guest_login', 'label'], axis = 1, inplace = True)\n",
    "# 删除无标准偏差的列\n",
    "# test_anomaly.drop(['wrong_fragment', 'urgent', 'num_failed_logins', 'lsu_attempted', 'lnum_file_creations', 'lnum_outbound_cmds'], axis = 1, inplace = True)"
   ]
  },
  {
   "cell_type": "code",
   "execution_count": null,
   "id": "d7ce49ee",
   "metadata": {},
   "outputs": [],
   "source": []
  },
  {
   "cell_type": "code",
   "execution_count": 12,
   "id": "59882dbc",
   "metadata": {},
   "outputs": [],
   "source": [
    "# 设置Autoencoder的参数\n",
    "# 隐藏层节点数分别为16，8，8，16\n",
    "# epoch为50，batch size为32\n",
    "input_dim = train_df.shape[1]\n",
    "encoding_dim = 16\n",
    "num_epoch = 50\n",
    "batch_size = 64\n",
    "\n",
    "input_layer = Input(shape=(input_dim, ))\n",
    "# 五层结构:X -> 16 -> 8 -> 16 -> X'\n",
    "encoder = Dense(encoding_dim, activation=\"tanh\", \n",
    "                activity_regularizer=regularizers.l1(10e-5))(input_layer)\n",
    "encoder = Dense(int(encoding_dim / 2), activation=\"relu\")(encoder)\n",
    "decoder = Dense(int(encoding_dim / 2), activation='tanh')(encoder)\n",
    "decoder = Dense(input_dim, activation='relu')(decoder)\n",
    "\n",
    "autoencoder = Model(inputs=input_layer, outputs=decoder)\n",
    "autoencoder.compile(optimizer='adam', \n",
    "                    loss='mean_squared_error', \n",
    "                    metrics=['mae'])"
   ]
  },
  {
   "cell_type": "code",
   "execution_count": 13,
   "id": "142c4431",
   "metadata": {},
   "outputs": [
    {
     "name": "stderr",
     "output_type": "stream",
     "text": [
      "C:\\Users\\Qin\\Anaconda3\\lib\\site-packages\\ipykernel_launcher.py:5: DeprecationWarning: time.clock has been deprecated in Python 3.3 and will be removed from Python 3.8: use time.perf_counter or time.process_time instead\n",
      "  \"\"\"\n"
     ]
    },
    {
     "name": "stdout",
     "output_type": "stream",
     "text": [
      "Train on 97278 samples, validate on 60593 samples\n",
      "Epoch 1/50\n",
      "97278/97278 [==============================] - 3s 30us/step - loss: 76418711.0641 - mae: 150.2713 - val_loss: 73530977.3120 - val_mae: 139.3516\n",
      "Epoch 2/50\n",
      "97278/97278 [==============================] - 2s 24us/step - loss: 76416375.8878 - mae: 149.5554 - val_loss: 73528870.9566 - val_mae: 138.6229\n",
      "Epoch 3/50\n",
      "97278/97278 [==============================] - 2s 23us/step - loss: 76414255.1876 - mae: 148.9307 - val_loss: 73526874.4900 - val_mae: 137.9509\n",
      "Epoch 4/50\n",
      "97278/97278 [==============================] - 2s 24us/step - loss: 76412169.4962 - mae: 148.3560 - val_loss: 73524849.0010 - val_mae: 137.2984\n",
      "Epoch 5/50\n",
      "97278/97278 [==============================] - 2s 25us/step - loss: 76410088.1444 - mae: 147.8117 - val_loss: 73522861.6182 - val_mae: 136.6707\n",
      "Epoch 6/50\n",
      "97278/97278 [==============================] - 2s 25us/step - loss: 76408032.3300 - mae: 147.3031 - val_loss: 73520841.2226 - val_mae: 136.0718loss: 64441782.8716 - mae: 13 - ETA: 0s - loss: 60156499.3343 - - ETA: 0s - loss: 5702338\n",
      "Epoch 7/50\n",
      "97278/97278 [==============================] - 2s 24us/step - loss: 76405987.4984 - mae: 146.8082 - val_loss: 73518932.8136 - val_mae: 135.5052\n",
      "Epoch 8/50\n",
      "97278/97278 [==============================] - 2s 24us/step - loss: 76403963.3484 - mae: 146.3296 - val_loss: 73516972.6557 - val_mae: 134.9549\n",
      "Epoch 9/50\n",
      "97278/97278 [==============================] - 2s 24us/step - loss: 76401999.1171 - mae: 145.8530 - val_loss: 73515127.2161 - val_mae: 134.4185\n",
      "Epoch 10/50\n",
      "97278/97278 [==============================] - 2s 23us/step - loss: 76399998.7709 - mae: 145.3746 - val_loss: 73513125.2274 - val_mae: 133.8875\n",
      "Epoch 11/50\n",
      "97278/97278 [==============================] - 2s 23us/step - loss: 76398041.8082 - mae: 144.9303 - val_loss: 73511326.4967 - val_mae: 133.3855\n",
      "Epoch 12/50\n",
      "97278/97278 [==============================] - 2s 24us/step - loss: 76396168.8302 - mae: 144.5166 - val_loss: 73509535.0233 - val_mae: 132.9062\n",
      "Epoch 13/50\n",
      "97278/97278 [==============================] - 2s 23us/step - loss: 76394236.9593 - mae: 144.1087 - val_loss: 73507717.9323 - val_mae: 132.4483s - loss: - ETA: 0s - loss: 81765266.2815 - mae\n",
      "Epoch 14/50\n",
      "97278/97278 [==============================] - 2s 24us/step - loss: 76392355.4032 - mae: 143.7180 - val_loss: 73505903.4073 - val_mae: 132.0192\n",
      "Epoch 15/50\n",
      "97278/97278 [==============================] - 2s 25us/step - loss: 76390493.3649 - mae: 143.3392 - val_loss: 73504172.6935 - val_mae: 131.6094\n",
      "Epoch 16/50\n",
      "97278/97278 [==============================] - 2s 24us/step - loss: 76388674.0071 - mae: 142.9938 - val_loss: 73502477.7758 - val_mae: 131.2301: 92476808.5448 - - ETA: 0s - loss: 85517298.82 - ETA: 0s - loss: 76156010.8956 - mae: 142.\n",
      "Epoch 17/50\n",
      "97278/97278 [==============================] - 2s 24us/step - loss: 76386846.8400 - mae: 142.6623 - val_loss: 73500735.7106 - val_mae: 130.8871. - ETA: 0s - loss: 77391906.1943 - mae: 142.86\n",
      "Epoch 18/50\n",
      "97278/97278 [==============================] - 2s 23us/step - loss: 76385026.7208 - mae: 142.3552 - val_loss: 73498983.4662 - val_mae: 130.5531\n",
      "Epoch 19/50\n",
      "97278/97278 [==============================] - 2s 24us/step - loss: 76383189.5153 - mae: 142.0878 - val_loss: 73497249.1447 - val_mae: 130.3353\n",
      "Epoch 20/50\n",
      "97278/97278 [==============================] - 2s 24us/step - loss: 76381405.3718 - mae: 141.8633 - val_loss: 73495633.2188 - val_mae: 130.1660\n",
      "Epoch 21/50\n",
      "97278/97278 [==============================] - 2s 24us/step - loss: 76379646.6961 - mae: 141.6505 - val_loss: 73493954.4973 - val_mae: 129.9924\n",
      "Epoch 22/50\n",
      "97278/97278 [==============================] - 2s 23us/step - loss: 76377850.2246 - mae: 141.4448 - val_loss: 73492240.5107 - val_mae: 129.8637\n",
      "Epoch 23/50\n",
      "97278/97278 [==============================] - 2s 23us/step - loss: 76376017.7711 - mae: 141.2650 - val_loss: 73490490.9222 - val_mae: 129.7013\n",
      "Epoch 24/50\n",
      "97278/97278 [==============================] - 2s 23us/step - loss: 76374244.8862 - mae: 141.0764 - val_loss: 73488852.2176 - val_mae: 129.5805\n",
      "Epoch 25/50\n",
      "97278/97278 [==============================] - 2s 23us/step - loss: 76372496.4236 - mae: 140.9074 - val_loss: 73487209.6492 - val_mae: 129.4628loss: 7879687 - ETA: 0s - loss: 87572818.7776 - mae: 14 - ETA: 0s - loss: 81482674.7234\n",
      "Epoch 26/50\n",
      "97278/97278 [==============================] - 2s 24us/step - loss: 76370768.8370 - mae: 140.7340 - val_loss: 73485566.4238 - val_mae: 129.3149\n",
      "Epoch 27/50\n",
      "97278/97278 [==============================] - 2s 23us/step - loss: 76368987.6412 - mae: 140.5707 - val_loss: 73483854.4771 - val_mae: 129.141566555876.6684 - mae: \n",
      "Epoch 28/50\n",
      "97278/97278 [==============================] - 2s 24us/step - loss: 76367227.7723 - mae: 140.4030 - val_loss: 73482210.5464 - val_mae: 129.01369553 - mae: 14 - ETA: 0s - loss: 832\n",
      "Epoch 29/50\n",
      "97278/97278 [==============================] - 2s 23us/step - loss: 76365497.6969 - mae: 140.2507 - val_loss: 73480601.2755 - val_mae: 128.8957\n",
      "Epoch 30/50\n",
      "97278/97278 [==============================] - 2s 24us/step - loss: 76363771.9832 - mae: 140.1017 - val_loss: 73478953.7095 - val_mae: 128.7731\n",
      "Epoch 31/50\n",
      "97278/97278 [==============================] - 2s 23us/step - loss: 76362033.8213 - mae: 139.9453 - val_loss: 73477263.3117 - val_mae: 128.6166\n",
      "Epoch 32/50\n",
      "97278/97278 [==============================] - 2s 24us/step - loss: 76360254.0536 - mae: 139.7859 - val_loss: 73475588.5603 - val_mae: 128.4815loss: 52594726.4036 - mae - ETA: 0s - loss: 70505270.\n",
      "Epoch 33/50\n",
      "97278/97278 [==============================] - 2s 23us/step - loss: 76358538.7734 - mae: 139.6216 - val_loss: 73473959.9892 - val_mae: 128.3814\n",
      "Epoch 34/50\n",
      "97278/97278 [==============================] - 2s 23us/step - loss: 76356787.1720 - mae: 139.4483 - val_loss: 73472308.6187 - val_mae: 128.1315\n",
      "Epoch 35/50\n",
      "97278/97278 [==============================] - 2s 23us/step - loss: 76355105.0456 - mae: 139.2590 - val_loss: 73470729.4110 - val_mae: 127.9774: 8\n",
      "Epoch 36/50\n",
      "97278/97278 [==============================] - 2s 23us/step - loss: 76353401.5451 - mae: 139.0797 - val_loss: 73469068.8547 - val_mae: 127.7765ss: 80497744.00 - ETA: 0s - loss: 68220963.07 - ETA: 0s - loss: 67371302.3349 - mae\n",
      "Epoch 37/50\n",
      "97278/97278 [==============================] - 2s 23us/step - loss: 76351706.3773 - mae: 138.8870 - val_loss: 73467495.7202 - val_mae: 127.5580\n",
      "Epoch 38/50\n",
      "97278/97278 [==============================] - 2s 23us/step - loss: 76349997.3778 - mae: 138.7024 - val_loss: 73465830.9869 - val_mae: 127.4579\n",
      "Epoch 39/50\n",
      "97278/97278 [==============================] - 2s 24us/step - loss: 76348306.4727 - mae: 138.5060 - val_loss: 73464244.5782 - val_mae: 127.3058s: 71674548.3242 - mae:  - ETA: 0s - loss: 6 - ETA: 0s - loss: 78248025.8612 - mae: 13\n",
      "Epoch 40/50\n",
      "97278/97278 [==============================] - 2s 24us/step - loss: 76346594.3310 - mae: 138.2843 - val_loss: 73462614.1765 - val_mae: 126.9512\n",
      "Epoch 41/50\n",
      "97278/97278 [==============================] - 2s 24us/step - loss: 76344946.5055 - mae: 138.0767 - val_loss: 73461061.5008 - val_mae: 126.8036\n",
      "Epoch 42/50\n",
      "97278/97278 [==============================] - 2s 23us/step - loss: 76343263.3361 - mae: 137.8782 - val_loss: 73459418.1524 - val_mae: 126.5781\n",
      "Epoch 43/50\n",
      "97278/97278 [==============================] - 2s 25us/step - loss: 76341579.0948 - mae: 137.6838 - val_loss: 73457819.5315 - val_mae: 126.4039\n",
      "Epoch 44/50\n",
      "97278/97278 [==============================] - 2s 24us/step - loss: 76339820.7841 - mae: 137.4995 - val_loss: 73456135.0073 - val_mae: 126.2123\n",
      "Epoch 45/50\n",
      "97278/97278 [==============================] - 2s 24us/step - loss: 76338119.3944 - mae: 137.3123 - val_loss: 73454493.3334 - val_mae: 126.0134\n",
      "Epoch 46/50\n",
      "97278/97278 [==============================] - 2s 25us/step - loss: 76336437.5113 - mae: 137.1371 - val_loss: 73452909.2808 - val_mae: 125.8670\n",
      "Epoch 47/50\n",
      "97278/97278 [==============================] - 2s 25us/step - loss: 76334777.3887 - mae: 136.9516 - val_loss: 73451342.6457 - val_mae: 125.7192\n",
      "Epoch 48/50\n",
      "97278/97278 [==============================] - 2s 24us/step - loss: 76333163.7186 - mae: 136.7648 - val_loss: 73449811.2371 - val_mae: 125.5490\n",
      "Epoch 49/50\n"
     ]
    },
    {
     "name": "stdout",
     "output_type": "stream",
     "text": [
      "97278/97278 [==============================] - 2s 25us/step - loss: 76331523.5414 - mae: 136.5799 - val_loss: 73448228.4572 - val_mae: 125.3633\n",
      "Epoch 50/50\n",
      "97278/97278 [==============================] - 2s 24us/step - loss: 76329915.3776 - mae: 136.4079 - val_loss: 73446722.6021 - val_mae: 125.2371\n",
      "Time :  118.3227609\n"
     ]
    },
    {
     "name": "stderr",
     "output_type": "stream",
     "text": [
      "C:\\Users\\Qin\\Anaconda3\\lib\\site-packages\\ipykernel_launcher.py:13: DeprecationWarning: time.clock has been deprecated in Python 3.3 and will be removed from Python 3.8: use time.perf_counter or time.process_time instead\n",
      "  del sys.path[0]\n"
     ]
    }
   ],
   "source": [
    "# 模型保存为SofaSofa_model.h5，并开始训练模型\n",
    "checkpointer = ModelCheckpoint(filepath=\"kddcup.h5\",\n",
    "                               verbose=0,\n",
    "                               save_best_only=True)\n",
    "start = time.clock()\n",
    "history = autoencoder.fit(train_df, train_df,\n",
    "                          epochs=num_epoch,\n",
    "                          batch_size=batch_size,\n",
    "                          shuffle=True,\n",
    "                          validation_data=(test_normal, test_normal),\n",
    "                          verbose=1, \n",
    "                          callbacks=[checkpointer]).history\n",
    "end = time.clock()\n",
    "print('Time : ', (end - start))"
   ]
  },
  {
   "cell_type": "code",
   "execution_count": 14,
   "id": "a73e2c8d",
   "metadata": {},
   "outputs": [
    {
     "data": {
      "image/png": "[encoded data removed]",
      "text/plain": [
       "<Figure size 1008x360 with 2 Axes>"
      ]
     },
     "metadata": {},
     "output_type": "display_data"
    }
   ],
   "source": [
    "# 画出损失函数曲线\n",
    "plt.figure(figsize=(14, 5))\n",
    "plt.subplot(121)\n",
    "plt.plot(history['loss'], c='dodgerblue', lw=3)\n",
    "plt.plot(history['val_loss'], c='coral', lw=3)\n",
    "plt.title('model loss')\n",
    "plt.ylabel('mse'); plt.xlabel('epoch')\n",
    "plt.legend(['train', 'test'], loc='upper right')\n",
    "\n",
    "plt.subplot(122)\n",
    "plt.plot(history['mae'], c='dodgerblue', lw=3)\n",
    "plt.plot(history['val_mae'], c='coral', lw=3)\n",
    "plt.title('model mae')\n",
    "plt.ylabel('mae'); plt.xlabel('epoch')\n",
    "plt.legend(['train', 'test'], loc='upper right');"
   ]
  },
  {
   "cell_type": "code",
   "execution_count": 15,
   "id": "098fa785",
   "metadata": {},
   "outputs": [
    {
     "name": "stderr",
     "output_type": "stream",
     "text": [
      "C:\\Users\\Qin\\Anaconda3\\lib\\site-packages\\ipykernel_launcher.py:5: DeprecationWarning: time.clock has been deprecated in Python 3.3 and will be removed from Python 3.8: use time.perf_counter or time.process_time instead\n",
      "  \"\"\"\n",
      "C:\\Users\\Qin\\Anaconda3\\lib\\site-packages\\ipykernel_launcher.py:8: DeprecationWarning: time.clock has been deprecated in Python 3.3 and will be removed from Python 3.8: use time.perf_counter or time.process_time instead\n",
      "  \n"
     ]
    },
    {
     "name": "stdout",
     "output_type": "stream",
     "text": [
      "Time :  2.3334383000000116\n"
     ]
    }
   ],
   "source": [
    "# 读取模型\n",
    "autoencoder = load_model('kddcup.h5')\n",
    "\n",
    "# 利用训练好的autoencoder重建测试集\n",
    "start = time.clock()\n",
    "pred_normal = autoencoder.predict(test_normal)\n",
    "pred_anomaly = autoencoder.predict(test_anomaly)\n",
    "end = time.clock()\n",
    "print('Time : ', (end - start))\n",
    "\n",
    "# 计算还原误差MSE和MAE\n",
    "mse_normal = np.mean(np.power(test_normal - pred_normal, 2), axis=1)\n",
    "mse_anomaly = np.mean(np.power(test_anomaly - pred_anomaly, 2), axis=1)\n",
    "mae_normal = np.mean(np.abs(test_normal - pred_normal), axis=1)\n",
    "mae_anomaly = np.mean(np.abs(test_anomaly - pred_anomaly), axis=1)\n",
    "mse_df = pd.DataFrame()\n",
    "mse_df['Label'] = [0] * len(mse_normal) + [1] * len(mse_anomaly)\n",
    "mse_df['MSE'] = np.hstack([mse_normal, mse_anomaly])\n",
    "mse_df['MAE'] = np.hstack([mae_normal, mae_anomaly])\n",
    "mse_df = mse_df.sample(frac=1).reset_index(drop=True)"
   ]
  },
  {
   "cell_type": "code",
   "execution_count": 17,
   "id": "faee46c2",
   "metadata": {},
   "outputs": [],
   "source": [
    "pred = pd.Series([0 if i == 0 else 1 for i in mse_df['Label']])"
   ]
  },
  {
   "cell_type": "code",
   "execution_count": 18,
   "id": "68d6b31c",
   "metadata": {},
   "outputs": [],
   "source": [
    "labels = pd.Series([0 if i == 0 else 1 for i in testLabel])"
   ]
  },
  {
   "cell_type": "code",
   "execution_count": 19,
   "id": "cab414f6",
   "metadata": {},
   "outputs": [
    {
     "data": {
      "text/plain": [
       "0         0\n",
       "1         0\n",
       "2         0\n",
       "3         1\n",
       "4         1\n",
       "         ..\n",
       "311024    0\n",
       "311025    0\n",
       "311026    0\n",
       "311027    0\n",
       "311028    0\n",
       "Length: 311029, dtype: int64"
      ]
     },
     "execution_count": 19,
     "metadata": {},
     "output_type": "execute_result"
    }
   ],
   "source": [
    "labels"
   ]
  },
  {
   "cell_type": "code",
   "execution_count": null,
   "id": "b720f486",
   "metadata": {},
   "outputs": [],
   "source": []
  },
  {
   "cell_type": "code",
   "execution_count": null,
   "id": "01b55c25",
   "metadata": {},
   "outputs": [],
   "source": []
  },
  {
   "cell_type": "code",
   "execution_count": 23,
   "id": "a1876756",
   "metadata": {},
   "outputs": [
    {
     "name": "stdout",
     "output_type": "stream",
     "text": [
      " Precision = 0.80575\n",
      " Recall    = 0.80575\n",
      " F1-Score  = 0.80575\n",
      " AUC  = 0.50146\n"
     ]
    }
   ],
   "source": [
    "prec, recall, fscore, _ = precision_recall_fscore_support(labels, pred, average=\"binary\")\n",
    "auc = roc_auc_score(labels, pred)\n",
    "print(f\" Precision = {prec:.5f}\")\n",
    "print(f\" Recall    = {recall:.5f}\")\n",
    "print(f\" F1-Score  = {fscore:.5f}\")\n",
    "print(f\" AUC  = {auc:.5f}\")"
   ]
  },
  {
   "cell_type": "code",
   "execution_count": 62,
   "id": "b54cceb7",
   "metadata": {},
   "outputs": [
    {
     "data": {
      "text/plain": [
       "array([[ 11947,  48646],\n",
       "       [ 48646, 201790]], dtype=int64)"
      ]
     },
     "execution_count": 62,
     "metadata": {},
     "output_type": "execute_result"
    }
   ],
   "source": [
    "confusion_matrix(labels, pred)"
   ]
  },
  {
   "cell_type": "code",
   "execution_count": 65,
   "id": "b1c6a972",
   "metadata": {},
   "outputs": [
    {
     "data": {
      "text/plain": [
       "0.6871931556221446"
      ]
     },
     "execution_count": 65,
     "metadata": {},
     "output_type": "execute_result"
    }
   ],
   "source": [
    "(11947 + 201790) / len(pred)"
   ]
  },
  {
   "cell_type": "code",
   "execution_count": 20,
   "id": "bd55852a",
   "metadata": {},
   "outputs": [],
   "source": [
    "from sklearn.metrics import precision_recall_fscore_support\n",
    "from sklearn.metrics import confusion_matrix, roc_auc_score, roc_curve, f1_score, precision_score, recall_score, accuracy_score"
   ]
  },
  {
   "cell_type": "code",
   "execution_count": 21,
   "id": "95381f70",
   "metadata": {},
   "outputs": [],
   "source": [
    "from sklearn.metrics import confusion_matrix"
   ]
  },
  {
   "cell_type": "code",
   "execution_count": null,
   "id": "d5c59725",
   "metadata": {},
   "outputs": [],
   "source": []
  },
  {
   "cell_type": "code",
   "execution_count": null,
   "id": "2f7b9bab",
   "metadata": {},
   "outputs": [],
   "source": [
    "# 分别画出测试集中正样本和负样本的还原误差MAE和MSE\n",
    "markers = ['o', '^']\n",
    "markers = ['o', '^']\n",
    "colors = ['dodgerblue', 'coral']\n",
    "labels = ['normal', 'Anomaly']\n",
    "\n",
    "plt.figure(figsize=(14, 5))\n",
    "plt.subplot(121)\n",
    "for flag in [1, 0]:\n",
    "    temp = mse_df[mse_df['Label'] == flag]\n",
    "    plt.scatter(temp.index, \n",
    "                temp['MAE'],  \n",
    "                alpha=0.7, \n",
    "                marker=markers[flag], \n",
    "                c=colors[flag], \n",
    "                label=labels[flag])\n",
    "plt.title('Reconstruction MAE')\n",
    "plt.ylabel('Reconstruction MAE'); plt.xlabel('Index')\n",
    "plt.subplot(122)\n",
    "for flag in [1, 0]:\n",
    "    temp = mse_df[mse_df['Label'] == flag]\n",
    "    plt.scatter(temp.index, \n",
    "                temp['MSE'],  \n",
    "                alpha=0.7, \n",
    "                marker=markers[flag], \n",
    "                c=colors[flag], \n",
    "                label=labels[flag])\n",
    "plt.legend(loc=[1, 0], fontsize=12); plt.title('Reconstruction MSE')\n",
    "plt.ylabel('Reconstruction MSE'); plt.xlabel('Index')\n",
    "plt.show()"
   ]
  },
  {
   "cell_type": "code",
   "execution_count": null,
   "id": "68e88b84",
   "metadata": {},
   "outputs": [],
   "source": [
    "# 画出Precision-Recall曲线\n",
    "plt.figure(figsize=(14, 6))\n",
    "for i, metric in enumerate(['MAE', 'MSE']):\n",
    "    plt.subplot(1, 2, i+1)\n",
    "    precision, recall, _ = precision_recall_curve(mse_df['Label'], mse_df[metric])\n",
    "    recallSum = 0\n",
    "    precisionSum = 0\n",
    "    for i in precision :\n",
    "        precisionSum += i\n",
    "    for i in recall :\n",
    "        recallSum += i\n",
    "        \n",
    "    precisionSum = precisionSum / len(precision)\n",
    "    recallSum = recallSum / len(recall)\n",
    "    print('precision = ', (metric, precisionSum))\n",
    "    print('recall = ', (metric, recallSum))\n",
    "    print('f1-score = ', (metric, (2 * precisionSum * recallSum / (precisionSum + recallSum))))\n",
    "    pr_auc = auc(recall, precision)\n",
    "    plt.title('Precision-Recall curve based on %s\\nAUC = %0.2f'%(metric, pr_auc))\n",
    "    plt.plot(recall[:-2], precision[:-2], c='coral', lw=4)\n",
    "    plt.xlabel('Recall'); plt.ylabel('Precision')\n",
    "plt.show()"
   ]
  },
  {
   "cell_type": "code",
   "execution_count": null,
   "id": "b699adfb",
   "metadata": {},
   "outputs": [],
   "source": [
    "# 画出ROC曲线\n",
    "plt.figure(figsize=(14, 6))\n",
    "for i, metric in enumerate(['MAE', 'MSE']):\n",
    "    plt.subplot(1, 2, i+1)\n",
    "    fpr, tpr, _ = roc_curve(mse_df['Label'], mse_df[metric])\n",
    "    roc_auc = auc(fpr, tpr)\n",
    "    plt.title('Receiver Operating Characteristic based on %s\\nAUC = %0.3f'%(metric, roc_auc))\n",
    "    plt.plot(fpr, tpr, c='coral', lw=4)\n",
    "    plt.plot([0,1],[0,1], c='dodgerblue', ls='--')\n",
    "    plt.ylabel('TPR'); plt.xlabel('FPR')\n",
    "plt.show()"
   ]
  },
  {
   "cell_type": "code",
   "execution_count": null,
   "id": "266fc64b",
   "metadata": {},
   "outputs": [],
   "source": [
    "# 画出MSE、MAE散点图\n",
    "markers = ['o', '^']\n",
    "colors = ['dodgerblue', 'coral']\n",
    "labels = ['normal', 'Anomaly']\n",
    "\n",
    "plt.figure(figsize=(10, 5))\n",
    "for flag in [1, 0]:\n",
    "    temp = mse_df[mse_df['Label'] == flag]\n",
    "    plt.scatter(temp['MAE'], \n",
    "                temp['MSE'],  \n",
    "                alpha=0.7, \n",
    "                marker=markers[flag], \n",
    "                c=colors[flag], \n",
    "                label=labels[flag])\n",
    "plt.legend(loc=[1, 0])\n",
    "plt.ylabel('Reconstruction RMSE'); plt.xlabel('Reconstruction MAE')\n",
    "plt.show()"
   ]
  },
  {
   "cell_type": "code",
   "execution_count": null,
   "id": "e27e25fd",
   "metadata": {},
   "outputs": [],
   "source": []
  }
 ],
 "metadata": {
  "kernelspec": {
   "display_name": "Python 3",
   "language": "python",
   "name": "python3"
  },
  "language_info": {
   "codemirror_mode": {
    "name": "ipython",
    "version": 3
   },
   "file_extension": ".py",
   "mimetype": "text/x-python",
   "name": "python",
   "nbconvert_exporter": "python",
   "pygments_lexer": "ipython3",
   "version": "3.7.4"
  }
 },
 "nbformat": 4,
 "nbformat_minor": 5
}
