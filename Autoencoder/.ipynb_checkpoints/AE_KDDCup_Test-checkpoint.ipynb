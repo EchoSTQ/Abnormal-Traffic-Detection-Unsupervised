{
 "cells": [
  {
   "cell_type": "code",
   "execution_count": 1,
   "id": "c6d57edc",
   "metadata": {},
   "outputs": [],
   "source": [
    "# 建模与训练\n",
    "def getModel():\n",
    "    input_layer = Input(shape=(x.shape[1],))\n",
    "    encoded = Dense(8, activation='relu', activity_regularizer=regularizers.l2(10e-5))(input_layer)  # l2正则化约束\n",
    "    decoded = Dense(x.shape[1], activation='relu')(encoded)\n",
    "    autoencoder = Model(input_layer, decoded)\n",
    "    autoencoder.compile(optimizer='adam', loss='mean_squared_error')\n",
    "    return autoencoder"
   ]
  },
  {
   "cell_type": "code",
   "execution_count": 2,
   "id": "ae94d8ce",
   "metadata": {},
   "outputs": [],
   "source": [
    "# calculate_losses是一个辅助函数，计算每个数据样本的重建损失\n",
    "def calculate_losses(x, preds):\n",
    "    losses = np.zeros(len(x))\n",
    "    for i in range(len(x)):\n",
    "        losses[i] = ((preds[i] - x[i]) ** 2).mean(axis=None)\n",
    "    return losses"
   ]
  },
  {
   "cell_type": "code",
   "execution_count": 3,
   "id": "4c3468ca",
   "metadata": {},
   "outputs": [
    {
     "name": "stderr",
     "output_type": "stream",
     "text": [
      "Using TensorFlow backend.\n"
     ]
    }
   ],
   "source": [
    "import time\n",
    "import pandas as pd\n",
    "import numpy as np\n",
    "import pickle\n",
    "import matplotlib.pyplot as plt\n",
    "plt.style.use('seaborn')\n",
    "import tensorflow as tf\n",
    "import seaborn as sns\n",
    "from sklearn.model_selection import train_test_split\n",
    "from keras.models import Model, load_model\n",
    "from keras.layers import Input, Dense\n",
    "from keras.callbacks import ModelCheckpoint\n",
    "from keras import regularizers\n",
    "from sklearn.preprocessing import StandardScaler\n",
    "from sklearn.metrics import roc_curve, auc, precision_recall_curve"
   ]
  },
  {
   "cell_type": "code",
   "execution_count": 4,
   "id": "e2682d70",
   "metadata": {},
   "outputs": [],
   "source": [
    "# 手动添加特征，训练集42，测试集41\n",
    "\n",
    "feather = ['duration', 'protocol_type', 'service', 'flag', 'src_bytes', 'dst_bytes', 'land', 'wrong_fragment', 'urgent', 'hot', \n",
    "           'num_failed_logins', 'logged_in', 'lnum_compromised', 'lroot_shell', 'lsu_attempted', 'lnum_root', 'lnum_file_creations', \n",
    "           'lnum_shells', 'lnum_access_files', 'lnum_outbound_cmds', 'is_host_login', 'is_guest_login', 'count', 'srv_count', 'serror_rate', \n",
    "           'srv_serror_rate', 'rerror_rate', 'srv_rerror_rate', 'same_srv_rate', 'diff_srv_rate', 'srv_diff_host_rate', 'dst_host_count', \n",
    "           'dst_host_srv_count', 'dst_host_same_srv_rate', 'dst_host_diff_srv_rate', 'dst_host_same_src_port_rate', 'dst_host_srv_diff_host_rate', \n",
    "           'dst_host_serror_rate', 'dst_host_srv_serror_rate', 'dst_host_rerror_rate', 'dst_host_srv_rerror_rate', 'label']"
   ]
  },
  {
   "cell_type": "code",
   "execution_count": 5,
   "id": "27b55176",
   "metadata": {},
   "outputs": [],
   "source": [
    "# TRAIN_DATA_PATH = 'C:\\\\Users\\\\Qin\\\\Desktop\\\\UNSW-NB 15\\\\UNSW_NB15_training-set.csv'\n",
    "TRAIN_DATA_PATH = 'C:\\\\Users\\\\Qin\\\\Desktop\\\\kddcup\\\\train_10_percent_kddcup.csv'\n",
    "TEST_DATA_PATH = 'C:\\\\Users\\\\Qin\\\\Desktop\\\\kddcup\\\\test_10_percent_kddcup.csv'"
   ]
  },
  {
   "cell_type": "code",
   "execution_count": 6,
   "id": "e03fd808",
   "metadata": {},
   "outputs": [
    {
     "name": "stderr",
     "output_type": "stream",
     "text": [
      "C:\\Users\\Qin\\Anaconda3\\lib\\site-packages\\IPython\\core\\interactiveshell.py:3166: DtypeWarning: Columns (2) have mixed types. Specify dtype option on import or set low_memory=False.\n",
      "  interactivity=interactivity, compiler=compiler, result=result)\n"
     ]
    }
   ],
   "source": [
    "train_df = pd.read_csv(TRAIN_DATA_PATH, header = None, names = feather)\n",
    "test_df = pd.read_csv(TEST_DATA_PATH, header = None, names = feather)"
   ]
  },
  {
   "cell_type": "code",
   "execution_count": 7,
   "id": "03929b21",
   "metadata": {},
   "outputs": [
    {
     "data": {
      "image/png": "[encoded data removed]",
      "text/plain": [
       "<Figure size 576x396 with 1 Axes>"
      ]
     },
     "metadata": {},
     "output_type": "display_data"
    }
   ],
   "source": [
    "# 读取数据\n",
    "# 查看样本比例\n",
    "normal = np.sum(train_df['label'] == 0)\n",
    "anomaly = np.sum(train_df['label'] != 0)\n",
    "plt.bar(['normal', 'anomaly'], [normal, anomaly], color='dodgerblue')\n",
    "plt.show()"
   ]
  },
  {
   "cell_type": "code",
   "execution_count": 8,
   "id": "af44657c",
   "metadata": {},
   "outputs": [],
   "source": [
    "train_df = train_df[train_df['label'] == 0]"
   ]
  },
  {
   "cell_type": "code",
   "execution_count": 9,
   "id": "ea4eb5a5",
   "metadata": {},
   "outputs": [],
   "source": [
    "testLabel = test_df['label']"
   ]
  },
  {
   "cell_type": "code",
   "execution_count": 10,
   "id": "61b3e6a3",
   "metadata": {},
   "outputs": [],
   "source": [
    "test_normal = test_df[test_df['label'] == 0]\n",
    "test_anomaly = test_df[test_df['label'] != 0]"
   ]
  },
  {
   "cell_type": "code",
   "execution_count": 11,
   "id": "cdbc9596",
   "metadata": {},
   "outputs": [
    {
     "name": "stderr",
     "output_type": "stream",
     "text": [
      "C:\\Users\\Qin\\Anaconda3\\lib\\site-packages\\pandas\\core\\frame.py:4102: SettingWithCopyWarning: \n",
      "A value is trying to be set on a copy of a slice from a DataFrame\n",
      "\n",
      "See the caveats in the documentation: http://pandas.pydata.org/pandas-docs/stable/user_guide/indexing.html#returning-a-view-versus-a-copy\n",
      "  errors=errors,\n"
     ]
    }
   ],
   "source": [
    "# 删除所有分类列\n",
    "train_df.drop(['protocol_type', 'service', 'flag', 'land', 'logged_in', 'is_host_login', 'is_guest_login', 'label'], axis = 1, inplace = True)\n",
    "# 删除无标准偏差的列\n",
    "train_df.drop(['wrong_fragment', 'urgent', 'num_failed_logins', 'lsu_attempted', 'lnum_file_creations', 'lnum_outbound_cmds'], axis = 1, inplace = True)\n",
    "\n",
    "# 删除所有分类列\n",
    "test_normal.drop(['protocol_type', 'service', 'flag', 'land', 'logged_in', 'is_host_login', 'is_guest_login', 'label'], axis = 1, inplace = True)\n",
    "# 删除无标准偏差的列\n",
    "test_normal.drop(['wrong_fragment', 'urgent', 'num_failed_logins', 'lsu_attempted', 'lnum_file_creations', 'lnum_outbound_cmds'], axis = 1, inplace = True)\n",
    "\n",
    "# 删除所有分类列\n",
    "test_anomaly.drop(['protocol_type', 'service', 'flag', 'land', 'logged_in', 'is_host_login', 'is_guest_login', 'label'], axis = 1, inplace = True)\n",
    "# 删除无标准偏差的列\n",
    "test_anomaly.drop(['wrong_fragment', 'urgent', 'num_failed_logins', 'lsu_attempted', 'lnum_file_creations', 'lnum_outbound_cmds'], axis = 1, inplace = True)"
   ]
  },
  {
   "cell_type": "code",
   "execution_count": null,
   "id": "b2a321b7",
   "metadata": {},
   "outputs": [],
   "source": []
  },
  {
   "cell_type": "code",
   "execution_count": 12,
   "id": "f99c356b",
   "metadata": {},
   "outputs": [],
   "source": [
    "# 设置Autoencoder的参数\n",
    "# 隐藏层节点数分别为16，8，8，16\n",
    "# epoch为50，batch size为32\n",
    "input_dim = train_df.shape[1]\n",
    "encoding_dim = 16\n",
    "num_epoch = 50\n",
    "batch_size = 64\n",
    "\n",
    "input_layer = Input(shape=(input_dim, ))\n",
    "# 五层结构:X -> 16 -> 8 -> 16 -> X'\n",
    "encoder = Dense(encoding_dim, activation=\"tanh\", \n",
    "                activity_regularizer=regularizers.l1(10e-5))(input_layer)\n",
    "encoder = Dense(int(encoding_dim / 2), activation=\"relu\")(encoder)\n",
    "decoder = Dense(int(encoding_dim / 2), activation='tanh')(encoder)\n",
    "decoder = Dense(input_dim, activation='relu')(decoder)\n",
    "\n",
    "autoencoder = Model(inputs=input_layer, outputs=decoder)\n",
    "autoencoder.compile(optimizer='adam', \n",
    "                    loss='mean_squared_error', \n",
    "                    metrics=['mae'])"
   ]
  },
  {
   "cell_type": "code",
   "execution_count": 13,
   "id": "cabb8826",
   "metadata": {},
   "outputs": [
    {
     "name": "stderr",
     "output_type": "stream",
     "text": [
      "C:\\Users\\Qin\\Anaconda3\\lib\\site-packages\\ipykernel_launcher.py:5: DeprecationWarning: time.clock has been deprecated in Python 3.3 and will be removed from Python 3.8: use time.perf_counter or time.process_time instead\n",
      "  \"\"\"\n"
     ]
    },
    {
     "name": "stdout",
     "output_type": "stream",
     "text": [
      "Train on 60593 samples, validate on 97278 samples\n",
      "Epoch 1/50\n",
      "60593/60593 [==============================] - 2s 39us/step - loss: 89289623.3867 - mae: 169.9161 - val_loss: 92793741.7358 - val_mae: 182.2615\n",
      "Epoch 2/50\n",
      "60593/60593 [==============================] - 2s 33us/step - loss: 89287755.2848 - mae: 169.2066 - val_loss: 92792200.6090 - val_mae: 181.7900\n",
      "Epoch 3/50\n",
      "60593/60593 [==============================] - 2s 33us/step - loss: 89286161.9750 - mae: 168.6616 - val_loss: 92790652.1845 - val_mae: 181.3062\n",
      "Epoch 4/50\n",
      "60593/60593 [==============================] - 2s 32us/step - loss: 89284515.9426 - mae: 168.0864 - val_loss: 92789043.0235 - val_mae: 180.8022\n",
      "Epoch 5/50\n",
      "60593/60593 [==============================] - 2s 31us/step - loss: 89282868.6199 - mae: 167.4975 - val_loss: 92787506.4632 - val_mae: 180.3070\n",
      "Epoch 6/50\n",
      "60593/60593 [==============================] - 2s 31us/step - loss: 89281337.5895 - mae: 166.9162 - val_loss: 92786072.2340 - val_mae: 179.8328\n",
      "Epoch 7/50\n",
      "60593/60593 [==============================] - 2s 33us/step - loss: 89279801.5342 - mae: 166.3559 - val_loss: 92784560.1575 - val_mae: 179.3550\n",
      "Epoch 8/50\n",
      "60593/60593 [==============================] - 2s 32us/step - loss: 89278254.0878 - mae: 165.7965 - val_loss: 92783082.2535 - val_mae: 178.8910\n",
      "Epoch 9/50\n",
      "60593/60593 [==============================] - 2s 34us/step - loss: 89276738.4093 - mae: 165.2551 - val_loss: 92781637.2544 - val_mae: 178.4433\n",
      "Epoch 10/50\n",
      "60593/60593 [==============================] - 2s 33us/step - loss: 89275169.4144 - mae: 164.7296 - val_loss: 92780095.4870 - val_mae: 177.9862\n",
      "Epoch 11/50\n",
      "60593/60593 [==============================] - 2s 32us/step - loss: 89273616.7422 - mae: 164.2134 - val_loss: 92778674.1803 - val_mae: 177.5603\n",
      "Epoch 12/50\n",
      "60593/60593 [==============================] - 2s 32us/step - loss: 89272207.7177 - mae: 163.7045 - val_loss: 92777347.0461 - val_mae: 177.1215\n",
      "Epoch 13/50\n",
      "60593/60593 [==============================] - 2s 32us/step - loss: 89270759.7900 - mae: 163.2105 - val_loss: 92775929.5314 - val_mae: 176.7255\n",
      "Epoch 14/50\n",
      "60593/60593 [==============================] - 2s 33us/step - loss: 89269243.5538 - mae: 162.7278 - val_loss: 92774459.3610 - val_mae: 176.3450\n",
      "Epoch 15/50\n",
      "60593/60593 [==============================] - 2s 31us/step - loss: 89267793.4530 - mae: 162.2376 - val_loss: 92773114.5358 - val_mae: 175.9414\n",
      "Epoch 16/50\n",
      "60593/60593 [==============================] - 2s 32us/step - loss: 89266346.6830 - mae: 161.7657 - val_loss: 92771722.3652 - val_mae: 175.5462\n",
      "Epoch 17/50\n",
      "60593/60593 [==============================] - 2s 32us/step - loss: 89264927.5958 - mae: 161.3041 - val_loss: 92770367.8268 - val_mae: 175.1990\n",
      "Epoch 18/50\n",
      "60593/60593 [==============================] - 2s 32us/step - loss: 89263487.2374 - mae: 160.8566 - val_loss: 92768980.4692 - val_mae: 174.8177\n",
      "Epoch 19/50\n",
      "60593/60593 [==============================] - 2s 32us/step - loss: 89262070.0884 - mae: 160.3953 - val_loss: 92767663.8847 - val_mae: 174.4476\n",
      "Epoch 20/50\n",
      "60593/60593 [==============================] - 2s 34us/step - loss: 89260646.1534 - mae: 159.9633 - val_loss: 92766286.7404 - val_mae: 174.0745\n",
      "Epoch 21/50\n",
      "60593/60593 [==============================] - 2s 33us/step - loss: 89259268.4606 - mae: 159.5372 - val_loss: 92764985.0031 - val_mae: 173.7622\n",
      "Epoch 22/50\n",
      "60593/60593 [==============================] - 2s 33us/step - loss: 89257926.5094 - mae: 159.1320 - val_loss: 92763709.8016 - val_mae: 173.4814\n",
      "Epoch 23/50\n",
      "60593/60593 [==============================] - 2s 31us/step - loss: 89256552.3146 - mae: 158.7431 - val_loss: 92762324.1097 - val_mae: 173.1642\n",
      "Epoch 24/50\n",
      "60593/60593 [==============================] - 2s 32us/step - loss: 89255180.1020 - mae: 158.3605 - val_loss: 92761066.1540 - val_mae: 172.9279\n",
      "Epoch 25/50\n",
      "60593/60593 [==============================] - 2s 31us/step - loss: 89253820.4317 - mae: 157.9841 - val_loss: 92759739.0281 - val_mae: 172.6052\n",
      "Epoch 26/50\n",
      "60593/60593 [==============================] - 2s 32us/step - loss: 89252478.5518 - mae: 157.6174 - val_loss: 92758442.6772 - val_mae: 172.2828\n",
      "Epoch 27/50\n",
      "60593/60593 [==============================] - 2s 33us/step - loss: 89251098.2271 - mae: 157.2541 - val_loss: 92757098.1299 - val_mae: 171.9306\n",
      "Epoch 28/50\n",
      "60593/60593 [==============================] - 2s 31us/step - loss: 89249740.0289 - mae: 156.9180 - val_loss: 92755810.9948 - val_mae: 171.7526\n",
      "Epoch 29/50\n",
      "60593/60593 [==============================] - 2s 32us/step - loss: 89248401.0973 - mae: 156.6250 - val_loss: 92754495.8705 - val_mae: 171.3908\n",
      "Epoch 30/50\n",
      "60593/60593 [==============================] - 2s 32us/step - loss: 89247067.5632 - mae: 156.3401 - val_loss: 92753215.0297 - val_mae: 171.1943\n",
      "Epoch 31/50\n",
      "60593/60593 [==============================] - 2s 32us/step - loss: 89245725.7246 - mae: 156.1324 - val_loss: 92751908.4565 - val_mae: 170.9482\n",
      "Epoch 32/50\n",
      "60593/60593 [==============================] - 2s 32us/step - loss: 89244379.1949 - mae: 155.9143 - val_loss: 92750622.2523 - val_mae: 170.7726\n",
      "Epoch 33/50\n",
      "60593/60593 [==============================] - 2s 32us/step - loss: 89243084.8403 - mae: 155.7303 - val_loss: 92749389.2848 - val_mae: 170.5623\n",
      "Epoch 34/50\n",
      "60593/60593 [==============================] - 2s 32us/step - loss: 89241770.6015 - mae: 155.5560 - val_loss: 92748081.2047 - val_mae: 170.4331\n",
      "Epoch 35/50\n",
      "60593/60593 [==============================] - 2s 32us/step - loss: 89240448.6340 - mae: 155.3951 - val_loss: 92746817.5606 - val_mae: 170.2139\n",
      "Epoch 36/50\n",
      "60593/60593 [==============================] - 2s 32us/step - loss: 89239157.4263 - mae: 155.2670 - val_loss: 92745560.5695 - val_mae: 170.1927\n",
      "Epoch 37/50\n",
      "60593/60593 [==============================] - 2s 33us/step - loss: 89237825.4307 - mae: 155.1205 - val_loss: 92744244.0131 - val_mae: 170.0346\n",
      "Epoch 38/50\n",
      "60593/60593 [==============================] - 2s 32us/step - loss: 89236532.4721 - mae: 155.0138 - val_loss: 92743027.9317 - val_mae: 169.8611\n",
      "Epoch 39/50\n",
      "60593/60593 [==============================] - 2s 33us/step - loss: 89235223.3820 - mae: 154.8782 - val_loss: 92741739.9405 - val_mae: 169.5848\n",
      "Epoch 40/50\n",
      "60593/60593 [==============================] - 2s 33us/step - loss: 89233894.8327 - mae: 154.7495 - val_loss: 92740464.7017 - val_mae: 169.4695\n",
      "Epoch 41/50\n",
      "60593/60593 [==============================] - 2s 31us/step - loss: 89232600.9318 - mae: 154.6469 - val_loss: 92739185.1464 - val_mae: 169.3513\n",
      "Epoch 42/50\n",
      "60593/60593 [==============================] - 2s 33us/step - loss: 89231281.9457 - mae: 154.4695 - val_loss: 92737909.8038 - val_mae: 169.2783\n",
      "Epoch 43/50\n",
      "60593/60593 [==============================] - 2s 32us/step - loss: 89229988.0996 - mae: 154.3225 - val_loss: 92736664.6666 - val_mae: 169.0994\n",
      "Epoch 44/50\n",
      "60593/60593 [==============================] - 2s 32us/step - loss: 89228701.0596 - mae: 154.1878 - val_loss: 92735378.6598 - val_mae: 169.0276\n",
      "Epoch 45/50\n",
      "60593/60593 [==============================] - 2s 31us/step - loss: 89227376.3432 - mae: 154.0671 - val_loss: 92734141.0609 - val_mae: 168.9523\n",
      "Epoch 46/50\n",
      "60593/60593 [==============================] - 2s 32us/step - loss: 89226089.0530 - mae: 153.9499 - val_loss: 92732870.9247 - val_mae: 168.7890\n",
      "Epoch 47/50\n",
      "60593/60593 [==============================] - 2s 33us/step - loss: 89224777.4094 - mae: 153.8146 - val_loss: 92731571.5338 - val_mae: 168.6256\n",
      "Epoch 48/50\n",
      "60593/60593 [==============================] - 2s 32us/step - loss: 89223458.5231 - mae: 153.6781 - val_loss: 92730322.7806 - val_mae: 168.5148\n",
      "Epoch 49/50\n",
      "60593/60593 [==============================] - 2s 32us/step - loss: 89222133.0581 - mae: 153.5398 - val_loss: 92729014.2951 - val_mae: 168.4123\n",
      "Epoch 50/50\n",
      "60593/60593 [==============================] - 2s 32us/step - loss: 89220852.4770 - mae: 153.3994 - val_loss: 92727805.4460 - val_mae: 168.4149\n",
      "Time :  99.7464766\n"
     ]
    },
    {
     "name": "stderr",
     "output_type": "stream",
     "text": [
      "C:\\Users\\Qin\\Anaconda3\\lib\\site-packages\\ipykernel_launcher.py:13: DeprecationWarning: time.clock has been deprecated in Python 3.3 and will be removed from Python 3.8: use time.perf_counter or time.process_time instead\n",
      "  del sys.path[0]\n"
     ]
    }
   ],
   "source": [
    "# 模型保存为SofaSofa_model.h5，并开始训练模型\n",
    "checkpointer = ModelCheckpoint(filepath=\"kddcup.h5\",\n",
    "                               verbose=0,\n",
    "                               save_best_only=True)\n",
    "start = time.clock()\n",
    "history = autoencoder.fit(train_df, train_df,\n",
    "                          epochs=num_epoch,\n",
    "                          batch_size=batch_size,\n",
    "                          shuffle=True,\n",
    "                          validation_data=(test_normal, test_normal),\n",
    "                          verbose=1, \n",
    "                          callbacks=[checkpointer]).history\n",
    "end = time.clock()\n",
    "print('Time : ', (end - start))"
   ]
  },
  {
   "cell_type": "code",
   "execution_count": 14,
   "id": "56c8b60d",
   "metadata": {},
   "outputs": [
    {
     "data": {
      "image/png": "[encoded data removed]",
      "text/plain": [
       "<Figure size 1008x360 with 2 Axes>"
      ]
     },
     "metadata": {},
     "output_type": "display_data"
    }
   ],
   "source": [
    "# 画出损失函数曲线\n",
    "plt.figure(figsize=(14, 5))\n",
    "plt.subplot(121)\n",
    "plt.plot(history['loss'], c='dodgerblue', lw=3)\n",
    "plt.plot(history['val_loss'], c='coral', lw=3)\n",
    "plt.title('model loss')\n",
    "plt.ylabel('mse'); plt.xlabel('epoch')\n",
    "plt.legend(['train', 'test'], loc='upper right')\n",
    "\n",
    "plt.subplot(122)\n",
    "plt.plot(history['mae'], c='dodgerblue', lw=3)\n",
    "plt.plot(history['val_mae'], c='coral', lw=3)\n",
    "plt.title('model mae')\n",
    "plt.ylabel('mae'); plt.xlabel('epoch')\n",
    "plt.legend(['train', 'test'], loc='upper right');"
   ]
  },
  {
   "cell_type": "code",
   "execution_count": 15,
   "id": "df782b9d",
   "metadata": {},
   "outputs": [
    {
     "name": "stderr",
     "output_type": "stream",
     "text": [
      "C:\\Users\\Qin\\Anaconda3\\lib\\site-packages\\ipykernel_launcher.py:5: DeprecationWarning: time.clock has been deprecated in Python 3.3 and will be removed from Python 3.8: use time.perf_counter or time.process_time instead\n",
      "  \"\"\"\n",
      "C:\\Users\\Qin\\Anaconda3\\lib\\site-packages\\ipykernel_launcher.py:8: DeprecationWarning: time.clock has been deprecated in Python 3.3 and will be removed from Python 3.8: use time.perf_counter or time.process_time instead\n",
      "  \n"
     ]
    },
    {
     "name": "stdout",
     "output_type": "stream",
     "text": [
      "Time :  3.5947266999999954\n"
     ]
    }
   ],
   "source": [
    "# 读取模型\n",
    "autoencoder = load_model('kddcup.h5')\n",
    "\n",
    "# 利用训练好的autoencoder重建测试集\n",
    "start = time.clock()\n",
    "pred_normal = autoencoder.predict(test_normal)\n",
    "pred_anomaly = autoencoder.predict(test_anomaly)\n",
    "end = time.clock()\n",
    "print('Time : ', (end - start))\n",
    "\n",
    "# 计算还原误差MSE和MAE\n",
    "mse_normal = np.mean(np.power(test_normal - pred_normal, 2), axis=1)\n",
    "mse_anomaly = np.mean(np.power(test_anomaly - pred_anomaly, 2), axis=1)\n",
    "mae_normal = np.mean(np.abs(test_normal - pred_normal), axis=1)\n",
    "mae_anomaly = np.mean(np.abs(test_anomaly - pred_anomaly), axis=1)\n",
    "mse_df = pd.DataFrame()\n",
    "mse_df['Label'] = [0] * len(mse_normal) + [1] * len(mse_anomaly)\n",
    "mse_df['MSE'] = np.hstack([mse_normal, mse_anomaly])\n",
    "mse_df['MAE'] = np.hstack([mae_normal, mae_anomaly])\n",
    "mse_df = mse_df.sample(frac=1).reset_index(drop=True)"
   ]
  },
  {
   "cell_type": "code",
   "execution_count": 16,
   "id": "553bbf1a",
   "metadata": {},
   "outputs": [
    {
     "data": {
      "text/plain": [
       "0         1\n",
       "1         0\n",
       "2         0\n",
       "3         1\n",
       "4         1\n",
       "         ..\n",
       "494016    1\n",
       "494017    0\n",
       "494018    1\n",
       "494019    1\n",
       "494020    1\n",
       "Name: Label, Length: 494021, dtype: int64"
      ]
     },
     "execution_count": 16,
     "metadata": {},
     "output_type": "execute_result"
    }
   ],
   "source": [
    "mse_df['Label']"
   ]
  },
  {
   "cell_type": "code",
   "execution_count": 17,
   "id": "56893417",
   "metadata": {},
   "outputs": [],
   "source": [
    "pred = pd.Series([0 if i == 0 else 1 for i in mse_df['Label']])"
   ]
  },
  {
   "cell_type": "code",
   "execution_count": 18,
   "id": "cca2c97c",
   "metadata": {},
   "outputs": [],
   "source": [
    "labels = pd.Series([0 if i == 0 else 1 for i in testLabel])"
   ]
  },
  {
   "cell_type": "code",
   "execution_count": 19,
   "id": "f543e371",
   "metadata": {},
   "outputs": [
    {
     "data": {
      "text/plain": [
       "0         0\n",
       "1         0\n",
       "2         0\n",
       "3         0\n",
       "4         0\n",
       "         ..\n",
       "494016    0\n",
       "494017    0\n",
       "494018    0\n",
       "494019    0\n",
       "494020    0\n",
       "Length: 494021, dtype: int64"
      ]
     },
     "execution_count": 19,
     "metadata": {},
     "output_type": "execute_result"
    }
   ],
   "source": [
    "labels"
   ]
  },
  {
   "cell_type": "code",
   "execution_count": null,
   "id": "c9981f79",
   "metadata": {},
   "outputs": [],
   "source": []
  },
  {
   "cell_type": "code",
   "execution_count": null,
   "id": "76e3bbab",
   "metadata": {},
   "outputs": [],
   "source": []
  },
  {
   "cell_type": "code",
   "execution_count": 21,
   "id": "62d81f74",
   "metadata": {},
   "outputs": [
    {
     "name": "stdout",
     "output_type": "stream",
     "text": [
      " Precision = 0.80320\n",
      " Recall    = 0.80320\n",
      " F1-Score  = 0.80320\n",
      " AUC  = 0.50029\n"
     ]
    }
   ],
   "source": [
    "prec, recall, fscore, _ = precision_recall_fscore_support(labels, pred, average=\"binary\")\n",
    "auc = roc_auc_score(labels, pred)\n",
    "print(f\" Precision = {prec:.5f}\")\n",
    "print(f\" Recall    = {recall:.5f}\")\n",
    "print(f\" F1-Score  = {fscore:.5f}\")\n",
    "print(f\" AUC  = {auc:.5f}\")"
   ]
  },
  {
   "cell_type": "code",
   "execution_count": 20,
   "id": "1e2b63ee",
   "metadata": {},
   "outputs": [],
   "source": [
    "from sklearn.metrics import precision_recall_fscore_support\n",
    "from sklearn.metrics import confusion_matrix, roc_auc_score, roc_curve, f1_score, precision_score, recall_score, accuracy_score"
   ]
  },
  {
   "cell_type": "code",
   "execution_count": null,
   "id": "1acf9b39",
   "metadata": {},
   "outputs": [],
   "source": []
  },
  {
   "cell_type": "code",
   "execution_count": null,
   "id": "eb165655",
   "metadata": {},
   "outputs": [],
   "source": []
  },
  {
   "cell_type": "code",
   "execution_count": null,
   "id": "5e483737",
   "metadata": {},
   "outputs": [],
   "source": []
  },
  {
   "cell_type": "code",
   "execution_count": null,
   "id": "19e81315",
   "metadata": {},
   "outputs": [],
   "source": [
    "# 分别画出测试集中正样本和负样本的还原误差MAE和MSE\n",
    "markers = ['o', '^']\n",
    "markers = ['o', '^']\n",
    "colors = ['dodgerblue', 'coral']\n",
    "labels = ['normal', 'Anomaly']\n",
    "\n",
    "plt.figure(figsize=(14, 5))\n",
    "plt.subplot(121)\n",
    "for flag in [1, 0]:\n",
    "    temp = mse_df[mse_df['Label'] == flag]\n",
    "    plt.scatter(temp.index, \n",
    "                temp['MAE'],  \n",
    "                alpha=0.7, \n",
    "                marker=markers[flag], \n",
    "                c=colors[flag], \n",
    "                label=labels[flag])\n",
    "plt.title('Reconstruction MAE')\n",
    "plt.ylabel('Reconstruction MAE'); plt.xlabel('Index')\n",
    "plt.subplot(122)\n",
    "for flag in [1, 0]:\n",
    "    temp = mse_df[mse_df['Label'] == flag]\n",
    "    plt.scatter(temp.index, \n",
    "                temp['MSE'],  \n",
    "                alpha=0.7, \n",
    "                marker=markers[flag], \n",
    "                c=colors[flag], \n",
    "                label=labels[flag])\n",
    "plt.legend(loc=[1, 0], fontsize=12); plt.title('Reconstruction MSE')\n",
    "plt.ylabel('Reconstruction MSE'); plt.xlabel('Index')\n",
    "plt.show()"
   ]
  },
  {
   "cell_type": "code",
   "execution_count": null,
   "id": "50406546",
   "metadata": {},
   "outputs": [],
   "source": [
    "# 画出Precision-Recall曲线\n",
    "plt.figure(figsize=(14, 6))\n",
    "for i, metric in enumerate(['MAE', 'MSE']):\n",
    "    plt.subplot(1, 2, i+1)\n",
    "    precision, recall, _ = precision_recall_curve(mse_df['Label'], mse_df[metric])\n",
    "    recallSum = 0\n",
    "    precisionSum = 0\n",
    "    for i in precision :\n",
    "        precisionSum += i\n",
    "    for i in recall :\n",
    "        recallSum += i\n",
    "        \n",
    "    precisionSum = precisionSum / len(precision)\n",
    "    recallSum = recallSum / len(recall)\n",
    "    print('precision = ', (metric, precisionSum))\n",
    "    print('recall = ', (metric, recallSum))\n",
    "    print('f1-score = ', (metric, (2 * precisionSum * recallSum / (precisionSum + recallSum))))\n",
    "    pr_auc = auc(recall, precision)\n",
    "    plt.title('Precision-Recall curve based on %s\\nAUC = %0.2f'%(metric, pr_auc))\n",
    "    plt.plot(recall[:-2], precision[:-2], c='coral', lw=4)\n",
    "    plt.xlabel('Recall'); plt.ylabel('Precision')\n",
    "plt.show()"
   ]
  },
  {
   "cell_type": "code",
   "execution_count": null,
   "id": "b361bf0f",
   "metadata": {},
   "outputs": [],
   "source": [
    "# 画出ROC曲线\n",
    "plt.figure(figsize=(14, 6))\n",
    "for i, metric in enumerate(['MAE', 'MSE']):\n",
    "    plt.subplot(1, 2, i+1)\n",
    "    fpr, tpr, _ = roc_curve(mse_df['Label'], mse_df[metric])\n",
    "    roc_auc = auc(fpr, tpr)\n",
    "    plt.title('Receiver Operating Characteristic based on %s\\nAUC = %0.3f'%(metric, roc_auc))\n",
    "    plt.plot(fpr, tpr, c='coral', lw=4)\n",
    "    plt.plot([0,1],[0,1], c='dodgerblue', ls='--')\n",
    "    plt.ylabel('TPR'); plt.xlabel('FPR')\n",
    "plt.show()"
   ]
  },
  {
   "cell_type": "code",
   "execution_count": null,
   "id": "64484674",
   "metadata": {},
   "outputs": [],
   "source": [
    "# 画出MSE、MAE散点图\n",
    "markers = ['o', '^']\n",
    "colors = ['dodgerblue', 'coral']\n",
    "labels = ['normal', 'Anomaly']\n",
    "\n",
    "plt.figure(figsize=(10, 5))\n",
    "for flag in [1, 0]:\n",
    "    temp = mse_df[mse_df['Label'] == flag]\n",
    "    plt.scatter(temp['MAE'], \n",
    "                temp['MSE'],  \n",
    "                alpha=0.7, \n",
    "                marker=markers[flag], \n",
    "                c=colors[flag], \n",
    "                label=labels[flag])\n",
    "plt.legend(loc=[1, 0])\n",
    "plt.ylabel('Reconstruction RMSE'); plt.xlabel('Reconstruction MAE')\n",
    "plt.show()"
   ]
  },
  {
   "cell_type": "code",
   "execution_count": null,
   "id": "f06aec25",
   "metadata": {},
   "outputs": [],
   "source": []
  }
 ],
 "metadata": {
  "kernelspec": {
   "display_name": "Python 3",
   "language": "python",
   "name": "python3"
  },
  "language_info": {
   "codemirror_mode": {
    "name": "ipython",
    "version": 3
   },
   "file_extension": ".py",
   "mimetype": "text/x-python",
   "name": "python",
   "nbconvert_exporter": "python",
   "pygments_lexer": "ipython3",
   "version": "3.7.4"
  }
 },
 "nbformat": 4,
 "nbformat_minor": 5
}
